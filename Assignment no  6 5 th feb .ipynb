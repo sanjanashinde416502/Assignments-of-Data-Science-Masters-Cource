{
 "cells": [
  {
   "cell_type": "code",
   "execution_count": 9,
   "id": "98b973f7-ac1e-4266-ada0-42b20aeb2273",
   "metadata": {},
   "outputs": [],
   "source": [
    "# Q.1 Explain class and object with respect to Object-Oriented programming .Give suitable example.\n",
    "\n",
    "# Class:\n",
    "#       Class is a blueprint which defines some properties and behaviours.\n",
    "\n",
    "# Object:\n",
    "#        An object is an instance of a class which has those properties attached.\n",
    "\n",
    "# example:\n",
    "class add:\n",
    "    \n",
    "    def add(self,a,b):\n",
    "        return a+b\n",
    " "
   ]
  },
  {
   "cell_type": "code",
   "execution_count": 10,
   "id": "de1ee89e-ba42-4f6e-ba0f-89bf4993241b",
   "metadata": {},
   "outputs": [],
   "source": [
    "s=add()"
   ]
  },
  {
   "cell_type": "code",
   "execution_count": 12,
   "id": "9f05af20-29cb-44ca-8bf6-19caf6fd7125",
   "metadata": {},
   "outputs": [
    {
     "data": {
      "text/plain": [
       "7"
      ]
     },
     "execution_count": 12,
     "metadata": {},
     "output_type": "execute_result"
    }
   ],
   "source": [
    "s.add(3,4)"
   ]
  },
  {
   "cell_type": "code",
   "execution_count": 13,
   "id": "a8672faf-70fa-4180-ac29-4acde751074f",
   "metadata": {},
   "outputs": [],
   "source": [
    "# Q.2 Name the four pillors of OOPs.\n",
    "\n",
    "# Following are four pillors of oop:\n",
    "\n",
    "# 1.Inheritance\n",
    "# 2.Polymorphism \n",
    "# 3.Encapsulation\n",
    "# 4.Abstraction"
   ]
  },
  {
   "cell_type": "code",
   "execution_count": 27,
   "id": "760ef708-a6a2-4232-8083-ee112c74b4f9",
   "metadata": {},
   "outputs": [],
   "source": [
    "# Q.3 Explain why the _init_ () function is used .Give a suitable example.\n",
    "\n",
    "# The _init_ funtion is mainly used to initialize specific state of the application.\n",
    "\n",
    "# Example:\n",
    "class student:\n",
    "        def stu_details(self,stud_id,stud_name):\n",
    "            self.stud_id= stud_id\n",
    "            self.stud_name=stud_name\n",
    "            \n",
    "            return self.stud_id,self.stud_name\n",
    "            \n",
    "            "
   ]
  },
  {
   "cell_type": "code",
   "execution_count": 28,
   "id": "8e54021d-d1e4-4c77-b9ca-a4401568b53d",
   "metadata": {},
   "outputs": [],
   "source": [
    "ram=student()"
   ]
  },
  {
   "cell_type": "code",
   "execution_count": 29,
   "id": "d84fc216-5847-499c-95fa-848812045853",
   "metadata": {},
   "outputs": [
    {
     "data": {
      "text/plain": [
       "(12, 'ram')"
      ]
     },
     "execution_count": 29,
     "metadata": {},
     "output_type": "execute_result"
    }
   ],
   "source": [
    "ram.stu_details(12,\"ram\")"
   ]
  },
  {
   "cell_type": "code",
   "execution_count": 1,
   "id": "723d7d9b-78d7-461a-bfaf-8508536047fe",
   "metadata": {},
   "outputs": [],
   "source": [
    "# Q.4 Why self is used in oops\n",
    "\n",
    "# Ans:\n",
    "#    'self' keyword represents the instance or object of the class . By using the'self' we can access the attributes and \n",
    "# methods of the class in python\n",
    "# it binds the attributes with the given arguments."
   ]
  },
  {
   "cell_type": "code",
   "execution_count": 5,
   "id": "c25d2127-0472-41d1-838c-83c43a2d7017",
   "metadata": {},
   "outputs": [],
   "source": [
    "# Q.5 What is inheritance .Give an example of each type of inheritance.\n",
    "\n",
    "# Inheritance:\n",
    "#           Inheritance is a process of obtaining properties and characterstics (variables and methods) of another class.\n",
    "\n",
    "# Following are types of inheritance:\n",
    "\n",
    "# 1.Single inheritance\n",
    "# 2.Multi-level inheritance\n",
    "# 3.Multiple inheritance\n",
    "# 4.Hierarchical inheritance\n",
    "# 5.Hybrid inheritance\n",
    "\n",
    "\n",
    "# Examples of types of iinheritance:\n",
    "\n",
    "# 1.Single inheritance:\n",
    "\n",
    "class  class1:\n",
    "    def test():\n",
    "        return \"This is class 1\""
   ]
  },
  {
   "cell_type": "code",
   "execution_count": 6,
   "id": "b9bc1089-80ac-4fed-8331-6b82c0d58825",
   "metadata": {},
   "outputs": [],
   "source": [
    "class class2(class1):\n",
    "    pass"
   ]
  },
  {
   "cell_type": "code",
   "execution_count": 7,
   "id": "1bae5975-ded6-4430-af1e-764d1c8d9ebf",
   "metadata": {},
   "outputs": [],
   "source": [
    "class2_obj=class2()"
   ]
  },
  {
   "cell_type": "code",
   "execution_count": 8,
   "id": "fbd5cc58-85c0-4aac-80cf-8e65059d3cf0",
   "metadata": {},
   "outputs": [
    {
     "data": {
      "text/plain": [
       "'This is class 1'"
      ]
     },
     "execution_count": 8,
     "metadata": {},
     "output_type": "execute_result"
    }
   ],
   "source": [
    "class2.test()"
   ]
  },
  {
   "cell_type": "code",
   "execution_count": 22,
   "id": "7860c355-c8cb-41f9-aaf2-ae208a4c9d19",
   "metadata": {},
   "outputs": [],
   "source": [
    "# 2.Multi-level inheritance:\n",
    "\n",
    "class class1:\n",
    "    def test1(self):\n",
    "        return \"This is class 1\""
   ]
  },
  {
   "cell_type": "code",
   "execution_count": 23,
   "id": "fb32f293-2649-41dc-aa12-85ce89cedf7c",
   "metadata": {},
   "outputs": [],
   "source": [
    "class class2(class1):\n",
    "    def test2(self):\n",
    "        return \"This is class 2\""
   ]
  },
  {
   "cell_type": "code",
   "execution_count": 24,
   "id": "300c1cab-4542-42aa-9657-08aa0072b772",
   "metadata": {},
   "outputs": [],
   "source": [
    "class class3(class2):\n",
    "    pass"
   ]
  },
  {
   "cell_type": "code",
   "execution_count": 25,
   "id": "02faebc3-6481-472d-8e2b-ead94bd16092",
   "metadata": {},
   "outputs": [],
   "source": [
    "class3_obj=class3()"
   ]
  },
  {
   "cell_type": "code",
   "execution_count": 26,
   "id": "47f97e7e-5cdf-4a10-9191-c5b69c4707dc",
   "metadata": {},
   "outputs": [
    {
     "data": {
      "text/plain": [
       "'This is class 1'"
      ]
     },
     "execution_count": 26,
     "metadata": {},
     "output_type": "execute_result"
    }
   ],
   "source": [
    "class3_obj.test1()"
   ]
  },
  {
   "cell_type": "code",
   "execution_count": 27,
   "id": "98cd747d-4bf6-460c-a616-f3d414df0a4b",
   "metadata": {},
   "outputs": [
    {
     "data": {
      "text/plain": [
       "'This is class 2'"
      ]
     },
     "execution_count": 27,
     "metadata": {},
     "output_type": "execute_result"
    }
   ],
   "source": [
    "class3_obj.test2()"
   ]
  },
  {
   "cell_type": "code",
   "execution_count": 28,
   "id": "8514093f-c93f-496e-90e4-9fe6812a67ca",
   "metadata": {},
   "outputs": [],
   "source": [
    "# 3.Multiple inheritance:\n",
    "\n",
    "class class1:\n",
    "    def test1(self):\n",
    "        return \"This is class 1\""
   ]
  },
  {
   "cell_type": "code",
   "execution_count": 29,
   "id": "bc906246-048f-4ce9-91c9-3c060bd29ddc",
   "metadata": {},
   "outputs": [],
   "source": [
    "class class2:\n",
    "    def test2(self):\n",
    "        return \"This is class 2\""
   ]
  },
  {
   "cell_type": "code",
   "execution_count": 30,
   "id": "6661ca43-a141-48a6-af6b-50e3712475af",
   "metadata": {},
   "outputs": [],
   "source": [
    "class class3(class1,class2):\n",
    "    pass"
   ]
  },
  {
   "cell_type": "code",
   "execution_count": 31,
   "id": "274ef015-0569-4721-a656-d4d4164eeef9",
   "metadata": {},
   "outputs": [],
   "source": [
    "class3_obj=class3()"
   ]
  },
  {
   "cell_type": "code",
   "execution_count": 32,
   "id": "d7bc7d27-e049-4905-a24d-94a0df6739c1",
   "metadata": {},
   "outputs": [
    {
     "data": {
      "text/plain": [
       "'This is class 1'"
      ]
     },
     "execution_count": 32,
     "metadata": {},
     "output_type": "execute_result"
    }
   ],
   "source": [
    "class3_obj.test1()"
   ]
  },
  {
   "cell_type": "code",
   "execution_count": 33,
   "id": "16c526ba-8779-4c37-adfc-4c740e292eb3",
   "metadata": {},
   "outputs": [
    {
     "data": {
      "text/plain": [
       "'This is class 2'"
      ]
     },
     "execution_count": 33,
     "metadata": {},
     "output_type": "execute_result"
    }
   ],
   "source": [
    "class3_obj.test2()"
   ]
  },
  {
   "cell_type": "code",
   "execution_count": null,
   "id": "cdc3b9b7-1d85-4ef8-a9fd-9a103aa5d323",
   "metadata": {},
   "outputs": [],
   "source": []
  }
 ],
 "metadata": {
  "kernelspec": {
   "display_name": "Python 3 (ipykernel)",
   "language": "python",
   "name": "python3"
  },
  "language_info": {
   "codemirror_mode": {
    "name": "ipython",
    "version": 3
   },
   "file_extension": ".py",
   "mimetype": "text/x-python",
   "name": "python",
   "nbconvert_exporter": "python",
   "pygments_lexer": "ipython3",
   "version": "3.10.8"
  }
 },
 "nbformat": 4,
 "nbformat_minor": 5
}
