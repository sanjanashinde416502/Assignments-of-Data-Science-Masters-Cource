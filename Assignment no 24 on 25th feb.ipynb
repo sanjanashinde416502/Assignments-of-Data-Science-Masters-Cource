{
 "cells": [
  {
   "cell_type": "code",
   "execution_count": 9,
   "id": "cd5288ee-d3a9-4bf1-a797-38bd8d4cd5b7",
   "metadata": {},
   "outputs": [],
   "source": [
    "# Consider following code to answer further questions:\n",
    "\n",
    "import pandas as pd\n",
    "course_name = ['Data Science', 'Machine Learning', 'Big Data', 'Data Engineer']\n",
    "duration =[2,3,6,4]\n",
    "df = pd.DataFrame({'course_name' : course_name, 'duration' : duration})"
   ]
  },
  {
   "cell_type": "code",
   "execution_count": 10,
   "id": "eadb11bf-0e33-4eea-9fd6-2cd7df9f2f85",
   "metadata": {},
   "outputs": [
    {
     "data": {
      "text/html": [
       "<div>\n",
       "<style scoped>\n",
       "    .dataframe tbody tr th:only-of-type {\n",
       "        vertical-align: middle;\n",
       "    }\n",
       "\n",
       "    .dataframe tbody tr th {\n",
       "        vertical-align: top;\n",
       "    }\n",
       "\n",
       "    .dataframe thead th {\n",
       "        text-align: right;\n",
       "    }\n",
       "</style>\n",
       "<table border=\"1\" class=\"dataframe\">\n",
       "  <thead>\n",
       "    <tr style=\"text-align: right;\">\n",
       "      <th></th>\n",
       "      <th>course_name</th>\n",
       "      <th>duration</th>\n",
       "    </tr>\n",
       "  </thead>\n",
       "  <tbody>\n",
       "    <tr>\n",
       "      <th>0</th>\n",
       "      <td>Data Science</td>\n",
       "      <td>2</td>\n",
       "    </tr>\n",
       "    <tr>\n",
       "      <th>1</th>\n",
       "      <td>Machine Learning</td>\n",
       "      <td>3</td>\n",
       "    </tr>\n",
       "    <tr>\n",
       "      <th>2</th>\n",
       "      <td>Big Data</td>\n",
       "      <td>6</td>\n",
       "    </tr>\n",
       "    <tr>\n",
       "      <th>3</th>\n",
       "      <td>Data Engineer</td>\n",
       "      <td>4</td>\n",
       "    </tr>\n",
       "  </tbody>\n",
       "</table>\n",
       "</div>"
      ],
      "text/plain": [
       "        course_name  duration\n",
       "0      Data Science         2\n",
       "1  Machine Learning         3\n",
       "2          Big Data         6\n",
       "3     Data Engineer         4"
      ]
     },
     "execution_count": 10,
     "metadata": {},
     "output_type": "execute_result"
    }
   ],
   "source": [
    "df"
   ]
  },
  {
   "cell_type": "code",
   "execution_count": 11,
   "id": "c37ffbb7-52ac-4eab-9715-a6e3fff96080",
   "metadata": {},
   "outputs": [
    {
     "name": "stdout",
     "output_type": "stream",
     "text": [
      "        course_name  duration\n",
      "1  Machine Learning         3\n"
     ]
    }
   ],
   "source": [
    "# Q.1 Write a code to print the data present in the second row of the dataframe, df.\n",
    "# Ans:\n",
    "s=df.iloc[[1]]\n",
    "print(s)\n"
   ]
  },
  {
   "cell_type": "code",
   "execution_count": 12,
   "id": "c6c71b8a-bfbf-44c0-933b-f78c253cc6e3",
   "metadata": {},
   "outputs": [],
   "source": [
    "# Q 2. What is the difference between the functions loc and iloc in pandas.DataFrame?\n",
    "# Ans:\n",
    "# loc:\n",
    "#    1.The loc function is primarily label-based, meaning it uses labels or row/column names to access data.\n",
    "#    2.It allows us to access data based on the index and column labels.\n",
    "#    3.We can use either single labels or lists of labels to specify the rows and columns we want to select.\n",
    "# The syntax for using loc :\n",
    "#     df.loc[row_label, column_label]. \n",
    "#     Here, the row_label can be a single label, a list of labels, or a slice. Similarly, the column_label can be a single label, a list of labels, or\n",
    "#     a slice.\n",
    "\n",
    "# iloc:\n",
    "#    1.The iloc function is integer-based, meaning it uses integer-based indexing to access data. \n",
    "#    2.It allows us to access data based on the integer position of rows and columns, starting from 0. \n",
    "#    3.We can use either single integers, lists of integers, or slices to specify the rows and columns we want to select. \n",
    "# The syntax for using iloc :\n",
    "#   df.iloc[row_index, column_index].\n",
    "#   Here, the row_index and column_index can be single integers, lists of integers, or slices."
   ]
  },
  {
   "cell_type": "code",
   "execution_count": 13,
   "id": "cf3d258f-a65b-4a38-86fa-c11dcd9116d6",
   "metadata": {},
   "outputs": [
    {
     "data": {
      "text/html": [
       "<div>\n",
       "<style scoped>\n",
       "    .dataframe tbody tr th:only-of-type {\n",
       "        vertical-align: middle;\n",
       "    }\n",
       "\n",
       "    .dataframe tbody tr th {\n",
       "        vertical-align: top;\n",
       "    }\n",
       "\n",
       "    .dataframe thead th {\n",
       "        text-align: right;\n",
       "    }\n",
       "</style>\n",
       "<table border=\"1\" class=\"dataframe\">\n",
       "  <thead>\n",
       "    <tr style=\"text-align: right;\">\n",
       "      <th></th>\n",
       "      <th>column_1</th>\n",
       "      <th>column_2</th>\n",
       "      <th>column_3</th>\n",
       "      <th>column_4</th>\n",
       "      <th>column_5</th>\n",
       "      <th>column_6</th>\n",
       "    </tr>\n",
       "  </thead>\n",
       "  <tbody>\n",
       "    <tr>\n",
       "      <th>3</th>\n",
       "      <td>0.162772</td>\n",
       "      <td>0.040301</td>\n",
       "      <td>0.625461</td>\n",
       "      <td>0.150940</td>\n",
       "      <td>0.538461</td>\n",
       "      <td>0.122803</td>\n",
       "    </tr>\n",
       "    <tr>\n",
       "      <th>0</th>\n",
       "      <td>NaN</td>\n",
       "      <td>NaN</td>\n",
       "      <td>NaN</td>\n",
       "      <td>NaN</td>\n",
       "      <td>NaN</td>\n",
       "      <td>NaN</td>\n",
       "    </tr>\n",
       "    <tr>\n",
       "      <th>1</th>\n",
       "      <td>0.657415</td>\n",
       "      <td>0.143109</td>\n",
       "      <td>0.599200</td>\n",
       "      <td>0.445019</td>\n",
       "      <td>0.605964</td>\n",
       "      <td>0.015956</td>\n",
       "    </tr>\n",
       "    <tr>\n",
       "      <th>2</th>\n",
       "      <td>0.239620</td>\n",
       "      <td>0.303032</td>\n",
       "      <td>0.751154</td>\n",
       "      <td>0.966915</td>\n",
       "      <td>0.235634</td>\n",
       "      <td>0.950135</td>\n",
       "    </tr>\n",
       "  </tbody>\n",
       "</table>\n",
       "</div>"
      ],
      "text/plain": [
       "   column_1  column_2  column_3  column_4  column_5  column_6\n",
       "3  0.162772  0.040301  0.625461  0.150940  0.538461  0.122803\n",
       "0       NaN       NaN       NaN       NaN       NaN       NaN\n",
       "1  0.657415  0.143109  0.599200  0.445019  0.605964  0.015956\n",
       "2  0.239620  0.303032  0.751154  0.966915  0.235634  0.950135"
      ]
     },
     "execution_count": 13,
     "metadata": {},
     "output_type": "execute_result"
    }
   ],
   "source": [
    "# Q 3.Reindex the given dataframe using a variable, reindex = [3,0,1,2] and store it in the variable, new_df \n",
    "# then find the output for both new_df.loc[2] and new_df.iloc[2].\n",
    "# Did you observe any difference in both the outputs? If so then explain it.\n",
    "\n",
    "# Consider the below code to answer further questions:\n",
    "import pandas as pd\n",
    "import numpy as np\n",
    "\n",
    "columns = ['column_1', 'column_2', 'column_3', 'column_4', 'column_5', 'column_6']\n",
    "\n",
    "indices = [1,2,3,4,5,6]\n",
    "\n",
    "#Creating a dataframe:\n",
    "\n",
    "df1 = pd.DataFrame(np.random.rand(6,6), columns = columns, index = indices)\n",
    "\n",
    "# Ans:\n",
    "reindex=[3,0,1,2]\n",
    "new_df=df1.reindex(reindex)\n",
    "new_df"
   ]
  },
  {
   "cell_type": "code",
   "execution_count": 14,
   "id": "67884214-eb73-4e35-9567-f6280fc121f1",
   "metadata": {},
   "outputs": [
    {
     "name": "stdout",
     "output_type": "stream",
     "text": [
      "column_1    0.239620\n",
      "column_2    0.303032\n",
      "column_3    0.751154\n",
      "column_4    0.966915\n",
      "column_5    0.235634\n",
      "column_6    0.950135\n",
      "Name: 2, dtype: float64\n"
     ]
    }
   ],
   "source": [
    "# printing new_df.loc[2]\n",
    "print(new_df.loc[2])"
   ]
  },
  {
   "cell_type": "code",
   "execution_count": 15,
   "id": "2cc2c32c-b503-4419-9577-99a50d11ed94",
   "metadata": {},
   "outputs": [
    {
     "name": "stdout",
     "output_type": "stream",
     "text": [
      "column_1    0.657415\n",
      "column_2    0.143109\n",
      "column_3    0.599200\n",
      "column_4    0.445019\n",
      "column_5    0.605964\n",
      "column_6    0.015956\n",
      "Name: 1, dtype: float64\n"
     ]
    }
   ],
   "source": [
    "# printing new_df.iloc[2]\n",
    "print(new_df.iloc[2])"
   ]
  },
  {
   "cell_type": "code",
   "execution_count": 16,
   "id": "4488b4a7-da59-4c8a-8b6c-aa11ca9b66f1",
   "metadata": {},
   "outputs": [],
   "source": [
    "# Did you observe any difference in both the outputs?\n",
    "# Ans: Yes\n",
    "# explaination :\n",
    "#   1.The .loc[] method is used to access rows based on their labels, while the .iloc[] method is used to access rows based on their integer positions.\n",
    "#   2.The difference between new_df.loc[2] and new_df.iloc[2] is that new_df.loc[2] will return the row labeled 2 in the DataFrame new_df, while new_df\n",
    "#     .iloc[2] will return the row at the integer position 2 in the DataFrame new_df after reindexing. "
   ]
  },
  {
   "cell_type": "code",
   "execution_count": 17,
   "id": "42c3e9f6-1ea6-4e1b-a840-bb9ce5aeb501",
   "metadata": {},
   "outputs": [
    {
     "data": {
      "text/html": [
       "<div>\n",
       "<style scoped>\n",
       "    .dataframe tbody tr th:only-of-type {\n",
       "        vertical-align: middle;\n",
       "    }\n",
       "\n",
       "    .dataframe tbody tr th {\n",
       "        vertical-align: top;\n",
       "    }\n",
       "\n",
       "    .dataframe thead th {\n",
       "        text-align: right;\n",
       "    }\n",
       "</style>\n",
       "<table border=\"1\" class=\"dataframe\">\n",
       "  <thead>\n",
       "    <tr style=\"text-align: right;\">\n",
       "      <th></th>\n",
       "      <th>column_1</th>\n",
       "      <th>column_2</th>\n",
       "      <th>column_3</th>\n",
       "      <th>column_4</th>\n",
       "      <th>column_5</th>\n",
       "      <th>column_6</th>\n",
       "    </tr>\n",
       "  </thead>\n",
       "  <tbody>\n",
       "    <tr>\n",
       "      <th>1</th>\n",
       "      <td>0.657415</td>\n",
       "      <td>0.143109</td>\n",
       "      <td>0.599200</td>\n",
       "      <td>0.445019</td>\n",
       "      <td>0.605964</td>\n",
       "      <td>0.015956</td>\n",
       "    </tr>\n",
       "    <tr>\n",
       "      <th>2</th>\n",
       "      <td>0.239620</td>\n",
       "      <td>0.303032</td>\n",
       "      <td>0.751154</td>\n",
       "      <td>0.966915</td>\n",
       "      <td>0.235634</td>\n",
       "      <td>0.950135</td>\n",
       "    </tr>\n",
       "    <tr>\n",
       "      <th>3</th>\n",
       "      <td>0.162772</td>\n",
       "      <td>0.040301</td>\n",
       "      <td>0.625461</td>\n",
       "      <td>0.150940</td>\n",
       "      <td>0.538461</td>\n",
       "      <td>0.122803</td>\n",
       "    </tr>\n",
       "    <tr>\n",
       "      <th>4</th>\n",
       "      <td>0.097631</td>\n",
       "      <td>0.220977</td>\n",
       "      <td>0.583295</td>\n",
       "      <td>0.765650</td>\n",
       "      <td>0.139966</td>\n",
       "      <td>0.859320</td>\n",
       "    </tr>\n",
       "    <tr>\n",
       "      <th>5</th>\n",
       "      <td>0.877872</td>\n",
       "      <td>0.675693</td>\n",
       "      <td>0.885485</td>\n",
       "      <td>0.408599</td>\n",
       "      <td>0.691912</td>\n",
       "      <td>0.652992</td>\n",
       "    </tr>\n",
       "    <tr>\n",
       "      <th>6</th>\n",
       "      <td>0.476038</td>\n",
       "      <td>0.501759</td>\n",
       "      <td>0.011902</td>\n",
       "      <td>0.060610</td>\n",
       "      <td>0.015878</td>\n",
       "      <td>0.778984</td>\n",
       "    </tr>\n",
       "  </tbody>\n",
       "</table>\n",
       "</div>"
      ],
      "text/plain": [
       "   column_1  column_2  column_3  column_4  column_5  column_6\n",
       "1  0.657415  0.143109  0.599200  0.445019  0.605964  0.015956\n",
       "2  0.239620  0.303032  0.751154  0.966915  0.235634  0.950135\n",
       "3  0.162772  0.040301  0.625461  0.150940  0.538461  0.122803\n",
       "4  0.097631  0.220977  0.583295  0.765650  0.139966  0.859320\n",
       "5  0.877872  0.675693  0.885485  0.408599  0.691912  0.652992\n",
       "6  0.476038  0.501759  0.011902  0.060610  0.015878  0.778984"
      ]
     },
     "execution_count": 17,
     "metadata": {},
     "output_type": "execute_result"
    }
   ],
   "source": [
    "# Q4. Write a code to find the following statistical measurements for the above dataframe df1:\n",
    "# (i) \tmean of each and every column present in the dataframe.\n",
    "# (ii) standard deviation of column, ‘column_2’\n",
    "# Ans:\n",
    "df1"
   ]
  },
  {
   "cell_type": "code",
   "execution_count": 18,
   "id": "d27a22b5-778a-4340-8645-02c363f0a566",
   "metadata": {},
   "outputs": [
    {
     "name": "stdout",
     "output_type": "stream",
     "text": [
      "mean of each and every column present in the dataframe :\n",
      "column_1    0.418558\n",
      "column_2    0.314145\n",
      "column_3    0.576083\n",
      "column_4    0.466289\n",
      "column_5    0.371303\n",
      "column_6    0.563365\n",
      "dtype: float64\n"
     ]
    }
   ],
   "source": [
    "print(\"mean of each and every column present in the dataframe :\")\n",
    "print(df1.mean())"
   ]
  },
  {
   "cell_type": "code",
   "execution_count": 19,
   "id": "f8c2184a-1261-4b97-adf2-1d3c94898fbb",
   "metadata": {},
   "outputs": [
    {
     "name": "stdout",
     "output_type": "stream",
     "text": [
      "standard deviation of column, ‘column_2’ :\n",
      "0.2362048527046597\n"
     ]
    }
   ],
   "source": [
    "print(\"standard deviation of column, ‘column_2’ :\")\n",
    "print(df1['column_2'].std())"
   ]
  },
  {
   "cell_type": "code",
   "execution_count": 20,
   "id": "37237005-ef7b-46d0-a924-f53c81abc70f",
   "metadata": {},
   "outputs": [
    {
     "data": {
      "text/html": [
       "<div>\n",
       "<style scoped>\n",
       "    .dataframe tbody tr th:only-of-type {\n",
       "        vertical-align: middle;\n",
       "    }\n",
       "\n",
       "    .dataframe tbody tr th {\n",
       "        vertical-align: top;\n",
       "    }\n",
       "\n",
       "    .dataframe thead th {\n",
       "        text-align: right;\n",
       "    }\n",
       "</style>\n",
       "<table border=\"1\" class=\"dataframe\">\n",
       "  <thead>\n",
       "    <tr style=\"text-align: right;\">\n",
       "      <th></th>\n",
       "      <th>column_1</th>\n",
       "      <th>column_2</th>\n",
       "      <th>column_3</th>\n",
       "      <th>column_4</th>\n",
       "      <th>column_5</th>\n",
       "      <th>column_6</th>\n",
       "    </tr>\n",
       "  </thead>\n",
       "  <tbody>\n",
       "    <tr>\n",
       "      <th>1</th>\n",
       "      <td>0.657415</td>\n",
       "      <td>0.143109</td>\n",
       "      <td>0.599200</td>\n",
       "      <td>0.445019</td>\n",
       "      <td>0.605964</td>\n",
       "      <td>0.015956</td>\n",
       "    </tr>\n",
       "    <tr>\n",
       "      <th>2</th>\n",
       "      <td>0.239620</td>\n",
       "      <td>0.303032</td>\n",
       "      <td>0.751154</td>\n",
       "      <td>0.966915</td>\n",
       "      <td>0.235634</td>\n",
       "      <td>0.950135</td>\n",
       "    </tr>\n",
       "    <tr>\n",
       "      <th>3</th>\n",
       "      <td>0.162772</td>\n",
       "      <td>0.040301</td>\n",
       "      <td>0.625461</td>\n",
       "      <td>0.150940</td>\n",
       "      <td>0.538461</td>\n",
       "      <td>0.122803</td>\n",
       "    </tr>\n",
       "    <tr>\n",
       "      <th>4</th>\n",
       "      <td>0.097631</td>\n",
       "      <td>0.220977</td>\n",
       "      <td>0.583295</td>\n",
       "      <td>0.765650</td>\n",
       "      <td>0.139966</td>\n",
       "      <td>0.859320</td>\n",
       "    </tr>\n",
       "    <tr>\n",
       "      <th>5</th>\n",
       "      <td>0.877872</td>\n",
       "      <td>0.675693</td>\n",
       "      <td>0.885485</td>\n",
       "      <td>0.408599</td>\n",
       "      <td>0.691912</td>\n",
       "      <td>0.652992</td>\n",
       "    </tr>\n",
       "    <tr>\n",
       "      <th>6</th>\n",
       "      <td>0.476038</td>\n",
       "      <td>0.501759</td>\n",
       "      <td>0.011902</td>\n",
       "      <td>0.060610</td>\n",
       "      <td>0.015878</td>\n",
       "      <td>0.778984</td>\n",
       "    </tr>\n",
       "  </tbody>\n",
       "</table>\n",
       "</div>"
      ],
      "text/plain": [
       "   column_1  column_2  column_3  column_4  column_5  column_6\n",
       "1  0.657415  0.143109  0.599200  0.445019  0.605964  0.015956\n",
       "2  0.239620  0.303032  0.751154  0.966915  0.235634  0.950135\n",
       "3  0.162772  0.040301  0.625461  0.150940  0.538461  0.122803\n",
       "4  0.097631  0.220977  0.583295  0.765650  0.139966  0.859320\n",
       "5  0.877872  0.675693  0.885485  0.408599  0.691912  0.652992\n",
       "6  0.476038  0.501759  0.011902  0.060610  0.015878  0.778984"
      ]
     },
     "execution_count": 20,
     "metadata": {},
     "output_type": "execute_result"
    }
   ],
   "source": [
    "df1"
   ]
  },
  {
   "cell_type": "code",
   "execution_count": 21,
   "id": "55083752-1461-4319-92cd-03a8883a9235",
   "metadata": {},
   "outputs": [
    {
     "name": "stdout",
     "output_type": "stream",
     "text": [
      "Mean of 'column_2':\n"
     ]
    }
   ],
   "source": [
    "# Q5. Replace the data present in the second row of column, ‘column_2’ by a string variable then find the mean of column, column_2.\n",
    "#     If you are getting errors in executing it then explain why.\n",
    "#     [Hint: To replace the data use df1.loc[] and equate this to string data of your choice.]\n",
    "# Ans:\n",
    "df1.loc[2, 'column_2'] = 'your_string_variable'\n",
    "\n",
    "# Calculate the mean of 'column_2': df1['column_2'].mean()\n",
    "print(\"Mean of 'column_2':\")\n",
    "# print(df1['column_2'].mean())\n",
    "\n",
    "# Yes I am getting error in executing it .\n",
    "# Explaination:\n",
    "#     As the 'column_2' column in df1 is initially created with a numeric data type, attempting to replace a row with a string will result in a\n",
    "# TypeError due to the data type mismatch. "
   ]
  },
  {
   "cell_type": "code",
   "execution_count": 22,
   "id": "3a41a1f7-f2a6-4dc3-98e8-ef8501107163",
   "metadata": {},
   "outputs": [],
   "source": [
    "# Q 6. What do you understand about the windows function in pandas and list the types of windows functions?\n",
    "# Ans:\n",
    "#      The term 'Windows functions' refers to operation that are applied to a subset of rows , or a window , within a dataframe or a series.athese fucntions enable performing calcuations\n",
    "# on a sliding or rolling window of data.\n",
    "# Pandas provides variety of window functions that can be applied using 'rolling()' and 'expanding()' methods. \n",
    "# Following are some windows functions in pandas:\n",
    "#    1.Moving Average:\n",
    "#            Calculates the mean of values within a sliding window.\n",
    "#    2.Exponential moving Average:\n",
    "#            Computes a weighted average where more recent values have a higher weight.\n",
    "#    3.Cumulative Sum:\n",
    "#            Calculate the running sum of values within a window.\n",
    "#    4.Rank:\n",
    "#            Assigns a rank to each element within a window based on their values.\n",
    "#    5.Min/max:\n",
    "#            Computes the minimum or maximum value within a window\n",
    "#    6. Standard Deviation/Variance:\n",
    "#            Computes the standard deviation or variance of values within a window.\n"
   ]
  },
  {
   "cell_type": "code",
   "execution_count": 23,
   "id": "2d4b8286-dd6d-4f5d-9b73-7020412bbaef",
   "metadata": {},
   "outputs": [
    {
     "name": "stdout",
     "output_type": "stream",
     "text": [
      "Current month: 6\n",
      "Current year: 2023\n"
     ]
    }
   ],
   "source": [
    "# Q 7. Write a code to print only the current month and year at the time of answering this question.\n",
    "#    [Hint: Use pandas.datetime function]\n",
    "# Ans:\n",
    "import warnings\n",
    "warnings.filterwarnings('ignore')\n",
    "import pandas as pd\n",
    "current_date=pd.datetime.now()\n",
    "current_month=current_date.month\n",
    "current_year=current_date.year\n",
    "print(\"Current month:\",current_month)\n",
    "print(\"Current year:\",current_year)"
   ]
  },
  {
   "cell_type": "code",
   "execution_count": 24,
   "id": "fc1e9289-f681-43c9-ae55-f7dc0e480717",
   "metadata": {},
   "outputs": [
    {
     "name": "stdin",
     "output_type": "stream",
     "text": [
      "Enter starting date (yyyy-mm-dd): 2023-10-12\n",
      "Enter ending date (yyyy-mm-dd): 2023-12-23\n"
     ]
    },
    {
     "name": "stdout",
     "output_type": "stream",
     "text": [
      "Time difference: 72 days, 0 hours, 0 minutes.\n"
     ]
    }
   ],
   "source": [
    "# Q 8.Write a Python program that takes in two dates as input (in the format YYYY-MM-DD) and calculates the difference between them in days, hours, \n",
    "#     and minutes using Pandas time delta.\n",
    "#     The program should prompt the user to enter the dates and display the result.\n",
    "# Ans:\n",
    "import pandas as pd\n",
    "# taking input start and end date\n",
    "start_date=input(\"Enter starting date (yyyy-mm-dd):\")\n",
    "end_date=input(\"Enter ending date (yyyy-mm-dd):\")\n",
    "\n",
    "# converting the input strings to pandas datetime object\n",
    "start_datetime=pd.to_datetime(start_date)\n",
    "end_datetime=pd.to_datetime(end_date)\n",
    "\n",
    "# calculate time differance\n",
    "time_difference=end_datetime-start_datetime\n",
    "\n",
    "# extracting days, hours ,and minutes using Pandas time delta\n",
    "days=time_difference.days\n",
    "hours=time_difference.seconds//3600\n",
    "minutes=(time_difference.seconds%3600)//60\n",
    "\n",
    "# printing the result\n",
    "print(\"Time difference: {} days, {} hours, {} minutes.\".format(days, hours, minutes))"
   ]
  },
  {
   "cell_type": "code",
   "execution_count": 25,
   "id": "502b88f3-7e89-44b9-afd0-618826c84a54",
   "metadata": {},
   "outputs": [],
   "source": [
    "# Q 9.Write a Python program that reads a CSV file containing categorical data and converts a specified \n",
    "#    column to a categorical data type. The program should prompt the user to enter the file path, column \n",
    "#    name, and category order, and then display the sorted data.\n",
    "# Ans:\n",
    "\n",
    "# creating a csv file by converting dataframe into csv\n",
    "import pandas as pd\n",
    "data = {\n",
    "    'ID': [1, 2, 3],\n",
    "    'Category': ['high', 'medium', 'low']\n",
    "}\n",
    "\n",
    "df = pd.DataFrame(data)\n",
    "df.to_csv('data.csv', index=False)"
   ]
  },
  {
   "cell_type": "code",
   "execution_count": 27,
   "id": "0fcb9d03-f6b2-4868-a0af-fbdb12e72716",
   "metadata": {},
   "outputs": [
    {
     "name": "stdin",
     "output_type": "stream",
     "text": [
      "Enter file path: data.csv\n",
      "Enter column name: Category\n",
      "Enter category order (comma-separated): low,medium,high\n"
     ]
    },
    {
     "name": "stdout",
     "output_type": "stream",
     "text": [
      "   ID Category\n",
      "2   3      low\n",
      "1   2   medium\n",
      "0   1     high\n"
     ]
    }
   ],
   "source": [
    "# prompt the user to enter the file path\n",
    "file_path=input(\"Enter file path:\")\n",
    "\n",
    "# prompt the user to enter the column name\n",
    "col_name=input(\"Enter column name:\")\n",
    "\n",
    "# prompt the user to enter the category order\n",
    "category_order=input(\"Enter category order (comma-separated):\").split(\",\")\n",
    "\n",
    "df=pd.read_csv(\"data.csv\")\n",
    "df['Category']=pd.Categorical(df['Category'],categories=category_order,ordered=True)\n",
    "sorted_data=df.sort_values(by='Category')\n",
    "print(sorted_data)"
   ]
  },
  {
   "cell_type": "code",
   "execution_count": 28,
   "id": "221d2478-a1ff-4777-975f-24602a9eb17f",
   "metadata": {},
   "outputs": [
    {
     "name": "stdin",
     "output_type": "stream",
     "text": [
      "Enter the CSV file path:  sales_data.csv\n"
     ]
    },
    {
     "data": {
      "image/png": "[encoded data removed]",
      "text/plain": [
       "<Figure size 640x480 with 1 Axes>"
      ]
     },
     "metadata": {},
     "output_type": "display_data"
    }
   ],
   "source": [
    "# Q 10. Write a Python program that reads a CSV file containing sales data for different products and visualizes the data using a stacked bar chart to\n",
    "#      show the sales of each product category over time. The program should prompt the user to enter the file path and display the chart.\n",
    "# Ans:\n",
    "import pandas as pd\n",
    "data1 = {\n",
    "    'Product_category': ['Category A','Category B','Category B','Category B','Category A','Category B'],\n",
    "    'Year': [2019,2020,2019,2020,2021,2021],\n",
    "    'Sales':[5000,4000,8500,9000,4300,5400]\n",
    "}\n",
    "\n",
    "df = pd.DataFrame(data1)\n",
    "df.to_csv('sales_data.csv', index=False)\n",
    "\n",
    "\n",
    "import matplotlib.pyplot as plt\n",
    "\n",
    "# Prompt the user for the file path\n",
    "file_path = input(\"Enter the CSV file path: \")\n",
    "\n",
    "# Read the CSV file into a pandas DataFrame\n",
    "data = pd.read_csv('sales_data.csv')\n",
    "\n",
    "# Group the data by product category and calculate the total sales for each category\n",
    "category_sales = data.groupby('Product_category')['Sales'].sum()\n",
    "\n",
    "# Extract the unique product categories\n",
    "categories = category_sales.index\n",
    "\n",
    "# Extract the sales values for each category\n",
    "sales_values = category_sales.values\n",
    "\n",
    "# Get the years from the DataFrame (assuming there is a 'Year' column)\n",
    "years = data['Year'].unique()\n",
    "\n",
    "# Create a list of colors for each category\n",
    "colors = [ 'orange', 'purple','green', 'yellow', 'red','blue']\n",
    "\n",
    "# Create a stacked bar chart\n",
    "plt.bar(years, sales_values[0], color=colors[0], label=categories[0])\n",
    "\n",
    "for i in range(1, len(categories)):\n",
    "    plt.bar(years, sales_values[i], bottom=sales_values[:i], color=colors[i], label=categories[i])\n",
    "\n",
    "# Add labels and title to the chart\n",
    "plt.xlabel('Year')\n",
    "plt.ylabel('Sales')\n",
    "plt.title('Sales by Product Category Over Time')\n",
    "plt.legend()\n",
    "\n",
    "# Display the chart\n",
    "plt.show()"
   ]
  },
  {
   "cell_type": "code",
   "execution_count": 29,
   "id": "4aaf0a36-a186-4400-95a8-ddc386d74242",
   "metadata": {},
   "outputs": [],
   "source": [
    "# Q 11.You are given a CSV file containing student data that includes the student ID and their test score. Write a Python program that reads the \n",
    "#      CSV file, calculates the mean, median, and mode of the test scores, and displays the results in a table.\n",
    "#      The program should do the following:\n",
    "#          1.I Prompt the user to enter the file path of the CSV file containing the student dataR\n",
    "#          2.I Read the CSV file into a Pandas DataFrameR\n",
    "#          3.I Calculate the mean, median, and mode of the test scores using Pandas toolsR\n",
    "#          4.I Display the mean, median, and mode in a table.\n",
    "\n",
    "#      Assume the CSV file contains the following columns\n",
    "#          1.I Student ID: The ID of the studentR\n",
    "#          2.I Test Score: The score of the student's test.\n",
    "#      Example usage of the program:\n",
    "\n",
    "#      Enter the file path of the CSV file containing the student data: student_data.csv\n",
    "\n",
    "#          +-----------+--------+\n",
    "#          | Statistic | Value  |\n",
    "#          +-----------+--------+\n",
    "#         | Mean      | 79.6   |\n",
    "#         | Median    | 82     |\n",
    "#         | Mode      | 85, 90 |\n",
    "#         +-----------+--------+\n",
    "\n",
    "#      Assume that the CSV file student_data.csv contains the following data:\n",
    "\n",
    "#      Student ID,Test Score\n",
    "\n",
    "#          1,85\n",
    "#          2,90\n",
    "#          3,80\n",
    "#          4,75\n",
    "#          5,85\n",
    "#          6,82\n",
    "#          7,78\n",
    "#          8,85\n",
    "#          9,90\n",
    "#         10,85\n",
    "\n",
    "# The program should calculate the mean, median, and mode of the test scores and display the results in a table.</pre>"
   ]
  },
  {
   "cell_type": "code",
   "execution_count": 30,
   "id": "6a77f698-076c-46eb-b362-683f01b5c3cc",
   "metadata": {},
   "outputs": [
    {
     "name": "stdin",
     "output_type": "stream",
     "text": [
      "Enter the file path of the CSV file containing the student data:  student_data.csv\n"
     ]
    },
    {
     "name": "stdout",
     "output_type": "stream",
     "text": [
      "\n",
      "Statistic Value\n",
      "     Mean  83.5\n",
      "   Median  85.0\n",
      "     Mode    85\n"
     ]
    }
   ],
   "source": [
    "import pandas as pd\n",
    "# Define the student data\n",
    "student_data = {\n",
    "    'Student ID':[1,2,3,4,5,6,7,8,9,10], 'Test Score':[ 85, 90,80,75,85,82, 78, 85,90,85]\n",
    "}\n",
    "df = pd.DataFrame(student_data)\n",
    "df.to_csv('student_data.csv', index=False)\n",
    "\n",
    "# Prompt the user to enter the file path of the CSV file\n",
    "file_path = input(\"Enter the file path of the CSV file containing the student data: \")\n",
    "\n",
    "# Read the CSV file into a Pandas DataFrame\n",
    "df = pd.read_csv(file_path)\n",
    "\n",
    "# Calculate the mean, median, and mode of the test scores\n",
    "mean_score = df['Test Score'].mean()\n",
    "median_score = df['Test Score'].median()\n",
    "mode_scores = df['Test Score'].mode()\n",
    "\n",
    "# Display the results in a table\n",
    "table = pd.DataFrame({'Statistic': ['Mean', 'Median', 'Mode'],\n",
    "                      'Value': [mean_score, median_score, ', '.join(map(str, mode_scores))]})\n",
    "\n",
    "print(\"\\n\" + table.to_string(index=False))"
   ]
  },
  {
   "cell_type": "code",
   "execution_count": null,
   "id": "086eb47c-7604-4705-95d3-989b853fda9a",
   "metadata": {},
   "outputs": [],
   "source": []
  }
 ],
 "metadata": {
  "kernelspec": {
   "display_name": "Python 3 (ipykernel)",
   "language": "python",
   "name": "python3"
  },
  "language_info": {
   "codemirror_mode": {
    "name": "ipython",
    "version": 3
   },
   "file_extension": ".py",
   "mimetype": "text/x-python",
   "name": "python",
   "nbconvert_exporter": "python",
   "pygments_lexer": "ipython3",
   "version": "3.10.8"
  }
 },
 "nbformat": 4,
 "nbformat_minor": 5
}
