{
 "cells": [
  {
   "cell_type": "code",
   "execution_count": 24,
   "id": "40f08e78-edae-4dd2-8739-15104917fc22",
   "metadata": {},
   "outputs": [
    {
     "name": "stdout",
     "output_type": "stream",
     "text": [
      "Oringinal list:\n",
      "[('Sachin Tendulkar', 34357), ('Ricky Panting', 27483), ('Jack Kallis', 25534), ('Virat kohil', 24936)]\n",
      "Sorted list:\n",
      "[('Virat kohil', 24936), ('Jack Kallis', 25534), ('Ricky Panting', 27483), ('Sachin Tendulkar', 34357)]\n"
     ]
    }
   ],
   "source": [
    "# Q.1 Create a python program to sort the given list of tuples based on integer value using a lambda function.\n",
    "[('Sachin Tendulkar',34357),('Ricky Panting',27483),('Jack Kallis',25534),('Virat Kohil',24936)]\n",
    "\n",
    "\n",
    "l=[('Sachin Tendulkar',34357),('Ricky Panting',27483),('Jack Kallis',25534),('Virat kohil',24936)]\n",
    "print(\"Oringinal list:\")\n",
    "print(l)\n",
    "l.sort(key=lambda x :x[1])\n",
    "print(\"Sorted list:\")\n",
    "print(l)\n",
    "\n"
   ]
  },
  {
   "cell_type": "code",
   "execution_count": 25,
   "id": "44899190-d7e1-4043-805a-ddcba4ad3bf5",
   "metadata": {},
   "outputs": [
    {
     "data": {
      "text/plain": [
       "[1, 4, 9, 16, 25, 36, 49, 64, 81, 100]"
      ]
     },
     "execution_count": 25,
     "metadata": {},
     "output_type": "execute_result"
    }
   ],
   "source": [
    "# Q.2 Write a python program to find the squares of all the numbers in the given list of integers using lambda and map function.\n",
    "[1,2,3,4,5,6,7,8,9,10]\n",
    "\n",
    "# Ans:\n",
    "\n",
    "l1=[1,2,3,4,5,6,7,8,9,10]\n",
    "\n",
    "list(map(lambda x: x**2,l1))\n"
   ]
  },
  {
   "cell_type": "code",
   "execution_count": 10,
   "id": "a09bcbb8-2b41-4e12-ac24-99adc8a858ee",
   "metadata": {},
   "outputs": [
    {
     "name": "stdout",
     "output_type": "stream",
     "text": [
      "Original List:\n",
      "[1, 2, 3, 4, 5, 6, 7, 8, 9, 10]\n",
      "Tuple of string:\n",
      "('1', '2', '3', '4', '5', '6', '7', '8', '9', '10')\n"
     ]
    }
   ],
   "source": [
    "# Q.3 Write a python program to convert the given list of integers into a tuple of strings.Use map and lambda function.\n",
    "# Given string :[1,2,3,4,5,6,7,8,9,10]\n",
    "# Expected output:('1','2','3','4','5','6','7','8','9','10')\n",
    "\n",
    "l=[1,2,3,4,5,6,7,8,9,10]\n",
    "print(\"Original List:\")\n",
    "print(num_list)\n",
    "result_list=list(map(lambda str: str ,l))\n",
    "result_tuple=tuple(map(lambda x: str(x) ,result_list))\n",
    "r_t=str(result_tuple)\n",
    "print(\"Tuple of string:\")\n",
    "print(r_t)\n",
    "\n"
   ]
  },
  {
   "cell_type": "code",
   "execution_count": 26,
   "id": "d640ccd6-2a5a-4f2e-bb49-45b100ca4c27",
   "metadata": {},
   "outputs": [],
   "source": [
    "# Q.4 Write a python program using reduce function to compute the product of a list containing numbers from 1 to 25.\n",
    "\n",
    "l=[1,2,3,4,5,6,7,8,9,10,11,12,13,14,15,16,17,18,19,20,21,22,23,24,25]\n",
    "\n",
    "from functools import reduce\n",
    "\n",
    "\n"
   ]
  },
  {
   "cell_type": "code",
   "execution_count": 27,
   "id": "416d6bdc-a337-40e7-b9fe-5242b274e205",
   "metadata": {},
   "outputs": [
    {
     "data": {
      "text/plain": [
       "15511210043330985984000000"
      ]
     },
     "execution_count": 27,
     "metadata": {},
     "output_type": "execute_result"
    }
   ],
   "source": [
    "reduce(lambda x,y : x*y,l)"
   ]
  },
  {
   "cell_type": "code",
   "execution_count": 29,
   "id": "bc7beb9e-c565-42ca-825a-8821ef31bd0b",
   "metadata": {},
   "outputs": [
    {
     "data": {
      "text/plain": [
       "[6, 60, 90, 120]"
      ]
     },
     "execution_count": 29,
     "metadata": {},
     "output_type": "execute_result"
    }
   ],
   "source": [
    "# Q.5 Write a python program to filter the numbers in a given list that are divisible by 2 and 3 using the filter function.\n",
    "[2,3,6,9,27,60,90,120,55,46]\n",
    "\n",
    "# Ans:\n",
    "l=[2,3,6,9,27,60,90,120,55,46]\n",
    "list(filter(lambda x: x%2==0 and x%3==0,l))"
   ]
  },
  {
   "cell_type": "code",
   "execution_count": 30,
   "id": "32960e2f-0624-4495-8c5a-e6f04bca8161",
   "metadata": {},
   "outputs": [
    {
     "name": "stdout",
     "output_type": "stream",
     "text": [
      "Original list:\n",
      "['python', 'php', 'aba', 'radar', 'level']\n",
      "\n",
      " List of palindromes:\n",
      "['php', 'aba', 'radar', 'level']\n"
     ]
    }
   ],
   "source": [
    "# Q.6 Write a python program to find palindromes in the given list of string using lambda and filter function.\n",
    "['python','php','aba','radar','level']\n",
    "\n",
    "# Ans:\n",
    "test =['python','php','aba','radar','level']\n",
    "print(\"Original list:\")\n",
    "print(test)\n",
    "result=list(filter(lambda x: (x==\"\".join(reversed(x))), test))\n",
    "print(\"\\n List of palindromes:\")\n",
    "print(result)\n"
   ]
  },
  {
   "cell_type": "code",
   "execution_count": null,
   "id": "dac38991-f8dc-49ee-b036-98c06eff8cb9",
   "metadata": {},
   "outputs": [],
   "source": []
  }
 ],
 "metadata": {
  "kernelspec": {
   "display_name": "Python 3 (ipykernel)",
   "language": "python",
   "name": "python3"
  },
  "language_info": {
   "codemirror_mode": {
    "name": "ipython",
    "version": 3
   },
   "file_extension": ".py",
   "mimetype": "text/x-python",
   "name": "python",
   "nbconvert_exporter": "python",
   "pygments_lexer": "ipython3",
   "version": "3.10.8"
  }
 },
 "nbformat": 4,
 "nbformat_minor": 5
}
