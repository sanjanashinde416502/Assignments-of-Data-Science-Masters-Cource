{
 "cells": [
  {
   "cell_type": "code",
   "execution_count": 37,
   "id": "a2107ce9-ce2c-49d6-8f1b-b885d096962f",
   "metadata": {},
   "outputs": [],
   "source": [
    "# Q.1 What is an Exception in python ? Write the differance between Exceptions and Syntax errors.\n",
    "# Ans:\n",
    "# Exception in python:\n",
    "#        An exception is an event , which occurs during the ecution of a program that distrubs the normal flow of the programs instructions.\n",
    "#   In general an exception is a python object that represents an error.\n",
    "\n",
    "# Differance between Exceptions and Syntax errors:\n",
    "#        In Python, exceptions and syntax errors are two types of errors that can occur in your code, but they differ in their causes and \n",
    "# the way they are handled.\n",
    "# 1. Exceptions:\n",
    "#       An exception, on the other hand, is a runtime error that occurs when the code executes but encounters an unexpected situation or \n",
    "# condition that it cannot handle. Exceptions can be caused by various reasons, such as input errors, division by zero, type errors, and\n",
    "# so on. When an exception occurs, Python raises an exception object and stops executing the code.\n",
    "\n",
    "# 2. Syntax Errors:\n",
    "#        A syntax error occurs when the code violates the grammar rules of the Python language. These errors usually occur when you have a \n",
    "# typing mistake, a missing or an extra character, or when you use an incorrect syntax or keyword. Syntax errors are usually detected by the\n",
    "# Python interpreter before the code is executed, and they are raised as soon as the code is compiled.This errors are complie time errors.\n"
   ]
  },
  {
   "cell_type": "code",
   "execution_count": 38,
   "id": "3863c276-7eca-43e0-8c07-55f64d92a75a",
   "metadata": {},
   "outputs": [
    {
     "ename": "ZeroDivisionError",
     "evalue": "division by zero",
     "output_type": "error",
     "traceback": [
      "\u001b[0;31m---------------------------------------------------------------------------\u001b[0m",
      "\u001b[0;31mZeroDivisionError\u001b[0m                         Traceback (most recent call last)",
      "Cell \u001b[0;32mIn[38], line 10\u001b[0m\n\u001b[1;32m      8\u001b[0m x\u001b[38;5;241m=\u001b[39m\u001b[38;5;241m10\u001b[39m\n\u001b[1;32m      9\u001b[0m y\u001b[38;5;241m=\u001b[39m\u001b[38;5;241m0\u001b[39m\n\u001b[0;32m---> 10\u001b[0m z\u001b[38;5;241m=\u001b[39m\u001b[43mx\u001b[49m\u001b[38;5;241;43m/\u001b[39;49m\u001b[43my\u001b[49m\n\u001b[1;32m     11\u001b[0m \u001b[38;5;28mprint\u001b[39m(z)\n",
      "\u001b[0;31mZeroDivisionError\u001b[0m: division by zero"
     ]
    }
   ],
   "source": [
    "# Q.2 What happens when an exception is not handled ? Explain with an example.\n",
    "# Ans:\n",
    "#       If an exception is not handled in Python, it will cause the program to terminate abruptly and display an error message called a traceback.\n",
    "# This means that any code that comes after the point where the exception occurred will not be executed.\n",
    "\n",
    "# For example, let's say you have the following code:\n",
    "\n",
    "x=10\n",
    "y=0\n",
    "z=x/y\n",
    "print(z)\n"
   ]
  },
  {
   "cell_type": "code",
   "execution_count": 39,
   "id": "c10a453c-d03e-4f03-bf21-e6b5a5c9f8fd",
   "metadata": {},
   "outputs": [],
   "source": [
    "# Explaination:\n",
    "#        This code will raise a ZeroDivisionError exception because you cannot divide by zero. If you do not handle this exception, the program will \n",
    "# terminate with a traceback ."
   ]
  },
  {
   "cell_type": "code",
   "execution_count": 41,
   "id": "7007e1bc-6349-45c8-94fc-29e7268ec1d0",
   "metadata": {},
   "outputs": [
    {
     "name": "stdin",
     "output_type": "stream",
     "text": [
      "Enter a number:  5\n"
     ]
    },
    {
     "name": "stdout",
     "output_type": "stream",
     "text": [
      "The result is: 2.0\n",
      "Thank you for using this program.\n"
     ]
    }
   ],
   "source": [
    "# Q.3 Which python statements are used to catch and handle exceptions ? Explain with example.\n",
    "# Ans:\n",
    "#    try and except block are the statements used to catch and handle exceptions.\n",
    "# Example:\n",
    "#     The try statement allows you to write a block of code that might raise an exception. If an exception is raised within the try block, the code in\n",
    "# the except block will be executed. You can also use the finally block to specify code that should be executed regardless of whether an exception was\n",
    "# raised or not.\n",
    "\n",
    "# example:\n",
    "try:\n",
    "    x = int(input(\"Enter a number: \"))\n",
    "    y = 10 / x\n",
    "    print(\"The result is:\", y)\n",
    "except ValueError:\n",
    "    print(\"You must enter an integer.\")\n",
    "except ZeroDivisionError:\n",
    "    print(\"You cannot divide by zero.\")\n",
    "finally:\n",
    "    print(\"Thank you for using this program.\")"
   ]
  },
  {
   "cell_type": "code",
   "execution_count": 42,
   "id": "14b4ac8a-f8c2-4cd8-bd4b-6d67865e3138",
   "metadata": {},
   "outputs": [
    {
     "name": "stdin",
     "output_type": "stream",
     "text": [
      "enter no: 5\n"
     ]
    },
    {
     "name": "stdout",
     "output_type": "stream",
     "text": [
      "Division of no: 2.0\n",
      "Thank you for using this program\n"
     ]
    }
   ],
   "source": [
    "# Q.4 Explain with an example:\n",
    "#    1.try and else\n",
    "#    2.finaly\n",
    "#    3.raise\n",
    "\n",
    "# Ans:\n",
    "# 1.try and else:\n",
    "#     try and else statement is used to handle .Code inside 'try' block excecutes first if exception ocures except block executes otherwise \n",
    "# else block executes. \n",
    "# example:\n",
    "try:\n",
    "    x=int(input(\"enter no:\"))\n",
    "    y=10/x\n",
    "    print(\"Division of no:\",y)\n",
    "except ZeroDivisionError:\n",
    "    print(\"Enter proper no except 0\")\n",
    "else:\n",
    "    print(\"Thank you for using this program\")"
   ]
  },
  {
   "cell_type": "code",
   "execution_count": 51,
   "id": "2754a32a-7e5f-49f4-bc86-0645661c5df3",
   "metadata": {},
   "outputs": [
    {
     "name": "stdout",
     "output_type": "stream",
     "text": [
      "file not found\n",
      "this will finaly close file \n"
     ]
    }
   ],
   "source": [
    "# Finally: \n",
    "#     The finally statement in Python is used to execute code that must always be run, regardless of whether an exception occurred or not. This is\n",
    "# useful for cleaning up resources such as files, database connections, or network sockets.\n",
    "\n",
    "# Here's an example of finally in action:\n",
    "\n",
    "try:\n",
    "    f= open(\"myfile.txt\", \"r\")\n",
    "except FileNotFoundError:\n",
    "    print(\"file not found\")\n",
    "finally:\n",
    "    print(\"this will finaly close file \")\n",
    "    f.close()\n"
   ]
  },
  {
   "cell_type": "code",
   "execution_count": 52,
   "id": "bd75817a-5b7f-49f1-9e7e-5cc8c5d46cac",
   "metadata": {},
   "outputs": [],
   "source": [
    "# Explaination :\n",
    "#       In this example, the try block opens a file named \"myfile.txt\" for reading and performs some operation on the file. The finally block then \n",
    "# closes the file, ensuring that it is properly cleaned up even if an exception occurs.\n"
   ]
  },
  {
   "cell_type": "code",
   "execution_count": 53,
   "id": "bdf11b92-ce0b-4300-8921-e9ac4e547ec3",
   "metadata": {},
   "outputs": [
    {
     "name": "stdout",
     "output_type": "stream",
     "text": [
      "division by zero\n"
     ]
    }
   ],
   "source": [
    "# raise:\n",
    "#    The raise statement in Python is used to raise an exception. This is useful when you want to signal that an error has occurred, and you want to \n",
    "# provide information about the error.\n",
    "\n",
    "# Here's an example of raise in action:\n",
    "\n",
    "\n",
    "def divide(x, y):\n",
    "    if y == 0:\n",
    "        raise ZeroDivisionError(\"division by zero\")\n",
    "    return x / y\n",
    "\n",
    "try:\n",
    "    result = divide(10, 0)\n",
    "except ZeroDivisionError as e:\n",
    "    print(e)\n",
    "\n"
   ]
  },
  {
   "cell_type": "code",
   "execution_count": 54,
   "id": "39561b44-3b13-435d-809f-0ff729dca841",
   "metadata": {},
   "outputs": [],
   "source": [
    "# Explaination:\n",
    "#        In this example, the divide() function takes two arguments x and y and returns their quotient. If the value of y is 0, the function raises a\n",
    "#  ZeroDivisionError with the message \"division by zero\". The try block calls the divide() function with the arguments 10 and 0, which raises the \n",
    "#  exception. The except block catches the exception and prints the error message.\n"
   ]
  },
  {
   "cell_type": "code",
   "execution_count": 55,
   "id": "8eeb3d2e-16ac-4be7-aef4-72dcf41979f8",
   "metadata": {},
   "outputs": [],
   "source": [
    "# Q.5 What are Custom Exceptions in python ? Why do we need Custom Exceptions? Explain with an example.\n",
    "# Ans:\n",
    "# What is Custom Exception:\n",
    "#     In Python, custom exceptions are user-defined exceptions that inherit from the Exception class. These exceptions are created to handle specific \n",
    "# errors that may occur in a program.\n",
    "\n",
    "# Why do we need Custom Exceptions:\n",
    "#     We need custom exceptions because it allows us to create exceptions that are more meaningful and relevant to the context of the program. By \n",
    "# creating custom exceptions, we can provide more informative error messages to the user, making it easier to understand the nature of the error and \n",
    "# how to fix it.\n",
    "\n",
    "# Here's an example of how to create a custom exception in Python:\n",
    "\n",
    "class xyz(Exception):\n",
    "    pass"
   ]
  },
  {
   "cell_type": "code",
   "execution_count": 56,
   "id": "6c73733f-af57-4d08-9cd0-bbde04a5e5dc",
   "metadata": {},
   "outputs": [],
   "source": [
    "def xyz1(age):\n",
    "    if age>0:\n",
    "        raise xyz(\"Valid age\")\n",
    "    else:\n",
    "        raise xyz(\"Invalid age\")"
   ]
  },
  {
   "cell_type": "code",
   "execution_count": 58,
   "id": "aab78e02-fe1f-4ad2-9d27-53d6418fac76",
   "metadata": {},
   "outputs": [
    {
     "name": "stdin",
     "output_type": "stream",
     "text": [
      "enter age: 34\n"
     ]
    },
    {
     "name": "stdout",
     "output_type": "stream",
     "text": [
      "Valid age\n"
     ]
    }
   ],
   "source": [
    "try:\n",
    "    age=int(input(\"enter age:\"))\n",
    "    xyz1(age)\n",
    "except xyz as e:\n",
    "    print(e)"
   ]
  },
  {
   "cell_type": "code",
   "execution_count": 59,
   "id": "e0a48929-f94e-4e0b-823f-d6ec347b89b6",
   "metadata": {},
   "outputs": [],
   "source": [
    "# Q.6 Create a custom excepption class .Use this class to handle an exception.\n",
    "# Ans:\n",
    "\n",
    "class pw(Exception):\n",
    "    pass"
   ]
  },
  {
   "cell_type": "code",
   "execution_count": 60,
   "id": "6c492a4f-7e14-4604-8dc8-dbe1c8a0371d",
   "metadata": {},
   "outputs": [],
   "source": [
    "def pwf(no):\n",
    "    if no%2==0:\n",
    "        raise pw(\"no is even\")\n",
    "    else:\n",
    "        raise pw(\"no is odd\")"
   ]
  },
  {
   "cell_type": "code",
   "execution_count": 61,
   "id": "8ec02833-51e1-4dc6-93d0-4e14b5f797f8",
   "metadata": {},
   "outputs": [
    {
     "name": "stdin",
     "output_type": "stream",
     "text": [
      "enter no: 5\n"
     ]
    },
    {
     "name": "stdout",
     "output_type": "stream",
     "text": [
      "no is odd\n"
     ]
    }
   ],
   "source": [
    "try:\n",
    "    no=int(input(\"enter no:\"))\n",
    "    pwf(no)\n",
    "except pw as e:\n",
    "    print(e)"
   ]
  },
  {
   "cell_type": "code",
   "execution_count": null,
   "id": "17cabf0d-7bd4-4ebc-9b58-e0f47b305bdd",
   "metadata": {},
   "outputs": [],
   "source": []
  }
 ],
 "metadata": {
  "kernelspec": {
   "display_name": "Python 3 (ipykernel)",
   "language": "python",
   "name": "python3"
  },
  "language_info": {
   "codemirror_mode": {
    "name": "ipython",
    "version": 3
   },
   "file_extension": ".py",
   "mimetype": "text/x-python",
   "name": "python",
   "nbconvert_exporter": "python",
   "pygments_lexer": "ipython3",
   "version": "3.10.8"
  }
 },
 "nbformat": 4,
 "nbformat_minor": 5
}
