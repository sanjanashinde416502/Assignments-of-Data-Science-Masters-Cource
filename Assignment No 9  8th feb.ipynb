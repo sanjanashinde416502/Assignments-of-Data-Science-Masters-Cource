{
 "cells": [
  {
   "cell_type": "code",
   "execution_count": 17,
   "id": "69d7f0f9-8a27-400a-9b18-a7f100b4c9da",
   "metadata": {},
   "outputs": [],
   "source": [
    "# Q.1 What is Abstraction in oops. Explain with an example.\n",
    "# ans:\n",
    "# Abstraction:\n",
    "#   1. Abstraction in python is defined as a process of handling complexity by hiding unnecessary information from the user.\n",
    "#   2. This is one of the core concept of object-oriented programming (oop)language.\n",
    "#   3. Abstraction is used to hide the internal functionality of the function from the users.\n",
    "#   4.The user only interact with the basic implementation of the function ,but inner working is hidden.\n",
    "#   5.User is familier with \"what function does\" but they don't know \"how it does\"\n",
    "\n",
    "# Example:\n",
    "#         TV remote is also a example of abstraction .When we use the TV remote to increse the volume . We don't know how pressing a key\n",
    "# incresses the volume of the TV .We only know to press the \"+\" button to increse the volume .That is exactly the abstraction that works in \n",
    "# oop."
   ]
  },
  {
   "cell_type": "code",
   "execution_count": 18,
   "id": "97ccf1b1-0ee1-4184-8bfb-2982fe916237",
   "metadata": {},
   "outputs": [],
   "source": [
    "# Q.2 Differance between Absraction and Encapsulation .Explain with an example.\n",
    "# Ans:\n",
    "# Differnce between abstraction and encapsulation:\n",
    "\n",
    "# Abstraction:\n",
    "#  1.Abstraction is a design level process.\n",
    "#  2.It is used to reduce the complexity at the designing stage of a project.\n",
    "\n",
    "# Encapsulation:\n",
    "#  1.Encapsulation is an iplementation level process.\n",
    "#  2.It is used to provide privacy and maintain control over the transparency of data at the implementation stage of a project.\n",
    "\n",
    "# Example:\n",
    "#      The interaction between a user and a mobile phone as an example of encapsulation .The user does not need to understand the internal \n",
    "# working of the phone in order to utilize it,which is referred to as abstraction.\n"
   ]
  },
  {
   "cell_type": "code",
   "execution_count": 19,
   "id": "e1545c32-600f-4f46-a4ff-567147bf0ce4",
   "metadata": {},
   "outputs": [],
   "source": [
    "# Q.3 What is module in python .why is it used.\n",
    "# Ans:\n",
    "# What is Module:\n",
    "#  1.A module in pyhton is a file containing python definitions and statements.\n",
    "#  2.A module can define functions,classes ,and veriabkes .\n",
    "#  3.A module can also include runnable code.\n",
    "#  4. Grouping related code  into a module makes the code easier to understand and use .\n",
    "#  5 It also makes the code logically organized.\n",
    "\n",
    "# Why it is used:\n",
    "# 1.A module allow us to logically organize our pythin code.\n",
    "# 2.Grouping related code into a module makes the easier to understand and use. \n",
    "\n"
   ]
  },
  {
   "cell_type": "code",
   "execution_count": 20,
   "id": "142b1acc-2645-43b7-b098-3a1435039964",
   "metadata": {},
   "outputs": [],
   "source": [
    "# Q.4 How can we achive data abstraction.\n",
    "# Ans:\n",
    "#   In python ,data abstraction can be achived by creating abstract classes and methods in program and inheriting them later.\n",
    "# Abstract methods and classes are those methods and classes that declared ,but does not contain implementation."
   ]
  },
  {
   "cell_type": "code",
   "execution_count": 21,
   "id": "6277436c-e1e9-46a4-ac1f-86ce16ae72fd",
   "metadata": {},
   "outputs": [],
   "source": [
    "# Q.5 Can we create an instance of an abstract class. Explain your answer. \n",
    "# ans:\n",
    "# No,we can't create instance of an abstract class.\n",
    "# Explanation:\n",
    "#      We can not create an instance of abstract class as it does not have any implementation. Abstract class is just like a template or an \n",
    "#  empty structure.\n",
    "\n"
   ]
  },
  {
   "cell_type": "code",
   "execution_count": null,
   "id": "186e7536-1b61-4e11-b44a-cde0839b3ff7",
   "metadata": {},
   "outputs": [],
   "source": []
  }
 ],
 "metadata": {
  "kernelspec": {
   "display_name": "Python 3 (ipykernel)",
   "language": "python",
   "name": "python3"
  },
  "language_info": {
   "codemirror_mode": {
    "name": "ipython",
    "version": 3
   },
   "file_extension": ".py",
   "mimetype": "text/x-python",
   "name": "python",
   "nbconvert_exporter": "python",
   "pygments_lexer": "ipython3",
   "version": "3.10.8"
  }
 },
 "nbformat": 4,
 "nbformat_minor": 5
}
