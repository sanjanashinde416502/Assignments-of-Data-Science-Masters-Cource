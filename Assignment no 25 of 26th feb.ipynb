{
 "cells": [
  {
   "cell_type": "code",
   "execution_count": 5,
   "id": "9f2df5aa-9cd4-4646-974f-b1d5c387db84",
   "metadata": {},
   "outputs": [],
   "source": [
    "# Consider the below code to answer further questions:\n",
    "\n",
    "import numpy as np\n",
    "\n",
    "list_ = [ 1,2,3,4,5 ]\n",
    "array_list = np.array(object = list_)"
   ]
  },
  {
   "cell_type": "code",
   "execution_count": 6,
   "id": "e3716685-020e-4602-bacd-6effabe11fed",
   "metadata": {},
   "outputs": [
    {
     "data": {
      "text/plain": [
       "array([1, 2, 3, 4, 5])"
      ]
     },
     "execution_count": 6,
     "metadata": {},
     "output_type": "execute_result"
    }
   ],
   "source": [
    "array_list"
   ]
  },
  {
   "cell_type": "code",
   "execution_count": 7,
   "id": "c3b0a55b-93bc-4b60-b176-2cfa7ec1cdfb",
   "metadata": {},
   "outputs": [
    {
     "data": {
      "text/plain": [
       "list"
      ]
     },
     "execution_count": 7,
     "metadata": {},
     "output_type": "execute_result"
    }
   ],
   "source": [
    "type(list_)"
   ]
  },
  {
   "cell_type": "code",
   "execution_count": 8,
   "id": "c3fa27fe-85ac-406e-8b83-bbba28462221",
   "metadata": {},
   "outputs": [
    {
     "data": {
      "text/plain": [
       "numpy.ndarray"
      ]
     },
     "execution_count": 8,
     "metadata": {},
     "output_type": "execute_result"
    }
   ],
   "source": [
    "type(array_list)"
   ]
  },
  {
   "cell_type": "code",
   "execution_count": 10,
   "id": "2f8a9567-7ab5-4cf8-83c7-8d5920035569",
   "metadata": {},
   "outputs": [
    {
     "name": "stdout",
     "output_type": "stream",
     "text": [
      "Data type of list_: <class 'list'>\n",
      "Data type of array_list: <class 'numpy.ndarray'>\n"
     ]
    }
   ],
   "source": [
    "# Q.1 Is there any difference in the data type of variables list_ and array_list? If there is then write a code to print the data types of both the variables.\n",
    "# Ans:\n",
    "#  Yes, there is a differance in the data type of variables 'List_' and 'array_list'. The variable 'list_' is a python list, where as 'array_list' is a numpy array\n",
    "# following is a code to print datatypes of both variables:\n",
    "list_ = [ 1,2,3,4,5 ]\n",
    "array_list = np.array(object = list_)\n",
    "print(\"Data type of list_:\",type(list_))\n",
    "print(\"Data type of array_list:\",type(array_list))"
   ]
  },
  {
   "cell_type": "code",
   "execution_count": 15,
   "id": "325eb32b-3ee9-44a1-801b-840d0d9ff3db",
   "metadata": {},
   "outputs": [
    {
     "name": "stdout",
     "output_type": "stream",
     "text": [
      "Data types of each element of list_:\n",
      "1 : <class 'int'>\n",
      "2 : <class 'int'>\n",
      "3 : <class 'int'>\n",
      "4 : <class 'int'>\n",
      "5 : <class 'int'>\n",
      "Data types of each element of array_list:\n",
      "1 : <class 'numpy.int64'>\n",
      "2 : <class 'numpy.int64'>\n",
      "3 : <class 'numpy.int64'>\n",
      "4 : <class 'numpy.int64'>\n",
      "5 : <class 'numpy.int64'>\n"
     ]
    }
   ],
   "source": [
    "# Q.2 Write a code to print the data type of each and every element of both the variables list_ and arra_list.\n",
    "# Ans:\n",
    "list_ = [ 1,2,3,4,5 ]\n",
    "array_list = np.array(object = list_)\n",
    "print(\"Data types of each element of list_:\")\n",
    "for i in list_:\n",
    "    print(i,\":\",type(i))\n",
    "print(\"Data types of each element of array_list:\")\n",
    "for i in array_list:\n",
    "    print(i,\":\",type(i))\n",
    "    "
   ]
  },
  {
   "cell_type": "code",
   "execution_count": 23,
   "id": "880aacf1-6a4d-4ee0-a88f-e149ad2d2488",
   "metadata": {},
   "outputs": [
    {
     "name": "stdout",
     "output_type": "stream",
     "text": [
      "Datatypes of elements in list_:\n",
      "1 : <class 'int'>\n",
      "2 : <class 'int'>\n",
      "3 : <class 'int'>\n",
      "4 : <class 'int'>\n",
      "5 : <class 'int'>\n",
      "Datatypes of elements in list_:\n",
      "1 : <class 'numpy.int64'>\n",
      "2 : <class 'numpy.int64'>\n",
      "3 : <class 'numpy.int64'>\n",
      "4 : <class 'numpy.int64'>\n",
      "5 : <class 'numpy.int64'>\n"
     ]
    }
   ],
   "source": [
    "# Q.3 Considering the following changes in the variable, array_list:\n",
    "#     array_list = np.array(object = list_, dtype = int)\n",
    "\n",
    "#     Will there be any difference in the data type of the elements present in both the variables, list_ and arra_list? If so then print the data types of each and every element present in both the variables, list_ and arra_list.\n",
    "\n",
    "# Ans:\n",
    "list_= [ 1,2,3,4,5 ]\n",
    "array_list = np.array(object = list_, dtype = int)\n",
    "\n",
    "# printing datatypes in elements in list_\n",
    "print(\"Datatypes of elements in list_:\")\n",
    "for i in list_:\n",
    "    print(i,\":\",type(i))\n",
    "    \n",
    "# printing datatypes in elements in array_list \n",
    "print(\"Datatypes of elements in list_:\")\n",
    "for i in array_list:\n",
    "    print(i,\":\",type(i))"
   ]
  },
  {
   "cell_type": "code",
   "execution_count": 32,
   "id": "06d2eb52-2dfc-4d4f-a01b-1003f0257ce0",
   "metadata": {},
   "outputs": [],
   "source": [
    "# Consider the below code to answer further questions:\n",
    "\n",
    "import numpy as np\n",
    "num_list = [ [ 1 , 2 , 3 ] , [ 4 , 5 , 6 ] ]\n",
    "num_array = np.array(object = num_list)"
   ]
  },
  {
   "cell_type": "code",
   "execution_count": 33,
   "id": "e00a29d3-f573-427f-9bed-540fea9e899d",
   "metadata": {},
   "outputs": [
    {
     "name": "stdout",
     "output_type": "stream",
     "text": [
      "shape: (2, 3)\n",
      "size: 6\n"
     ]
    }
   ],
   "source": [
    "#  Q.4 Write a code to find the following characteristics of variable, num_array:\n",
    "#      (i)shape\n",
    "#      (ii) size\n",
    "# Ans:\n",
    "num_array = np.array(object = num_list)\n",
    "\n",
    "# finding shape of num_array\n",
    "print(\"shape:\",num_array.shape)\n",
    "\n",
    "# finding size of num_array\n",
    "print(\"size:\",num_array.size)"
   ]
  },
  {
   "cell_type": "code",
   "execution_count": 39,
   "id": "ee96db04-5729-463e-a157-ee506fbfd3d2",
   "metadata": {},
   "outputs": [
    {
     "data": {
      "text/plain": [
       "array([[0., 0., 0.],\n",
       "       [0., 0., 0.],\n",
       "       [0., 0., 0.]])"
      ]
     },
     "execution_count": 39,
     "metadata": {},
     "output_type": "execute_result"
    }
   ],
   "source": [
    "# Q.5 Write a code to create numpy array of 3*3 matrix containing zeros only, using a numpy array creation function.\n",
    "#     [Hint: The size of the array will be 9 and the shape will be (3,3).]\n",
    "# Ans:\n",
    "zero_array=np.zeros(shape=(3,3))\n",
    "zero_array"
   ]
  },
  {
   "cell_type": "code",
   "execution_count": null,
   "id": "044daad7-f54c-456f-bf0e-d635613bd4e7",
   "metadata": {},
   "outputs": [],
   "source": [
    "# Q.6 Create an identity matrix of shape (5,5) using numpy functions?\n",
    "#     [Hint: An identity matrix is a matrix containing 1 diagonally and other elements will be 0.]\n",
    "# Ans:\n",
    "indetity_matrix=np.identity"
   ]
  }
 ],
 "metadata": {
  "kernelspec": {
   "display_name": "Python 3 (ipykernel)",
   "language": "python",
   "name": "python3"
  },
  "language_info": {
   "codemirror_mode": {
    "name": "ipython",
    "version": 3
   },
   "file_extension": ".py",
   "mimetype": "text/x-python",
   "name": "python",
   "nbconvert_exporter": "python",
   "pygments_lexer": "ipython3",
   "version": "3.10.8"
  }
 },
 "nbformat": 4,
 "nbformat_minor": 5
}
