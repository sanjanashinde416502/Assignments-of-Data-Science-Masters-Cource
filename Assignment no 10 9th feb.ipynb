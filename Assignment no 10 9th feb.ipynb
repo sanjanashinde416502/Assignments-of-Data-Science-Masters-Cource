{
 "cells": [
  {
   "cell_type": "code",
   "execution_count": 113,
   "id": "33a1cfd4-2937-412c-8782-eb44053cf755",
   "metadata": {},
   "outputs": [],
   "source": [
    "# Q.1 Create a vehicle class with an init method having instance veriable as name_of_vehicle,max_speed and average_of_vehicle.\n",
    "\n",
    "class vehicle:\n",
    "    def __init__(self,name_of_vehicle,max_speed,average_of_vehicle):\n",
    "        self.name_of_vehicle=name_of_vehicle\n",
    "        self.max_speed=max_speed\n",
    "        self.average_of_vehicle=average_of_vehicle\n",
    "        print(\"Vehicle details :\")\n",
    "        print(\"Name_of_vehicle:\",name_of_vehicle)\n",
    "        print(\"Max_speed:\",max_speed)\n",
    "        print(\"Average_of vehicle:\",average_of_vehicle)\n",
    "        "
   ]
  },
  {
   "cell_type": "code",
   "execution_count": 116,
   "id": "e6d48688-ef75-47b2-9484-63d5d3072287",
   "metadata": {},
   "outputs": [
    {
     "name": "stdout",
     "output_type": "stream",
     "text": [
      "Vehicle details :\n",
      "Name_of_vehicle: BMW\n",
      "Max_speed: 250 kmph\n",
      "Average_of vehicle: 15-20 km/l combined\n"
     ]
    }
   ],
   "source": [
    "v=vehicle(\"BMW\",\"250 kmph\",\"15-20 km/l combined\")"
   ]
  },
  {
   "cell_type": "code",
   "execution_count": 109,
   "id": "6a9ee05f-2c65-478e-84b2-8e766baa7c46",
   "metadata": {},
   "outputs": [],
   "source": [
    "# Q.2 Create a child class car from the vehicle class created in Que 1,which will inherite the vehicle class .\n",
    "#     Create a method named seating_capacity which takes capacity as an argument and return the name of the vehicle and its seating capacity\n",
    "\n",
    "class car(vehicle):\n",
    "    \n",
    "    name_of_vehicle=\"Name of class : BMW\"\n",
    "    def seating_capacity(self,seating_capacity):\n",
    "        self.seating_capacity=seating_capacity\n",
    "        print(\"Seating capacity :\",seating_capacity)\n",
    "    "
   ]
  },
  {
   "cell_type": "code",
   "execution_count": 110,
   "id": "fcfd67fb-cdcd-4b37-ac6a-91f3b0b20467",
   "metadata": {},
   "outputs": [],
   "source": [
    "car=car()"
   ]
  },
  {
   "cell_type": "code",
   "execution_count": 111,
   "id": "b332bc17-369c-41a6-a440-85484dd34b23",
   "metadata": {},
   "outputs": [
    {
     "name": "stdout",
     "output_type": "stream",
     "text": [
      "Seating capacity : 4\n"
     ]
    }
   ],
   "source": [
    "car.seating_capacity(4)"
   ]
  },
  {
   "cell_type": "code",
   "execution_count": 112,
   "id": "0817159e-cd19-44b2-a5f5-6f3978249a79",
   "metadata": {},
   "outputs": [
    {
     "data": {
      "text/plain": [
       "'Name of class : BMW'"
      ]
     },
     "execution_count": 112,
     "metadata": {},
     "output_type": "execute_result"
    }
   ],
   "source": [
    "car.name_of_vehicle"
   ]
  },
  {
   "cell_type": "code",
   "execution_count": 117,
   "id": "67cad298-ccc4-425d-a911-69662a531acb",
   "metadata": {},
   "outputs": [],
   "source": [
    "# Q.3 What is multiple inheritance ? Write a python code to demonstrate multiple inheritance.\n",
    "# Ans:\n",
    "# Multiple inheritance:\n",
    "#      When a class is derived from more than one base class it is called multiple inheritance. The derived class inherites all the features\n",
    "#  of the base class.\n",
    "\n",
    "# Example:\n",
    "class class1:\n",
    "    def class1(self):\n",
    "        return \"This is class 1\""
   ]
  },
  {
   "cell_type": "code",
   "execution_count": 118,
   "id": "bb2c3bed-259d-48c4-a245-04d669291c4e",
   "metadata": {},
   "outputs": [],
   "source": [
    "class class2():\n",
    "    def class2(self):\n",
    "        return \"This is class 2\""
   ]
  },
  {
   "cell_type": "code",
   "execution_count": 119,
   "id": "02e4f9d8-ad2e-4f9c-b4bc-05987050a2cf",
   "metadata": {},
   "outputs": [],
   "source": [
    "class class3(class1,class2):\n",
    "    pass"
   ]
  },
  {
   "cell_type": "code",
   "execution_count": 120,
   "id": "3033478d-64ad-499e-9a33-24d5d046d7c7",
   "metadata": {},
   "outputs": [],
   "source": [
    "class3_obj=class3()"
   ]
  },
  {
   "cell_type": "code",
   "execution_count": 121,
   "id": "1def0d78-b1e9-402a-990c-2796b0887f0f",
   "metadata": {},
   "outputs": [
    {
     "data": {
      "text/plain": [
       "'This is class 1'"
      ]
     },
     "execution_count": 121,
     "metadata": {},
     "output_type": "execute_result"
    }
   ],
   "source": [
    "class3_obj.class1()"
   ]
  },
  {
   "cell_type": "code",
   "execution_count": 122,
   "id": "11201953-30a7-45e4-a9f9-4929c345aea6",
   "metadata": {},
   "outputs": [
    {
     "data": {
      "text/plain": [
       "'This is class 2'"
      ]
     },
     "execution_count": 122,
     "metadata": {},
     "output_type": "execute_result"
    }
   ],
   "source": [
    "class3_obj.class2()"
   ]
  },
  {
   "cell_type": "code",
   "execution_count": 136,
   "id": "5ba4a7c5-8a6b-45c3-981a-647a31633daf",
   "metadata": {},
   "outputs": [],
   "source": [
    "# Q.4 What are getter and setter in python ? Create a class and create a getter and a setter method in this class.\n",
    "# Ans:\n",
    "# getter method :\n",
    "#  These are the methods used in Object-oriented Programming (OOPS) which helps external users to access the private attributes from a class\n",
    "\n",
    "# setter methods:\n",
    "#  These are the methods used in oops feature which helps to set the value to private attributes in a class.\n",
    "\n",
    "# Example:\n",
    "class stud:\n",
    "    def __init__(self,stud_name,stud_no):\n",
    "        self.stud_name=stud_name\n",
    "        self.__stud_no=stud_no\n",
    "        \n",
    "    @property\n",
    "    def access_stud_no(self):\n",
    "        return self.__stud_no\n",
    "    \n",
    "    @access_stud_no.setter\n",
    "    def set_stud_no(self,no):\n",
    "        self.__stud_no=no\n",
    "        "
   ]
  },
  {
   "cell_type": "code",
   "execution_count": 137,
   "id": "32b45c3c-5256-4828-a71b-e4167962e80d",
   "metadata": {},
   "outputs": [],
   "source": [
    "student=stud(\"Rani\",124)"
   ]
  },
  {
   "cell_type": "code",
   "execution_count": 138,
   "id": "78a5f93e-96f3-48ed-af4e-1339ebf450e5",
   "metadata": {},
   "outputs": [
    {
     "data": {
      "text/plain": [
       "'Rani'"
      ]
     },
     "execution_count": 138,
     "metadata": {},
     "output_type": "execute_result"
    }
   ],
   "source": [
    "student.stud_name"
   ]
  },
  {
   "cell_type": "code",
   "execution_count": 139,
   "id": "000da079-907d-42a0-a7d0-d0930e611e2e",
   "metadata": {},
   "outputs": [
    {
     "data": {
      "text/plain": [
       "124"
      ]
     },
     "execution_count": 139,
     "metadata": {},
     "output_type": "execute_result"
    }
   ],
   "source": [
    "student.access_stud_no"
   ]
  },
  {
   "cell_type": "code",
   "execution_count": 140,
   "id": "322cb642-aab8-46f3-9f11-08fb9111c3b7",
   "metadata": {},
   "outputs": [],
   "source": [
    "student.set_stud_no=456"
   ]
  },
  {
   "cell_type": "code",
   "execution_count": 141,
   "id": "4db6fdc8-1373-4deb-af28-461077b74fa7",
   "metadata": {},
   "outputs": [
    {
     "data": {
      "text/plain": [
       "456"
      ]
     },
     "execution_count": 141,
     "metadata": {},
     "output_type": "execute_result"
    }
   ],
   "source": [
    "student.access_stud_no"
   ]
  },
  {
   "cell_type": "code",
   "execution_count": 142,
   "id": "ac6f733b-93a7-423c-baf0-dce5a8e0d8ab",
   "metadata": {},
   "outputs": [],
   "source": [
    "# Q.5 What is method overriding in python ? Write a python code to demonstrate method overriding.\n",
    "# Ans:\n",
    "# Method Overriding:\n",
    "#     Method overriding is a feature of Object-oriented Programming languages where the subclass or child class can provide the program with\n",
    "# specific implimentation process of data provided that are already defined in the parent class or superclass.\n",
    "\n",
    "# Code:\n",
    "class parent:\n",
    "    def show(self):\n",
    "        print(\"Inside parent class\")\n",
    "        \n",
    "        \n",
    "             "
   ]
  },
  {
   "cell_type": "code",
   "execution_count": 144,
   "id": "e3421e42-d245-4fcd-b475-2df054f1fc7e",
   "metadata": {},
   "outputs": [],
   "source": [
    "class child(parent):\n",
    "    def show(self):\n",
    "        print(\"Inside child class\")"
   ]
  },
  {
   "cell_type": "code",
   "execution_count": 145,
   "id": "8e7974e2-bb88-48d5-b339-edd92567626f",
   "metadata": {},
   "outputs": [],
   "source": [
    "obj1=parent()"
   ]
  },
  {
   "cell_type": "code",
   "execution_count": 146,
   "id": "437e8b18-57c3-4c82-b7dc-4dcd239e68b4",
   "metadata": {},
   "outputs": [
    {
     "name": "stdout",
     "output_type": "stream",
     "text": [
      "Inside parent class\n"
     ]
    }
   ],
   "source": [
    "obj1.show()"
   ]
  },
  {
   "cell_type": "code",
   "execution_count": 147,
   "id": "1397ba6c-95d0-490f-a3fd-2a9eb6bca91c",
   "metadata": {},
   "outputs": [],
   "source": [
    "obj2=child()"
   ]
  },
  {
   "cell_type": "code",
   "execution_count": 148,
   "id": "7791f875-910f-4b50-9b42-88ddffa70b01",
   "metadata": {},
   "outputs": [
    {
     "name": "stdout",
     "output_type": "stream",
     "text": [
      "Inside child class\n"
     ]
    }
   ],
   "source": [
    "obj2.show()"
   ]
  },
  {
   "cell_type": "code",
   "execution_count": null,
   "id": "a89cae8a-446b-428e-8db5-00b591281ec5",
   "metadata": {},
   "outputs": [],
   "source": []
  }
 ],
 "metadata": {
  "kernelspec": {
   "display_name": "Python 3 (ipykernel)",
   "language": "python",
   "name": "python3"
  },
  "language_info": {
   "codemirror_mode": {
    "name": "ipython",
    "version": 3
   },
   "file_extension": ".py",
   "mimetype": "text/x-python",
   "name": "python",
   "nbconvert_exporter": "python",
   "pygments_lexer": "ipython3",
   "version": "3.10.8"
  }
 },
 "nbformat": 4,
 "nbformat_minor": 5
}
