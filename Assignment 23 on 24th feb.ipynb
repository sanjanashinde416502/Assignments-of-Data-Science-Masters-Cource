{
 "cells": [
  {
   "cell_type": "code",
   "execution_count": 84,
   "id": "79474bee-9b2d-41d3-8d0a-d5f42d9149fe",
   "metadata": {},
   "outputs": [],
   "source": [
    "# Q.1 List any five functions of the pandas library with execution.\n",
    "# Ans:\n",
    "# Following are the functions of the pandas:\n",
    "\n",
    "# 1. read_csv: This function is used to read data from a CSV file and create a DataFrame.\n",
    "import pandas as pd\n",
    "df=pd.read_csv(\"data.csv\")"
   ]
  },
  {
   "cell_type": "code",
   "execution_count": 85,
   "id": "54e64abe-e6a1-4f4a-870b-afc880ed9433",
   "metadata": {},
   "outputs": [
    {
     "data": {
      "text/html": [
       "<div>\n",
       "<style scoped>\n",
       "    .dataframe tbody tr th:only-of-type {\n",
       "        vertical-align: middle;\n",
       "    }\n",
       "\n",
       "    .dataframe tbody tr th {\n",
       "        vertical-align: top;\n",
       "    }\n",
       "\n",
       "    .dataframe thead th {\n",
       "        text-align: right;\n",
       "    }\n",
       "</style>\n",
       "<table border=\"1\" class=\"dataframe\">\n",
       "  <thead>\n",
       "    <tr style=\"text-align: right;\">\n",
       "      <th></th>\n",
       "      <th>Name</th>\n",
       "      <th>Age</th>\n",
       "      <th>City</th>\n",
       "    </tr>\n",
       "  </thead>\n",
       "  <tbody>\n",
       "    <tr>\n",
       "      <th>0</th>\n",
       "      <td>John</td>\n",
       "      <td>25</td>\n",
       "      <td>New York</td>\n",
       "    </tr>\n",
       "    <tr>\n",
       "      <th>1</th>\n",
       "      <td>Emma</td>\n",
       "      <td>28</td>\n",
       "      <td>London</td>\n",
       "    </tr>\n",
       "    <tr>\n",
       "      <th>2</th>\n",
       "      <td>Alice</td>\n",
       "      <td>32</td>\n",
       "      <td>Paris</td>\n",
       "    </tr>\n",
       "  </tbody>\n",
       "</table>\n",
       "</div>"
      ],
      "text/plain": [
       "    Name  Age      City\n",
       "0   John   25  New York\n",
       "1   Emma   28    London\n",
       "2  Alice   32     Paris"
      ]
     },
     "execution_count": 85,
     "metadata": {},
     "output_type": "execute_result"
    }
   ],
   "source": [
    "df"
   ]
  },
  {
   "cell_type": "code",
   "execution_count": 86,
   "id": "4ee5c8ce-bcf2-44de-b80c-1d55fea1cacd",
   "metadata": {},
   "outputs": [],
   "source": [
    "# 2. read_xlsx:  This function is used to read data from a excel file and create a DataFrame.\n",
    "df1=pd.read_excel(\"sanjana.xlsx\")"
   ]
  },
  {
   "cell_type": "code",
   "execution_count": 87,
   "id": "553a2991-830b-45ed-9416-85d84483d9c3",
   "metadata": {},
   "outputs": [
    {
     "data": {
      "text/html": [
       "<div>\n",
       "<style scoped>\n",
       "    .dataframe tbody tr th:only-of-type {\n",
       "        vertical-align: middle;\n",
       "    }\n",
       "\n",
       "    .dataframe tbody tr th {\n",
       "        vertical-align: top;\n",
       "    }\n",
       "\n",
       "    .dataframe thead th {\n",
       "        text-align: right;\n",
       "    }\n",
       "</style>\n",
       "<table border=\"1\" class=\"dataframe\">\n",
       "  <thead>\n",
       "    <tr style=\"text-align: right;\">\n",
       "      <th></th>\n",
       "      <th>Sanjana Shinde</th>\n",
       "      <th>Unnamed: 1</th>\n",
       "      <th>Numbers</th>\n",
       "      <th>Unnamed: 3</th>\n",
       "      <th>Squares</th>\n",
       "      <th>Unnamed: 5</th>\n",
       "      <th>cubes</th>\n",
       "    </tr>\n",
       "  </thead>\n",
       "  <tbody>\n",
       "    <tr>\n",
       "      <th>0</th>\n",
       "      <td>NaN</td>\n",
       "      <td>NaN</td>\n",
       "      <td>1</td>\n",
       "      <td>NaN</td>\n",
       "      <td>1</td>\n",
       "      <td>NaN</td>\n",
       "      <td>1</td>\n",
       "    </tr>\n",
       "    <tr>\n",
       "      <th>1</th>\n",
       "      <td>NaN</td>\n",
       "      <td>NaN</td>\n",
       "      <td>2</td>\n",
       "      <td>NaN</td>\n",
       "      <td>4</td>\n",
       "      <td>NaN</td>\n",
       "      <td>8</td>\n",
       "    </tr>\n",
       "    <tr>\n",
       "      <th>2</th>\n",
       "      <td>NaN</td>\n",
       "      <td>NaN</td>\n",
       "      <td>3</td>\n",
       "      <td>NaN</td>\n",
       "      <td>9</td>\n",
       "      <td>NaN</td>\n",
       "      <td>27</td>\n",
       "    </tr>\n",
       "    <tr>\n",
       "      <th>3</th>\n",
       "      <td>NaN</td>\n",
       "      <td>NaN</td>\n",
       "      <td>4</td>\n",
       "      <td>NaN</td>\n",
       "      <td>16</td>\n",
       "      <td>NaN</td>\n",
       "      <td>64</td>\n",
       "    </tr>\n",
       "    <tr>\n",
       "      <th>4</th>\n",
       "      <td>NaN</td>\n",
       "      <td>NaN</td>\n",
       "      <td>5</td>\n",
       "      <td>NaN</td>\n",
       "      <td>25</td>\n",
       "      <td>NaN</td>\n",
       "      <td>125</td>\n",
       "    </tr>\n",
       "  </tbody>\n",
       "</table>\n",
       "</div>"
      ],
      "text/plain": [
       "   Sanjana Shinde  Unnamed: 1  Numbers  Unnamed: 3  Squares  Unnamed: 5  cubes\n",
       "0             NaN         NaN        1         NaN        1         NaN      1\n",
       "1             NaN         NaN        2         NaN        4         NaN      8\n",
       "2             NaN         NaN        3         NaN        9         NaN     27\n",
       "3             NaN         NaN        4         NaN       16         NaN     64\n",
       "4             NaN         NaN        5         NaN       25         NaN    125"
      ]
     },
     "execution_count": 87,
     "metadata": {},
     "output_type": "execute_result"
    }
   ],
   "source": [
    "df1.head()"
   ]
  },
  {
   "cell_type": "code",
   "execution_count": 88,
   "id": "b802b2f1-624c-4a2b-be6d-c57cc59da276",
   "metadata": {},
   "outputs": [
    {
     "name": "stdout",
     "output_type": "stream",
     "text": [
      "<class 'pandas.core.frame.DataFrame'>\n",
      "RangeIndex: 3 entries, 0 to 2\n",
      "Data columns (total 3 columns):\n",
      " #   Column  Non-Null Count  Dtype \n",
      "---  ------  --------------  ----- \n",
      " 0   Name    3 non-null      object\n",
      " 1   Age     3 non-null      int64 \n",
      " 2   City    3 non-null      object\n",
      "dtypes: int64(1), object(2)\n",
      "memory usage: 200.0+ bytes\n"
     ]
    }
   ],
   "source": [
    "# 3.info(): This function provides a summary of the DataFrame, including the column names, data types, and memory usage.\n",
    "df.info()"
   ]
  },
  {
   "cell_type": "code",
   "execution_count": 89,
   "id": "b8d0e3b0-8dba-4155-b2ae-60f5be269054",
   "metadata": {},
   "outputs": [
    {
     "data": {
      "text/html": [
       "<div>\n",
       "<style scoped>\n",
       "    .dataframe tbody tr th:only-of-type {\n",
       "        vertical-align: middle;\n",
       "    }\n",
       "\n",
       "    .dataframe tbody tr th {\n",
       "        vertical-align: top;\n",
       "    }\n",
       "\n",
       "    .dataframe thead th {\n",
       "        text-align: right;\n",
       "    }\n",
       "</style>\n",
       "<table border=\"1\" class=\"dataframe\">\n",
       "  <thead>\n",
       "    <tr style=\"text-align: right;\">\n",
       "      <th></th>\n",
       "      <th>Age</th>\n",
       "    </tr>\n",
       "  </thead>\n",
       "  <tbody>\n",
       "    <tr>\n",
       "      <th>count</th>\n",
       "      <td>3.000000</td>\n",
       "    </tr>\n",
       "    <tr>\n",
       "      <th>mean</th>\n",
       "      <td>28.333333</td>\n",
       "    </tr>\n",
       "    <tr>\n",
       "      <th>std</th>\n",
       "      <td>3.511885</td>\n",
       "    </tr>\n",
       "    <tr>\n",
       "      <th>min</th>\n",
       "      <td>25.000000</td>\n",
       "    </tr>\n",
       "    <tr>\n",
       "      <th>25%</th>\n",
       "      <td>26.500000</td>\n",
       "    </tr>\n",
       "    <tr>\n",
       "      <th>50%</th>\n",
       "      <td>28.000000</td>\n",
       "    </tr>\n",
       "    <tr>\n",
       "      <th>75%</th>\n",
       "      <td>30.000000</td>\n",
       "    </tr>\n",
       "    <tr>\n",
       "      <th>max</th>\n",
       "      <td>32.000000</td>\n",
       "    </tr>\n",
       "  </tbody>\n",
       "</table>\n",
       "</div>"
      ],
      "text/plain": [
       "             Age\n",
       "count   3.000000\n",
       "mean   28.333333\n",
       "std     3.511885\n",
       "min    25.000000\n",
       "25%    26.500000\n",
       "50%    28.000000\n",
       "75%    30.000000\n",
       "max    32.000000"
      ]
     },
     "execution_count": 89,
     "metadata": {},
     "output_type": "execute_result"
    }
   ],
   "source": [
    "# 4. describe(): Generate descriptive statistics.\n",
    "df.describe()"
   ]
  },
  {
   "cell_type": "code",
   "execution_count": 90,
   "id": "2833acfd-007c-4331-ada3-b2c65ed3a886",
   "metadata": {},
   "outputs": [
    {
     "data": {
      "text/html": [
       "<div>\n",
       "<style scoped>\n",
       "    .dataframe tbody tr th:only-of-type {\n",
       "        vertical-align: middle;\n",
       "    }\n",
       "\n",
       "    .dataframe tbody tr th {\n",
       "        vertical-align: top;\n",
       "    }\n",
       "\n",
       "    .dataframe thead th {\n",
       "        text-align: right;\n",
       "    }\n",
       "</style>\n",
       "<table border=\"1\" class=\"dataframe\">\n",
       "  <thead>\n",
       "    <tr style=\"text-align: right;\">\n",
       "      <th></th>\n",
       "      <th>Sanjana Shinde</th>\n",
       "      <th>Unnamed: 1</th>\n",
       "      <th>Numbers</th>\n",
       "      <th>Unnamed: 3</th>\n",
       "      <th>Squares</th>\n",
       "      <th>Unnamed: 5</th>\n",
       "      <th>cubes</th>\n",
       "    </tr>\n",
       "  </thead>\n",
       "  <tbody>\n",
       "    <tr>\n",
       "      <th>0</th>\n",
       "      <td>NaN</td>\n",
       "      <td>NaN</td>\n",
       "      <td>1</td>\n",
       "      <td>NaN</td>\n",
       "      <td>1</td>\n",
       "      <td>NaN</td>\n",
       "      <td>1</td>\n",
       "    </tr>\n",
       "    <tr>\n",
       "      <th>1</th>\n",
       "      <td>NaN</td>\n",
       "      <td>NaN</td>\n",
       "      <td>2</td>\n",
       "      <td>NaN</td>\n",
       "      <td>4</td>\n",
       "      <td>NaN</td>\n",
       "      <td>8</td>\n",
       "    </tr>\n",
       "    <tr>\n",
       "      <th>2</th>\n",
       "      <td>NaN</td>\n",
       "      <td>NaN</td>\n",
       "      <td>3</td>\n",
       "      <td>NaN</td>\n",
       "      <td>9</td>\n",
       "      <td>NaN</td>\n",
       "      <td>27</td>\n",
       "    </tr>\n",
       "    <tr>\n",
       "      <th>3</th>\n",
       "      <td>NaN</td>\n",
       "      <td>NaN</td>\n",
       "      <td>4</td>\n",
       "      <td>NaN</td>\n",
       "      <td>16</td>\n",
       "      <td>NaN</td>\n",
       "      <td>64</td>\n",
       "    </tr>\n",
       "    <tr>\n",
       "      <th>4</th>\n",
       "      <td>NaN</td>\n",
       "      <td>NaN</td>\n",
       "      <td>5</td>\n",
       "      <td>NaN</td>\n",
       "      <td>25</td>\n",
       "      <td>NaN</td>\n",
       "      <td>125</td>\n",
       "    </tr>\n",
       "  </tbody>\n",
       "</table>\n",
       "</div>"
      ],
      "text/plain": [
       "   Sanjana Shinde  Unnamed: 1  Numbers  Unnamed: 3  Squares  Unnamed: 5  cubes\n",
       "0             NaN         NaN        1         NaN        1         NaN      1\n",
       "1             NaN         NaN        2         NaN        4         NaN      8\n",
       "2             NaN         NaN        3         NaN        9         NaN     27\n",
       "3             NaN         NaN        4         NaN       16         NaN     64\n",
       "4             NaN         NaN        5         NaN       25         NaN    125"
      ]
     },
     "execution_count": 90,
     "metadata": {},
     "output_type": "execute_result"
    }
   ],
   "source": [
    "# head(): This function returns the first n rows of the DataFrame. By default, it returns the first 5 rows.\n",
    "df1.head()"
   ]
  },
  {
   "cell_type": "code",
   "execution_count": 91,
   "id": "dccc355a-420e-4b3d-a12f-109470c740cf",
   "metadata": {},
   "outputs": [],
   "source": [
    "# Q.2 Given a Pandas Dataframe df with column 'A','B',and 'c' write a python function to re-index the Dataframe with a new index that starts from 1 and\n",
    "#      increments by 2 for each row.\n",
    "# Ans:\n",
    "data={\"A\":[1,2,3,4,5],\n",
    "     \"B\":[\"siya\",\"disha\",\"fatima\",\"riya\",\"sanika\"],\n",
    "      \"C\":[23,34,45,52,34]}"
   ]
  },
  {
   "cell_type": "code",
   "execution_count": 92,
   "id": "1722f7cd-e6da-48ce-af94-8dbeb5a712c8",
   "metadata": {},
   "outputs": [],
   "source": [
    "df=pd.DataFrame(data)"
   ]
  },
  {
   "cell_type": "code",
   "execution_count": 93,
   "id": "8e2b5860-2ebd-4400-a88b-235b6471cde6",
   "metadata": {},
   "outputs": [
    {
     "data": {
      "text/html": [
       "<div>\n",
       "<style scoped>\n",
       "    .dataframe tbody tr th:only-of-type {\n",
       "        vertical-align: middle;\n",
       "    }\n",
       "\n",
       "    .dataframe tbody tr th {\n",
       "        vertical-align: top;\n",
       "    }\n",
       "\n",
       "    .dataframe thead th {\n",
       "        text-align: right;\n",
       "    }\n",
       "</style>\n",
       "<table border=\"1\" class=\"dataframe\">\n",
       "  <thead>\n",
       "    <tr style=\"text-align: right;\">\n",
       "      <th></th>\n",
       "      <th>A</th>\n",
       "      <th>B</th>\n",
       "      <th>C</th>\n",
       "    </tr>\n",
       "  </thead>\n",
       "  <tbody>\n",
       "    <tr>\n",
       "      <th>0</th>\n",
       "      <td>1</td>\n",
       "      <td>siya</td>\n",
       "      <td>23</td>\n",
       "    </tr>\n",
       "    <tr>\n",
       "      <th>1</th>\n",
       "      <td>2</td>\n",
       "      <td>disha</td>\n",
       "      <td>34</td>\n",
       "    </tr>\n",
       "    <tr>\n",
       "      <th>2</th>\n",
       "      <td>3</td>\n",
       "      <td>fatima</td>\n",
       "      <td>45</td>\n",
       "    </tr>\n",
       "    <tr>\n",
       "      <th>3</th>\n",
       "      <td>4</td>\n",
       "      <td>riya</td>\n",
       "      <td>52</td>\n",
       "    </tr>\n",
       "    <tr>\n",
       "      <th>4</th>\n",
       "      <td>5</td>\n",
       "      <td>sanika</td>\n",
       "      <td>34</td>\n",
       "    </tr>\n",
       "  </tbody>\n",
       "</table>\n",
       "</div>"
      ],
      "text/plain": [
       "   A       B   C\n",
       "0  1    siya  23\n",
       "1  2   disha  34\n",
       "2  3  fatima  45\n",
       "3  4    riya  52\n",
       "4  5  sanika  34"
      ]
     },
     "execution_count": 93,
     "metadata": {},
     "output_type": "execute_result"
    }
   ],
   "source": [
    "df"
   ]
  },
  {
   "cell_type": "code",
   "execution_count": 94,
   "id": "6f4ac881-85cb-4f5c-bdab-891e53262bcf",
   "metadata": {},
   "outputs": [],
   "source": [
    "def reindex(df):\n",
    "    new_index= pd.Index(range(1, len(df) * 2 + 1, 2))\n",
    "    new_df = df.set_index(new_index)\n",
    "    return new_df"
   ]
  },
  {
   "cell_type": "code",
   "execution_count": 95,
   "id": "4f8e4288-9135-4058-b133-3205700a5e83",
   "metadata": {},
   "outputs": [
    {
     "data": {
      "text/html": [
       "<div>\n",
       "<style scoped>\n",
       "    .dataframe tbody tr th:only-of-type {\n",
       "        vertical-align: middle;\n",
       "    }\n",
       "\n",
       "    .dataframe tbody tr th {\n",
       "        vertical-align: top;\n",
       "    }\n",
       "\n",
       "    .dataframe thead th {\n",
       "        text-align: right;\n",
       "    }\n",
       "</style>\n",
       "<table border=\"1\" class=\"dataframe\">\n",
       "  <thead>\n",
       "    <tr style=\"text-align: right;\">\n",
       "      <th></th>\n",
       "      <th>A</th>\n",
       "      <th>B</th>\n",
       "      <th>C</th>\n",
       "    </tr>\n",
       "  </thead>\n",
       "  <tbody>\n",
       "    <tr>\n",
       "      <th>1</th>\n",
       "      <td>1</td>\n",
       "      <td>siya</td>\n",
       "      <td>23</td>\n",
       "    </tr>\n",
       "    <tr>\n",
       "      <th>3</th>\n",
       "      <td>2</td>\n",
       "      <td>disha</td>\n",
       "      <td>34</td>\n",
       "    </tr>\n",
       "    <tr>\n",
       "      <th>5</th>\n",
       "      <td>3</td>\n",
       "      <td>fatima</td>\n",
       "      <td>45</td>\n",
       "    </tr>\n",
       "    <tr>\n",
       "      <th>7</th>\n",
       "      <td>4</td>\n",
       "      <td>riya</td>\n",
       "      <td>52</td>\n",
       "    </tr>\n",
       "    <tr>\n",
       "      <th>9</th>\n",
       "      <td>5</td>\n",
       "      <td>sanika</td>\n",
       "      <td>34</td>\n",
       "    </tr>\n",
       "  </tbody>\n",
       "</table>\n",
       "</div>"
      ],
      "text/plain": [
       "   A       B   C\n",
       "1  1    siya  23\n",
       "3  2   disha  34\n",
       "5  3  fatima  45\n",
       "7  4    riya  52\n",
       "9  5  sanika  34"
      ]
     },
     "execution_count": 95,
     "metadata": {},
     "output_type": "execute_result"
    }
   ],
   "source": [
    "new_df = reindex(df)\n",
    "new_df"
   ]
  },
  {
   "cell_type": "code",
   "execution_count": 96,
   "id": "bcc77a2d-9646-4ee7-b3c1-afd87999feb4",
   "metadata": {},
   "outputs": [],
   "source": [
    "# Q.3 You have a pandas Dataframe df with a column named 'Values'. Write a python function that iterates over the Dataframe and calculates the first \n",
    "#     three values in the \"Values\" column . The function should print the sum to the console.\n",
    "#     For example,\n",
    "#          If the\"Values\" column the values [10,20,30,40,50],your function should calculate and print sum of the first three values,which is 60.\n",
    "\n",
    "# Ans:\n",
    "df=pd.DataFrame({\"Values\":[20,40,60,80,100]})\n"
   ]
  },
  {
   "cell_type": "code",
   "execution_count": 97,
   "id": "26f88ed9-0521-4a9c-aaa1-5cca0b057478",
   "metadata": {},
   "outputs": [
    {
     "data": {
      "text/html": [
       "<div>\n",
       "<style scoped>\n",
       "    .dataframe tbody tr th:only-of-type {\n",
       "        vertical-align: middle;\n",
       "    }\n",
       "\n",
       "    .dataframe tbody tr th {\n",
       "        vertical-align: top;\n",
       "    }\n",
       "\n",
       "    .dataframe thead th {\n",
       "        text-align: right;\n",
       "    }\n",
       "</style>\n",
       "<table border=\"1\" class=\"dataframe\">\n",
       "  <thead>\n",
       "    <tr style=\"text-align: right;\">\n",
       "      <th></th>\n",
       "      <th>Values</th>\n",
       "    </tr>\n",
       "  </thead>\n",
       "  <tbody>\n",
       "    <tr>\n",
       "      <th>0</th>\n",
       "      <td>20</td>\n",
       "    </tr>\n",
       "    <tr>\n",
       "      <th>1</th>\n",
       "      <td>40</td>\n",
       "    </tr>\n",
       "    <tr>\n",
       "      <th>2</th>\n",
       "      <td>60</td>\n",
       "    </tr>\n",
       "    <tr>\n",
       "      <th>3</th>\n",
       "      <td>80</td>\n",
       "    </tr>\n",
       "    <tr>\n",
       "      <th>4</th>\n",
       "      <td>100</td>\n",
       "    </tr>\n",
       "  </tbody>\n",
       "</table>\n",
       "</div>"
      ],
      "text/plain": [
       "   Values\n",
       "0      20\n",
       "1      40\n",
       "2      60\n",
       "3      80\n",
       "4     100"
      ]
     },
     "execution_count": 97,
     "metadata": {},
     "output_type": "execute_result"
    }
   ],
   "source": [
    "df"
   ]
  },
  {
   "cell_type": "code",
   "execution_count": 98,
   "id": "048e361d-b58d-4e0c-8f28-6c8a3991774f",
   "metadata": {},
   "outputs": [],
   "source": [
    "def cal_sum(df):\n",
    "    values=df['Values'].values[:3]\n",
    "    total_sum=sum(values)\n",
    "    print(\"Sum of first three numbers is :\",total_sum)"
   ]
  },
  {
   "cell_type": "code",
   "execution_count": 99,
   "id": "9e5aa026-637d-48f0-9014-d051a29fedf8",
   "metadata": {},
   "outputs": [
    {
     "name": "stdout",
     "output_type": "stream",
     "text": [
      "Sum of first three numbers is : 120\n"
     ]
    }
   ],
   "source": [
    "cal_sum(df)"
   ]
  },
  {
   "cell_type": "code",
   "execution_count": 100,
   "id": "97fea53a-e3d1-46e3-a63f-07a31e958a67",
   "metadata": {},
   "outputs": [],
   "source": [
    "# Q.4 Given a Pandas Dataframe df with a column 'Text',write a Python function to create a new column 'Wrod_count' that contains the number\n",
    "#    of words in each row of the 'Text' column.\n",
    "# Ans:\n",
    "import pandas as pd\n",
    "df2=pd.DataFrame({\"Text\":['That was a great day ','It was great','Nice to see that','Something is wrong','Nice to meet you']})"
   ]
  },
  {
   "cell_type": "code",
   "execution_count": 101,
   "id": "334f79cb-7488-40c0-9e99-7a2985b05834",
   "metadata": {},
   "outputs": [
    {
     "data": {
      "text/html": [
       "<div>\n",
       "<style scoped>\n",
       "    .dataframe tbody tr th:only-of-type {\n",
       "        vertical-align: middle;\n",
       "    }\n",
       "\n",
       "    .dataframe tbody tr th {\n",
       "        vertical-align: top;\n",
       "    }\n",
       "\n",
       "    .dataframe thead th {\n",
       "        text-align: right;\n",
       "    }\n",
       "</style>\n",
       "<table border=\"1\" class=\"dataframe\">\n",
       "  <thead>\n",
       "    <tr style=\"text-align: right;\">\n",
       "      <th></th>\n",
       "      <th>Text</th>\n",
       "    </tr>\n",
       "  </thead>\n",
       "  <tbody>\n",
       "    <tr>\n",
       "      <th>0</th>\n",
       "      <td>That was a great day</td>\n",
       "    </tr>\n",
       "    <tr>\n",
       "      <th>1</th>\n",
       "      <td>It was great</td>\n",
       "    </tr>\n",
       "    <tr>\n",
       "      <th>2</th>\n",
       "      <td>Nice to see that</td>\n",
       "    </tr>\n",
       "    <tr>\n",
       "      <th>3</th>\n",
       "      <td>Something is wrong</td>\n",
       "    </tr>\n",
       "    <tr>\n",
       "      <th>4</th>\n",
       "      <td>Nice to meet you</td>\n",
       "    </tr>\n",
       "  </tbody>\n",
       "</table>\n",
       "</div>"
      ],
      "text/plain": [
       "                    Text\n",
       "0  That was a great day \n",
       "1           It was great\n",
       "2       Nice to see that\n",
       "3     Something is wrong\n",
       "4       Nice to meet you"
      ]
     },
     "execution_count": 101,
     "metadata": {},
     "output_type": "execute_result"
    }
   ],
   "source": [
    "df2"
   ]
  },
  {
   "cell_type": "code",
   "execution_count": 102,
   "id": "56fefbbf-58a2-472a-b822-be99694474c5",
   "metadata": {},
   "outputs": [],
   "source": [
    "df2['Word_count']=df2['Text'].apply(lambda x:len(x.split()))"
   ]
  },
  {
   "cell_type": "code",
   "execution_count": 103,
   "id": "e5274ef0-db30-4857-9974-452d83221283",
   "metadata": {},
   "outputs": [
    {
     "data": {
      "text/html": [
       "<div>\n",
       "<style scoped>\n",
       "    .dataframe tbody tr th:only-of-type {\n",
       "        vertical-align: middle;\n",
       "    }\n",
       "\n",
       "    .dataframe tbody tr th {\n",
       "        vertical-align: top;\n",
       "    }\n",
       "\n",
       "    .dataframe thead th {\n",
       "        text-align: right;\n",
       "    }\n",
       "</style>\n",
       "<table border=\"1\" class=\"dataframe\">\n",
       "  <thead>\n",
       "    <tr style=\"text-align: right;\">\n",
       "      <th></th>\n",
       "      <th>Text</th>\n",
       "      <th>Word_count</th>\n",
       "    </tr>\n",
       "  </thead>\n",
       "  <tbody>\n",
       "    <tr>\n",
       "      <th>0</th>\n",
       "      <td>That was a great day</td>\n",
       "      <td>5</td>\n",
       "    </tr>\n",
       "    <tr>\n",
       "      <th>1</th>\n",
       "      <td>It was great</td>\n",
       "      <td>3</td>\n",
       "    </tr>\n",
       "    <tr>\n",
       "      <th>2</th>\n",
       "      <td>Nice to see that</td>\n",
       "      <td>4</td>\n",
       "    </tr>\n",
       "    <tr>\n",
       "      <th>3</th>\n",
       "      <td>Something is wrong</td>\n",
       "      <td>3</td>\n",
       "    </tr>\n",
       "    <tr>\n",
       "      <th>4</th>\n",
       "      <td>Nice to meet you</td>\n",
       "      <td>4</td>\n",
       "    </tr>\n",
       "  </tbody>\n",
       "</table>\n",
       "</div>"
      ],
      "text/plain": [
       "                    Text  Word_count\n",
       "0  That was a great day            5\n",
       "1           It was great           3\n",
       "2       Nice to see that           4\n",
       "3     Something is wrong           3\n",
       "4       Nice to meet you           4"
      ]
     },
     "execution_count": 103,
     "metadata": {},
     "output_type": "execute_result"
    }
   ],
   "source": [
    "df2"
   ]
  },
  {
   "cell_type": "code",
   "execution_count": 104,
   "id": "1197a4c0-55e4-4115-98b9-82621f5cab91",
   "metadata": {},
   "outputs": [
    {
     "data": {
      "text/html": [
       "<div>\n",
       "<style scoped>\n",
       "    .dataframe tbody tr th:only-of-type {\n",
       "        vertical-align: middle;\n",
       "    }\n",
       "\n",
       "    .dataframe tbody tr th {\n",
       "        vertical-align: top;\n",
       "    }\n",
       "\n",
       "    .dataframe thead th {\n",
       "        text-align: right;\n",
       "    }\n",
       "</style>\n",
       "<table border=\"1\" class=\"dataframe\">\n",
       "  <thead>\n",
       "    <tr style=\"text-align: right;\">\n",
       "      <th></th>\n",
       "      <th>numbers</th>\n",
       "      <th>Squares</th>\n",
       "    </tr>\n",
       "  </thead>\n",
       "  <tbody>\n",
       "    <tr>\n",
       "      <th>0</th>\n",
       "      <td>2</td>\n",
       "      <td>4</td>\n",
       "    </tr>\n",
       "    <tr>\n",
       "      <th>1</th>\n",
       "      <td>3</td>\n",
       "      <td>9</td>\n",
       "    </tr>\n",
       "    <tr>\n",
       "      <th>2</th>\n",
       "      <td>4</td>\n",
       "      <td>16</td>\n",
       "    </tr>\n",
       "    <tr>\n",
       "      <th>3</th>\n",
       "      <td>5</td>\n",
       "      <td>25</td>\n",
       "    </tr>\n",
       "    <tr>\n",
       "      <th>4</th>\n",
       "      <td>6</td>\n",
       "      <td>36</td>\n",
       "    </tr>\n",
       "  </tbody>\n",
       "</table>\n",
       "</div>"
      ],
      "text/plain": [
       "   numbers  Squares\n",
       "0        2        4\n",
       "1        3        9\n",
       "2        4       16\n",
       "3        5       25\n",
       "4        6       36"
      ]
     },
     "execution_count": 104,
     "metadata": {},
     "output_type": "execute_result"
    }
   ],
   "source": [
    "# Q.5 How are DataFrame.size() and DataFrame.shape() different ?\n",
    "# Ans:\n",
    "# 1.DataFrame.size():\n",
    "#     DataFrame.size(): The size() method returns the total number of elements in the DataFrame. It calculates the size by multiplying the number of \n",
    "#  rows\n",
    "# Example:\n",
    "data2={\"numbers\":[2,3,4,5,6],\"Squares\":[4,9,16,25,36]}\n",
    "df3=pd.DataFrame(data2)\n",
    "df3"
   ]
  },
  {
   "cell_type": "code",
   "execution_count": 105,
   "id": "a2359c61-b1f1-49b6-a357-f0843fa2214d",
   "metadata": {},
   "outputs": [
    {
     "data": {
      "text/plain": [
       "10"
      ]
     },
     "execution_count": 105,
     "metadata": {},
     "output_type": "execute_result"
    }
   ],
   "source": [
    "df3.size"
   ]
  },
  {
   "cell_type": "code",
   "execution_count": 106,
   "id": "eb6252a7-b213-476f-9915-b782b604634a",
   "metadata": {},
   "outputs": [],
   "source": [
    "# Explaination:\n",
    "#   In this example, the DataFrame has 3 rows and 2 columns, so the total number of elements is 5 * 2 = 10."
   ]
  },
  {
   "cell_type": "code",
   "execution_count": 107,
   "id": "3bf18923-fb78-45a7-8faa-d68520516720",
   "metadata": {},
   "outputs": [
    {
     "data": {
      "text/plain": [
       "(5, 2)"
      ]
     },
     "execution_count": 107,
     "metadata": {},
     "output_type": "execute_result"
    }
   ],
   "source": [
    "# 2.DataFrame.shape():\n",
    "#     The shape() method returns a tuple representing the dimensions of the DataFrame. It provides information about the number of rows and columns in\n",
    "# the DataFrame.\n",
    "# Example:\n",
    "df3.shape"
   ]
  },
  {
   "cell_type": "code",
   "execution_count": 108,
   "id": "4bd27867-0441-4244-b014-373fa33ac375",
   "metadata": {},
   "outputs": [],
   "source": [
    "#  Explaination:\n",
    "#      In this example, the DataFrame has 3 rows and 2 columns, so the shape is represented as (3, 2)."
   ]
  },
  {
   "cell_type": "code",
   "execution_count": 109,
   "id": "9218840b-58e0-4f4f-b5e2-60fef3fffa36",
   "metadata": {},
   "outputs": [],
   "source": [
    "# Q.6 Which function of pandas do we use to read an excel file?\n",
    "# Ans:\n",
    "#    To read an Excel file using Pandas, we can use the read_excel() function"
   ]
  },
  {
   "cell_type": "code",
   "execution_count": 110,
   "id": "b3cbee18-d552-4b56-94c7-17f225a43fe2",
   "metadata": {},
   "outputs": [
    {
     "data": {
      "text/html": [
       "<div>\n",
       "<style scoped>\n",
       "    .dataframe tbody tr th:only-of-type {\n",
       "        vertical-align: middle;\n",
       "    }\n",
       "\n",
       "    .dataframe tbody tr th {\n",
       "        vertical-align: top;\n",
       "    }\n",
       "\n",
       "    .dataframe thead th {\n",
       "        text-align: right;\n",
       "    }\n",
       "</style>\n",
       "<table border=\"1\" class=\"dataframe\">\n",
       "  <thead>\n",
       "    <tr style=\"text-align: right;\">\n",
       "      <th></th>\n",
       "      <th>Email</th>\n",
       "    </tr>\n",
       "  </thead>\n",
       "  <tbody>\n",
       "    <tr>\n",
       "      <th>0</th>\n",
       "      <td>amitsharma@gmail.com</td>\n",
       "    </tr>\n",
       "    <tr>\n",
       "      <th>1</th>\n",
       "      <td>diya234@gmail.com</td>\n",
       "    </tr>\n",
       "    <tr>\n",
       "      <th>2</th>\n",
       "      <td>Soniyashi23@gmail.com</td>\n",
       "    </tr>\n",
       "  </tbody>\n",
       "</table>\n",
       "</div>"
      ],
      "text/plain": [
       "                   Email\n",
       "0   amitsharma@gmail.com\n",
       "1      diya234@gmail.com\n",
       "2  Soniyashi23@gmail.com"
      ]
     },
     "execution_count": 110,
     "metadata": {},
     "output_type": "execute_result"
    }
   ],
   "source": [
    "# Q.7  You have a Pandas DataFrame df that contains a column named 'Email' that contains email addresses in the format 'username@domain.com'.\n",
    "#     Write a Python function that creates a new column 'Username' in df that contains only the username part of each email address.\n",
    "#     The username is the part of the email address that appears before the '@' symbol. For example, if the email address is 'john.doe@example.com',\n",
    "#     the 'Username' column should contain 'john.doe'. Your function should extract the username from each email address and store it in the new \n",
    "#     'Username' column.\n",
    "\n",
    "# Ans:\n",
    "import pandas as pd\n",
    "data2={'Email':['amitsharma@gmail.com','diya234@gmail.com','Soniyashi23@gmail.com']}\n",
    "df=pd.DataFrame(data2)\n",
    "df"
   ]
  },
  {
   "cell_type": "code",
   "execution_count": 111,
   "id": "f3b22480-adc0-46c2-bf88-de3a8790417b",
   "metadata": {},
   "outputs": [],
   "source": [
    "def extract_email(df):\n",
    "    df['Username']=df['Email'].str.split('@').str[0]"
   ]
  },
  {
   "cell_type": "code",
   "execution_count": 112,
   "id": "d28e8bb2-4103-44c7-b9e6-5e995c08c111",
   "metadata": {},
   "outputs": [
    {
     "data": {
      "text/html": [
       "<div>\n",
       "<style scoped>\n",
       "    .dataframe tbody tr th:only-of-type {\n",
       "        vertical-align: middle;\n",
       "    }\n",
       "\n",
       "    .dataframe tbody tr th {\n",
       "        vertical-align: top;\n",
       "    }\n",
       "\n",
       "    .dataframe thead th {\n",
       "        text-align: right;\n",
       "    }\n",
       "</style>\n",
       "<table border=\"1\" class=\"dataframe\">\n",
       "  <thead>\n",
       "    <tr style=\"text-align: right;\">\n",
       "      <th></th>\n",
       "      <th>Email</th>\n",
       "      <th>Username</th>\n",
       "    </tr>\n",
       "  </thead>\n",
       "  <tbody>\n",
       "    <tr>\n",
       "      <th>0</th>\n",
       "      <td>amitsharma@gmail.com</td>\n",
       "      <td>amitsharma</td>\n",
       "    </tr>\n",
       "    <tr>\n",
       "      <th>1</th>\n",
       "      <td>diya234@gmail.com</td>\n",
       "      <td>diya234</td>\n",
       "    </tr>\n",
       "    <tr>\n",
       "      <th>2</th>\n",
       "      <td>Soniyashi23@gmail.com</td>\n",
       "      <td>Soniyashi23</td>\n",
       "    </tr>\n",
       "  </tbody>\n",
       "</table>\n",
       "</div>"
      ],
      "text/plain": [
       "                   Email     Username\n",
       "0   amitsharma@gmail.com   amitsharma\n",
       "1      diya234@gmail.com      diya234\n",
       "2  Soniyashi23@gmail.com  Soniyashi23"
      ]
     },
     "execution_count": 112,
     "metadata": {},
     "output_type": "execute_result"
    }
   ],
   "source": [
    "extract_email(df)\n",
    "df"
   ]
  },
  {
   "cell_type": "code",
   "execution_count": 113,
   "id": "abd4f4de-e835-4b1f-9499-dbeb93c4a0bd",
   "metadata": {},
   "outputs": [
    {
     "data": {
      "text/html": [
       "<div>\n",
       "<style scoped>\n",
       "    .dataframe tbody tr th:only-of-type {\n",
       "        vertical-align: middle;\n",
       "    }\n",
       "\n",
       "    .dataframe tbody tr th {\n",
       "        vertical-align: top;\n",
       "    }\n",
       "\n",
       "    .dataframe thead th {\n",
       "        text-align: right;\n",
       "    }\n",
       "</style>\n",
       "<table border=\"1\" class=\"dataframe\">\n",
       "  <thead>\n",
       "    <tr style=\"text-align: right;\">\n",
       "      <th></th>\n",
       "      <th>A</th>\n",
       "      <th>B</th>\n",
       "      <th>C</th>\n",
       "    </tr>\n",
       "  </thead>\n",
       "  <tbody>\n",
       "    <tr>\n",
       "      <th>0</th>\n",
       "      <td>2</td>\n",
       "      <td>4</td>\n",
       "      <td>4</td>\n",
       "    </tr>\n",
       "    <tr>\n",
       "      <th>1</th>\n",
       "      <td>9</td>\n",
       "      <td>3</td>\n",
       "      <td>3</td>\n",
       "    </tr>\n",
       "    <tr>\n",
       "      <th>2</th>\n",
       "      <td>4</td>\n",
       "      <td>5</td>\n",
       "      <td>5</td>\n",
       "    </tr>\n",
       "    <tr>\n",
       "      <th>3</th>\n",
       "      <td>6</td>\n",
       "      <td>6</td>\n",
       "      <td>6</td>\n",
       "    </tr>\n",
       "    <tr>\n",
       "      <th>4</th>\n",
       "      <td>3</td>\n",
       "      <td>7</td>\n",
       "      <td>7</td>\n",
       "    </tr>\n",
       "  </tbody>\n",
       "</table>\n",
       "</div>"
      ],
      "text/plain": [
       "   A  B  C\n",
       "0  2  4  4\n",
       "1  9  3  3\n",
       "2  4  5  5\n",
       "3  6  6  6\n",
       "4  3  7  7"
      ]
     },
     "execution_count": 113,
     "metadata": {},
     "output_type": "execute_result"
    }
   ],
   "source": [
    "# Q.8 You have a Pandas DataFrame df with columns 'A', 'B', and 'C'. Write a Python function that selects all rows where the value in column 'A' is \n",
    "#     greater than 5 and the value in column 'B' is less than 10. The function should return a new DataFrame that contains only the selected rows.\n",
    "#     For example, if df contains the following values:\n",
    "#       A B C\n",
    "#     0 3 5 1\n",
    "#     1 8 2 7\n",
    "#     2 6 9 4\n",
    "#     3 2 3 5\n",
    "#     4 9 1 2\n",
    "\n",
    "#     Your function should select the following rows: A B C\n",
    "#     1 8 2 7\n",
    "#     4 9 1 2\n",
    "#     The function should return a new DataFrame that contains only the selected rows.\n",
    "\n",
    "# Ans:\n",
    "data={\"A\":[2,9,4,6,3],\"B\":[4,3,5,6,7],\"C\":[4,3,5,6,7]}\n",
    "df=pd.DataFrame(data)\n",
    "df"
   ]
  },
  {
   "cell_type": "code",
   "execution_count": null,
   "id": "bbc08075-7bff-4da3-88ed-4df2fac4cdbe",
   "metadata": {},
   "outputs": [],
   "source": [
    "def select_rows(df):\n",
    "    selected_rows=df[(df['A']>5) & (df['B']<10)]\n",
    "    return selected_rows"
   ]
  },
  {
   "cell_type": "code",
   "execution_count": null,
   "id": "d6b50541-b1e7-4a4a-bef5-1bebbdeb0b61",
   "metadata": {},
   "outputs": [],
   "source": [
    "selected_df = select_rows(df)"
   ]
  },
  {
   "cell_type": "code",
   "execution_count": null,
   "id": "97a9789e-c32c-439e-b0de-9b8f91ad67d8",
   "metadata": {},
   "outputs": [],
   "source": [
    "selected_df"
   ]
  },
  {
   "cell_type": "code",
   "execution_count": null,
   "id": "c10dbbb2-b3bf-4ee2-aab6-a58f0d14b6b3",
   "metadata": {},
   "outputs": [],
   "source": [
    "# Q.9. Given a Pandas DataFrame df with a column 'Values', write a Python function to calculate the mean, median, and standard deviation of the values\n",
    "#     in the 'Values' column.\n",
    "\n",
    "# Ans:\n",
    "data={\"Values\":[24,45,56,25]}\n",
    "df=pd.DataFrame(data)"
   ]
  },
  {
   "cell_type": "code",
   "execution_count": null,
   "id": "2c74d921-cbf4-4e38-8bff-a620f12b3dc3",
   "metadata": {},
   "outputs": [],
   "source": [
    "def calculate(df):\n",
    "    mean=df['Values'].mean()\n",
    "    median=df['Values'].median()\n",
    "    standard_deviation=df['Values'].std()\n",
    "    return mean,median,standard_deviation"
   ]
  },
  {
   "cell_type": "code",
   "execution_count": null,
   "id": "22531b41-62ec-4a1c-87c8-5bb87e0ce329",
   "metadata": {},
   "outputs": [],
   "source": [
    "mean,median,standard_deviation=calculate(df)\n",
    "print('Mean',mean)\n",
    "print('Median',median)\n",
    "print('Standard deviation',standard_deviation)"
   ]
  },
  {
   "cell_type": "code",
   "execution_count": null,
   "id": "1e542cc7-c792-4f3e-a489-03e11d856e5a",
   "metadata": {},
   "outputs": [],
   "source": [
    "# Q.10. Given a Pandas DataFrame df with a column 'Sales' and a column 'Date', write a Python function to create a new column 'MovingAverage' that \n",
    "#       contains the moving average of the sales for the past 7 days for each row in the DataFrame. The moving average should be calculated using a\n",
    "#       window of size 7 and should include the current day.\n",
    "\n",
    "# Ans:\n",
    "data = {'Sales': [10, 15, 12, 8, 20, 17, 9, 14, 16, 22, 18, 13],\n",
    "        'Date': pd.date_range(start='1/1/2022', periods=12)}\n",
    "df = pd.DataFrame(data)"
   ]
  },
  {
   "cell_type": "code",
   "execution_count": null,
   "id": "d74924f8-c13c-416f-a839-aeb28bd8b858",
   "metadata": {},
   "outputs": [],
   "source": [
    "df"
   ]
  },
  {
   "cell_type": "code",
   "execution_count": null,
   "id": "68a19ea2-03b6-45d0-9849-202a3e7aa6ea",
   "metadata": {},
   "outputs": [],
   "source": [
    "\n",
    "def moving_average(df):\n",
    "    df['MovingAverage']=df['Sales'].rolling(window=7, min_periods=1).mean()"
   ]
  },
  {
   "cell_type": "code",
   "execution_count": null,
   "id": "f7764fbf-b07c-4e3e-98cb-6728b96619b7",
   "metadata": {},
   "outputs": [],
   "source": [
    "moving_average(df)\n",
    "df"
   ]
  },
  {
   "cell_type": "code",
   "execution_count": null,
   "id": "a4c839a2-19ff-4bc7-92ce-a1509eb91d5b",
   "metadata": {},
   "outputs": [],
   "source": [
    "# Q.11 You have a Pandas DataFrame df with a column 'Date'. Write a Python function that creates a new column 'Weekday' in the DataFrame.The 'Weekday' \n",
    "#       column should contain the weekday name (e.g. Monday, Tuesday) corresponding to each date in the 'Date' column.\n",
    "#       For example, if df contains the following values:\n",
    "#          Date\n",
    "#       0 2023-01-01\n",
    "#       1 2023-01-02\n",
    "#       2 2023-01-03\n",
    "#       3 2023-01-04\n",
    "#       4 2023-01-05\n",
    "#       Your function should create the following DataFrame:\n",
    "\n",
    "#              Date Weekday\n",
    "#       0 2023-01-01 Sunday\n",
    "#       1 2023-01-02 Monday\n",
    "#       2 2023-01-03 Tuesday\n",
    "#       3 2023-01-04 Wednesday\n",
    "#       4 2023-01-05 Thursday\n",
    "#       The function should return the modified DataFrame.\n",
    "\n",
    "# Ans:\n",
    "data = {'Date': pd.to_datetime(['2023-01-01', '2023-01-02', '2023-01-03', '2023-01-04', '2023-01-05','2023-01-06','2023-01-07'])}\n",
    "df = pd.DataFrame(data)"
   ]
  },
  {
   "cell_type": "code",
   "execution_count": null,
   "id": "24869d2a-a7dc-4407-89f5-4d5325f3763f",
   "metadata": {},
   "outputs": [],
   "source": [
    "df"
   ]
  },
  {
   "cell_type": "code",
   "execution_count": null,
   "id": "f5f892b9-052d-4974-9aad-01512f916782",
   "metadata": {},
   "outputs": [],
   "source": [
    "def add_weekday_column(df):\n",
    "    df['Weekday'] = df['Date'].dt.strftime('%A')\n",
    "    return df"
   ]
  },
  {
   "cell_type": "code",
   "execution_count": null,
   "id": "b66c6fd2-fcbd-40cb-b310-678536ce08cf",
   "metadata": {},
   "outputs": [],
   "source": [
    "df = add_weekday_column(df)"
   ]
  },
  {
   "cell_type": "code",
   "execution_count": null,
   "id": "6fcd5ba5-e082-4e71-ab38-dfdf553d5c74",
   "metadata": {},
   "outputs": [],
   "source": [
    "df"
   ]
  },
  {
   "cell_type": "code",
   "execution_count": null,
   "id": "70a67745-249f-4f89-8c9a-f87fd35b135c",
   "metadata": {},
   "outputs": [],
   "source": [
    "# Q.12 Given a Pandas DataFrame df with a column 'Date' that contains timestamps, write a Python function to select all rows where the date is between\n",
    "#      '2023-01-01' and '2023-01-31'.\n",
    "\n",
    "# Ans:\n",
    "data = {'Date': pd.to_datetime(['2022-12-31', '2023-01-15', '2023-01-31', '2023-02-10'])}\n",
    "df = pd.DataFrame(data)"
   ]
  },
  {
   "cell_type": "code",
   "execution_count": null,
   "id": "4fd24a46-7d02-4dc0-bfba-b469f7a67bbc",
   "metadata": {},
   "outputs": [],
   "source": [
    "df"
   ]
  },
  {
   "cell_type": "code",
   "execution_count": null,
   "id": "2ed5c1d9-51f6-41a9-b58a-d4f416e5b189",
   "metadata": {},
   "outputs": [],
   "source": [
    "def select_rows_between_dates(df):\n",
    "    start_date = pd.to_datetime('2023-01-01')\n",
    "    end_date = pd.to_datetime('2023-01-31')\n",
    "    selected_rows = df[(df['Date'] >= start_date) & (df['Date'] <= end_date)]\n",
    "    return selected_rows"
   ]
  },
  {
   "cell_type": "code",
   "execution_count": null,
   "id": "fb90520d-def3-4252-b72c-dbfb40ba2e6e",
   "metadata": {},
   "outputs": [],
   "source": [
    " select_rows_between_dates(df)"
   ]
  },
  {
   "cell_type": "code",
   "execution_count": null,
   "id": "efafc9b5-c645-4c7c-a3d0-779a9ed2ea57",
   "metadata": {},
   "outputs": [],
   "source": [
    "# Q.13 To use the basic functions of pandas, what is the first and foremost necessary library that needs to be imported?\n",
    "# Ans:\n",
    "#     The first and foremost necessary library that needs to be imported to use the basic functions of pandas is the pandas library itself. You need to\n",
    "# import the pandas library in order to create and manipulate DataFrames, perform data analysis tasks, and use various functions provided by the pandas\n",
    "# library.\n",
    "\n",
    "# Here's an example of importing the pandas library:\n",
    "# import pandas as pd\n",
    "\n",
    "#     By convention, pd is commonly used as an alias for the pandas library to make it easier to refer to the library's functions and classes \n",
    "# throughout the code. Once you import the pandas library, you can use its functions and classes by prefixing them with pd, such as pd.DataFrame(), \n",
    "# pd.read_csv(), pd.concat(), and so on."
   ]
  },
  {
   "cell_type": "code",
   "execution_count": null,
   "id": "60e4b12a-0962-48b9-99ea-3e595a41f943",
   "metadata": {},
   "outputs": [],
   "source": []
  }
 ],
 "metadata": {
  "kernelspec": {
   "display_name": "Python 3 (ipykernel)",
   "language": "python",
   "name": "python3"
  },
  "language_info": {
   "codemirror_mode": {
    "name": "ipython",
    "version": 3
   },
   "file_extension": ".py",
   "mimetype": "text/x-python",
   "name": "python",
   "nbconvert_exporter": "python",
   "pygments_lexer": "ipython3",
   "version": "3.10.8"
  }
 },
 "nbformat": 4,
 "nbformat_minor": 5
}
