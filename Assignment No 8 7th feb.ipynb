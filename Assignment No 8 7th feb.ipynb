{
 "cells": [
  {
   "cell_type": "code",
   "execution_count": 30,
   "id": "2e2d8a64-cff7-4827-b999-3dbec488c1c5",
   "metadata": {},
   "outputs": [],
   "source": [
    "# Q.1 You are writing code for a company .The requirement of the company is that you create a python function that will cheak whether \n",
    "#     the password entered by the user is correct or not. The function should take the password as input and return the string \n",
    "#     \"valid Passward \" if the entered .\n",
    "#     password fallows the below-given passward guideline else it should return \"Invalid PAssward\".\n",
    "\n",
    "# Note:\n",
    "#    1.The Passward should contain at least two uppercase letters and at least two lowercase letters.\n",
    "#    2.The passward should contsin at least a number and three special characters.\n",
    "#    3.The length of thr passward should be 10 characters long.\n",
    "\n",
    "# Code:\n",
    "\n",
    "def password():\n",
    "    import re\n",
    "    pw=(input(\"Enter passward :\"))\n",
    "    flag=0\n",
    "    while True:\n",
    "        if (len(pw)!=10):\n",
    "            flag=-1\n",
    "            break\n",
    "        elif not re.search(\"[a-z]\",pw):\n",
    "            flag=-1\n",
    "            break\n",
    "        elif not re.search(\"[A-Z]\",pw):\n",
    "            flag=-1\n",
    "            break\n",
    "        elif not re.search(\"[0-9]\",pw):\n",
    "            flag=-1\n",
    "            break\n",
    "        elif not re.search(\"[_@$#]\",pw):\n",
    "            flag=-1\n",
    "            break\n",
    "        elif re.search(\"\\s\",pw):\n",
    "            flag=-1\n",
    "            break\n",
    "        else:\n",
    "            flag=0\n",
    "            print(\"Valid Password\")\n",
    "            break\n",
    "    if flag == -1:\n",
    "        print(\"Invalid Password\")\n",
    "            \n",
    "        \n",
    "        \n"
   ]
  },
  {
   "cell_type": "code",
   "execution_count": 31,
   "id": "ea35fdd8-6ccc-41a6-8ca8-e83971d78b4b",
   "metadata": {},
   "outputs": [
    {
     "name": "stdin",
     "output_type": "stream",
     "text": [
      "Enter passward : San1@2#3#A\n"
     ]
    },
    {
     "name": "stdout",
     "output_type": "stream",
     "text": [
      "Valid Password\n"
     ]
    }
   ],
   "source": [
    "password()"
   ]
  },
  {
   "cell_type": "code",
   "execution_count": 24,
   "id": "7351b49c-2c24-4914-a925-871aa5419212",
   "metadata": {},
   "outputs": [],
   "source": [
    "# Q.2 Solve the below-given quesion using at least one of the following .\n",
    "#  1.Lambda function\n",
    "#  2.Filter function\n",
    "#  3.Map Function\n",
    "#  4.List conprehension\n",
    "\n",
    "\n",
    "# 1.Check if the string starts with a particular letter.\n",
    "# Ans:\n",
    "# (checking string starts with 'a' or not )\n",
    "s='abcdef'\n",
    "s_n=lambda x:\"String is started with 'a'\" if x[0]=='a' else \"String is not started with a\"\n"
   ]
  },
  {
   "cell_type": "code",
   "execution_count": 25,
   "id": "a7607719-f99b-4d4e-9661-bae46d83722e",
   "metadata": {},
   "outputs": [
    {
     "data": {
      "text/plain": [
       "\"String is started with 'a'\""
      ]
     },
     "execution_count": 25,
     "metadata": {},
     "output_type": "execute_result"
    }
   ],
   "source": [
    "s_n(s)"
   ]
  },
  {
   "cell_type": "code",
   "execution_count": 20,
   "id": "ea95e9ef-41c0-4085-981a-c2b7a5f6d512",
   "metadata": {},
   "outputs": [],
   "source": [
    "# 2.Check if thr string is numeric.\n",
    "\n",
    "# Ans:\n",
    "s=12348\n",
    "s_n=lambda x: \"String is numeric\" if type(x)==int else \"String is not numeric\""
   ]
  },
  {
   "cell_type": "code",
   "execution_count": 21,
   "id": "86ea2ddf-1c0a-4105-96ab-fe1a202efd52",
   "metadata": {},
   "outputs": [
    {
     "data": {
      "text/plain": [
       "'String is numeric'"
      ]
     },
     "execution_count": 21,
     "metadata": {},
     "output_type": "execute_result"
    }
   ],
   "source": [
    "s_n(s)"
   ]
  },
  {
   "cell_type": "code",
   "execution_count": 5,
   "id": "a70fdec7-a018-432f-baf0-6ae65e93d3f3",
   "metadata": {},
   "outputs": [
    {
     "name": "stdout",
     "output_type": "stream",
     "text": [
      "[('orange', 80), ('mango', 99), ('grapes', 1000)]\n"
     ]
    }
   ],
   "source": [
    "# 3.Sort a list of tuples having fruit names and their quantity.[(\"mango\",99),(\"orange\",80),(\"grapes\",1000)]\n",
    "\n",
    "# Ans:\n",
    "sample=[('mango',99),('orange',80),('grapes',1000)]\n",
    "sample.sort(key=lambda a:a[1])\n",
    "print(sample)"
   ]
  },
  {
   "cell_type": "code",
   "execution_count": 6,
   "id": "26329267-f678-48c8-8d77-0ff11b847926",
   "metadata": {},
   "outputs": [
    {
     "data": {
      "text/plain": [
       "[1, 4, 9, 16, 25, 36, 49, 64, 81, 100]"
      ]
     },
     "execution_count": 6,
     "metadata": {},
     "output_type": "execute_result"
    }
   ],
   "source": [
    "# 4.Find the squares of numbers from 1 to 10.\n",
    "# Ans:\n",
    "l1=[1,2,3,4,5,6,7,8,9,10]\n",
    "list(map(lambda x: x**2,l1))"
   ]
  },
  {
   "cell_type": "code",
   "execution_count": 43,
   "id": "b92c58db-4da2-4a23-a8b6-ed0eab4fa6c9",
   "metadata": {},
   "outputs": [
    {
     "data": {
      "text/plain": [
       "[1.0,\n",
       " 1.2599210498948732,\n",
       " 1.4422495703074083,\n",
       " 1.5874010519681994,\n",
       " 1.7099759466766968,\n",
       " 1.8171205928321397,\n",
       " 1.912931182772389,\n",
       " 2.0,\n",
       " 2.080083823051904,\n",
       " 2.154434690031884]"
      ]
     },
     "execution_count": 43,
     "metadata": {},
     "output_type": "execute_result"
    }
   ],
   "source": [
    "# 5.Find the cube root of numbers from 1 to 10.\n",
    "# Ans:\n",
    "l=[1,2,3,4,5,6,7,8,9,10]\n",
    "list(map(lambda x: x**(1/3),l))"
   ]
  },
  {
   "cell_type": "code",
   "execution_count": 3,
   "id": "e1ba1ebd-e0c8-4477-bc0c-2cf98311a46c",
   "metadata": {},
   "outputs": [],
   "source": [
    "# 6.Cheak if a given number is even.\n",
    "# Ans:\n",
    "no=24\n",
    "even= lambda x: \"Number is even\" if x%2==0 else \"Number is not even\""
   ]
  },
  {
   "cell_type": "code",
   "execution_count": 5,
   "id": "abe101b5-bf75-4385-b383-cd520b340a42",
   "metadata": {},
   "outputs": [
    {
     "data": {
      "text/plain": [
       "'Number is even'"
      ]
     },
     "execution_count": 5,
     "metadata": {},
     "output_type": "execute_result"
    }
   ],
   "source": [
    "even(no)"
   ]
  },
  {
   "cell_type": "code",
   "execution_count": 9,
   "id": "c0d3b32d-c694-4f3f-8f43-f71395af0dc4",
   "metadata": {},
   "outputs": [
    {
     "data": {
      "text/plain": [
       "[1, 3, 5, 7, 9]"
      ]
     },
     "execution_count": 9,
     "metadata": {},
     "output_type": "execute_result"
    }
   ],
   "source": [
    "# 7.Filter odd numbers from the given list. \n",
    "#   [1,2,3,4,5,6,7,8,9,10]\n",
    "# Ans:\n",
    "l=[1,2,3,4,5,6,7,8,9,10]\n",
    "list(filter(lambda x: x if x%2!=0 else \"\",l))"
   ]
  },
  {
   "cell_type": "code",
   "execution_count": 7,
   "id": "f1751881-abcd-4b22-84f4-9ac25ca9cd17",
   "metadata": {},
   "outputs": [],
   "source": [
    "# 8. Sort a list of integers into positive and negative integers list. \n",
    "#    [1,2,3,4,5,6,-1,-2,-3,-4,-5,0]\n",
    "\n",
    "def sort():\n",
    "    \n",
    "    l=[1,2,3,4,5,6,-1,-2,-3,-4,-5,0]\n",
    "    l1=[]\n",
    "    l2=[]\n",
    "    for i in l:\n",
    "        if i>0:\n",
    "            l1.append(i)\n",
    "        elif i<0:\n",
    "            l2.append(i)\n",
    "        else:\n",
    "            pass\n",
    "    print(\"List of positive integers :\",l1)\n",
    "    print(\"List of negative integers :\",l2)\n"
   ]
  },
  {
   "cell_type": "code",
   "execution_count": 8,
   "id": "788f068b-c0b8-46e8-8f77-8fd8d5130f97",
   "metadata": {},
   "outputs": [
    {
     "name": "stdout",
     "output_type": "stream",
     "text": [
      "List of positive integers : [1, 2, 3, 4, 5, 6]\n",
      "List of negative integers : [-1, -2, -3, -4, -5]\n"
     ]
    }
   ],
   "source": [
    "sort()"
   ]
  },
  {
   "cell_type": "code",
   "execution_count": null,
   "id": "962353ee-8057-4f27-b868-309810447c22",
   "metadata": {},
   "outputs": [],
   "source": []
  }
 ],
 "metadata": {
  "kernelspec": {
   "display_name": "Python 3 (ipykernel)",
   "language": "python",
   "name": "python3"
  },
  "language_info": {
   "codemirror_mode": {
    "name": "ipython",
    "version": 3
   },
   "file_extension": ".py",
   "mimetype": "text/x-python",
   "name": "python",
   "nbconvert_exporter": "python",
   "pygments_lexer": "ipython3",
   "version": "3.10.8"
  }
 },
 "nbformat": 4,
 "nbformat_minor": 5
}
