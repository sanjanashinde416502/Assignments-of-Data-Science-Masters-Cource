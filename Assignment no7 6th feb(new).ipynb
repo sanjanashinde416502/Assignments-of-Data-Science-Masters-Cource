{
 "cells": [
  {
   "cell_type": "code",
   "execution_count": 3,
   "id": "0071d3e2-13e3-4b70-b40f-d2c1da42dd18",
   "metadata": {},
   "outputs": [],
   "source": [
    "# Q.1 Create a function which will take a list as argument and return the number after creating a flat list .\n",
    "# use the below-given list as argument for your function .\n",
    "\n",
    "# list1=[1,2,3,4,[44,55,66,True],False,(34,56,78,89,34),{1,2,3,3,2,1},{1:34,\"key2\":[55,67,78,89],4:(45,22,61,34)},[56,'data science'],\n",
    "#       'Machine Learning ']\n",
    "\n",
    "# Note: You must extract numeric keys and values of the dictionary also.\n",
    "\n",
    "\n"
   ]
  },
  {
   "cell_type": "code",
   "execution_count": 41,
   "id": "1637c3e6-cf6b-4c69-b18a-2bacccb4563f",
   "metadata": {},
   "outputs": [
    {
     "name": "stdout",
     "output_type": "stream",
     "text": [
      "Original list: [1, 2, 3, 4, [44, 55, 66, True], False, (34, 56, 78, 89, 34), {1, 2, 3}, {1: 34, 'key2': [55, 67, 78, 89], 4: (45, 22, 61, 34)}, [56, 'data science'], 'Machine Learning ']\n",
      "Flat list: [1, 2, 3, 4, 44, 55, 66, True, False, 34, 56, 78, 89, 34, 1, 2, 3, 1, 34, 'key2', 55, 67, 78, 89, 4, 45, 22, 61, 34, 56, 'data science', 'Machine Learning ']\n"
     ]
    }
   ],
   "source": [
    "# Code:\n",
    "\n",
    "list1=[1,2,3,4,[44,55,66,True],False,(34,56,78,89,34),{1,2,3,3,2,1},{1:34,\"key2\":[55,67,78,89],4:(45,22,61,34)},[56,'data science'],\n",
    "       'Machine Learning ']\n",
    "def flat_list(list1):\n",
    "    l1={}\n",
    "    flat_list=[]\n",
    "    for i in list1:\n",
    "        if type(i)==list or type(i)==tuple or type(i)==set:\n",
    "            for j in i:\n",
    "                flat_list.append(j)\n",
    "        elif type(i)==dict:\n",
    "            temp_list=list(i.items())\n",
    "            for i in temp_list:\n",
    "                for element in i:\n",
    "                    if type(element)==list or type(element)==tuple:\n",
    "                        for j in element:\n",
    "                            flat_list.append(j)\n",
    "                    else:\n",
    "                        flat_list.append(element)\n",
    "            \n",
    "        \n",
    "                \n",
    "        else:\n",
    "            flat_list.append(i)\n",
    "    return flat_list\n",
    "\n",
    "print(\"Original list:\",list1)\n",
    "print(\"Flat list:\",flat_list(list1))"
   ]
  },
  {
   "cell_type": "code",
   "execution_count": 40,
   "id": "6662a57c-49c5-4702-a375-cecccd6c5ca8",
   "metadata": {},
   "outputs": [],
   "source": [
    "# Q.2 Write a python program for encrypting a message sent to you by your friend .The logic of encryption should be such that ,\n",
    "#    for a the output should be z,for b,the output should be y .\n",
    "#     For c,the output should be x respectively .Also ,the whitespaces should be replaced with a dollar sign .\n",
    "# Keep the puctuation marks unchanged.\n",
    "\n",
    "# Input sentance:  I want to become a Data Scientist.\n",
    "\n",
    "# Encrypt the above input sentence using the program you just created.\n",
    "\n",
    "# Note: Convert the given input sentence into lovercase before encrypting .The final output should be lowercase.\n",
    "\n",
    "# Code:\n",
    "s='I want to become a Data Scientist'\n",
    "s1=s.lower()\n",
    "\n",
    "\n"
   ]
  },
  {
   "cell_type": "code",
   "execution_count": 41,
   "id": "0a18f726-2f35-49b9-b6d8-8efbcef0f8ac",
   "metadata": {},
   "outputs": [
    {
     "data": {
      "text/plain": [
       "'i want to become a data scientist'"
      ]
     },
     "execution_count": 41,
     "metadata": {},
     "output_type": "execute_result"
    }
   ],
   "source": [
    "s1"
   ]
  },
  {
   "cell_type": "code",
   "execution_count": 42,
   "id": "aa33676f-f00c-40e5-954a-9b7616d6a4d8",
   "metadata": {},
   "outputs": [],
   "source": [
    "con_code={'a':'z','b':'y','c':'x','d':'w','e':'v','f':'u','g':'t','h':'s','i':'r','j':'q','k':'p','l':'m','m':'n','n':'m','o':'l','p':'k',\n",
    "          'q':'j','r':'i','s':'h','t':'g','u':'f','v':'e','w':'d','x':'c','y':'b','z':'a',' ':'$'}"
   ]
  },
  {
   "cell_type": "code",
   "execution_count": 43,
   "id": "e9ba34cf-305e-4cb9-948f-4f9829c5df1f",
   "metadata": {},
   "outputs": [
    {
     "name": "stdout",
     "output_type": "stream",
     "text": [
      " r$dzmg$gl$yvxlnv$z$wzgz$hxrvmgrhg\n"
     ]
    }
   ],
   "source": [
    "con_data=\" \"\n",
    "for i in range(0,len(s1)):\n",
    "    if s1[i] in con_code.keys():\n",
    "        con_data +=con_code[s1[i]]\n",
    "    else:\n",
    "        con_data +=s1[i]\n",
    "print(con_data)"
   ]
  },
  {
   "cell_type": "code",
   "execution_count": null,
   "id": "1a0abdae-b43a-4538-96ac-d44855683369",
   "metadata": {},
   "outputs": [],
   "source": []
  }
 ],
 "metadata": {
  "kernelspec": {
   "display_name": "Python 3 (ipykernel)",
   "language": "python",
   "name": "python3"
  },
  "language_info": {
   "codemirror_mode": {
    "name": "ipython",
    "version": 3
   },
   "file_extension": ".py",
   "mimetype": "text/x-python",
   "name": "python",
   "nbconvert_exporter": "python",
   "pygments_lexer": "ipython3",
   "version": "3.10.8"
  }
 },
 "nbformat": 4,
 "nbformat_minor": 5
}
