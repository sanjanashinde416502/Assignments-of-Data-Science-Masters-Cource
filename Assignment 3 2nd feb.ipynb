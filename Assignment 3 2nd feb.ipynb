{
 "cells": [
  {
   "cell_type": "code",
   "execution_count": 4,
   "id": "6116804c-9fa7-4a5c-ae80-4d7bccfcc5a8",
   "metadata": {},
   "outputs": [
    {
     "name": "stdout",
     "output_type": "stream",
     "text": [
      "0\n",
      "1\n",
      "2\n",
      "3\n",
      "4\n",
      "5\n",
      "6\n",
      "7\n",
      "8\n",
      "9\n",
      "10\n"
     ]
    }
   ],
   "source": [
    "# Q.1 Explain with an example each when to use a for loop.\n",
    "\n",
    "# For loop:\n",
    "    #for loop is a looping statement used in programming language to check condition and repeatadly execute a block of code as long as the \n",
    "#condition is true.\n",
    "\n",
    "#When to use for loop:\n",
    " #   For loop is used to repeat a specific block of code a known no of times i.e when you the loop should execute n no of times. \n",
    "    \n",
    "# While loop :\n",
    " #While loop is looping statement used in python to run a block code untill the certain condition is met.\n",
    "    \n",
    "    \n",
    "#When to use while loop:\n",
    "  #  While loop is used to run a piace  of code unknown no of times.\n",
    "    \n",
    "    \n",
    "#Example of For loop:\n",
    "      # To print 1-10 no.s\n",
    "for i in range(0,11):\n",
    "    print(i)"
   ]
  },
  {
   "cell_type": "code",
   "execution_count": 1,
   "id": "d8bf45e8-4b60-4873-8c60-2ad72546052f",
   "metadata": {},
   "outputs": [
    {
     "name": "stdout",
     "output_type": "stream",
     "text": [
      "0\n",
      "1\n",
      "2\n",
      "3\n",
      "4\n",
      "5\n",
      "6\n",
      "7\n",
      "8\n",
      "9\n",
      "10\n"
     ]
    }
   ],
   "source": [
    "# Example of while loop:\n",
    "i=0\n",
    "while i<=10:\n",
    "    print(i)\n",
    "    i=i+1"
   ]
  },
  {
   "cell_type": "code",
   "execution_count": 18,
   "id": "5916202e-115a-4478-8eba-182e0046c90e",
   "metadata": {},
   "outputs": [
    {
     "name": "stdout",
     "output_type": "stream",
     "text": [
      "Sum = 55\n",
      "Product = 3628800\n"
     ]
    }
   ],
   "source": [
    "# Q.2 Write a python program to print the sum and product of the first 10 natural numbers using for and while loop.\n",
    "\n",
    "# Using for loop:\n",
    "sum=0\n",
    "product=1\n",
    "for i in range(1,11):\n",
    "    sum=sum+i\n",
    "    product=product*i\n",
    "    i=i+1\n",
    "print(\"Sum\",\"=\",sum)\n",
    "print(\"Product\",\"=\",product)\n",
    "     \n",
    "    \n",
    "    "
   ]
  },
  {
   "cell_type": "code",
   "execution_count": 22,
   "id": "86ba625a-2104-4c2b-b4ad-bcf53bf20c4a",
   "metadata": {},
   "outputs": [
    {
     "name": "stdout",
     "output_type": "stream",
     "text": [
      "Sum = 55\n",
      "product = 3628800\n"
     ]
    }
   ],
   "source": [
    "# Using While loop:\n",
    "\n",
    "i=1\n",
    "product=1\n",
    "sum=0\n",
    "while i<11:\n",
    "    sum=sum+i\n",
    "    product=product*i\n",
    "    i=i+1\n",
    "print(\"Sum\",\"=\",sum)\n",
    "print(\"product\",\"=\",product)\n",
    "    "
   ]
  },
  {
   "cell_type": "code",
   "execution_count": 7,
   "id": "d2229496-8b9e-4108-8294-cbb8910709b1",
   "metadata": {},
   "outputs": [
    {
     "name": "stdin",
     "output_type": "stream",
     "text": [
      "Enter your units of electricity consumed= 310\n"
     ]
    },
    {
     "name": "stdout",
     "output_type": "stream",
     "text": [
      "Electricity bill 2250\n"
     ]
    }
   ],
   "source": [
    "# Q.3 Create a python program to compute the electricity bill for a household .\n",
    "#     The per-unit charges in rupees are as fallows : For the first 100 units ,the userr will be charged Rs. 4.5 per unit ,for the next\n",
    "#     100 units ,the user will be charged Rs.6 per unit , and for the next 100 units ,the user will be charged Rs.10 per unit ,After 300\n",
    "#     units and above the user will be charged Rs.20 per unit.\n",
    "\n",
    "#     You are required to take the units of electricity consumed in a month from the user as input.\n",
    "\n",
    "#     Your program must pass this test case :when the unit of electricity consumed by the user in a month is 310 ,the total electricity \n",
    "#     bill should be 2250.\n",
    "\n",
    "\n",
    "n=int(input(\"Enter your units of electricity consumed=\"))\n",
    "if n<=100:\n",
    "    bill=bill+(n*4.5)\n",
    "elif n>100 and n<=200:\n",
    "    bill=bill+450+((n-100)*6)\n",
    "elif n>200 and n<=300:\n",
    "    bill=bill+1050+((n-200)*10)\n",
    "else:\n",
    "    bill=bill+2050+((n-300)*20)\n",
    "print(\"Electricity bill\",bill)\n",
    "    \n",
    "    \n"
   ]
  },
  {
   "cell_type": "code",
   "execution_count": 8,
   "id": "28be6e59-59d0-45eb-b996-eaa98e97e9c3",
   "metadata": {},
   "outputs": [],
   "source": [
    "# Q.4 Creat a list of numbers from 1 to 100. Use for loop and while loop to calculate the cube of each number and if the cube of that \n",
    "#     number is divisible by 4 or 5 then append that number that number in a list and print that list.\n",
    "\n",
    "l=[]\n",
    "for i in range(1,101):\n",
    "    l.append(i)\n",
    "    "
   ]
  },
  {
   "cell_type": "code",
   "execution_count": 9,
   "id": "35400726-a44a-4ea8-ac64-bc1b1e18d006",
   "metadata": {},
   "outputs": [
    {
     "data": {
      "text/plain": [
       "[1,\n",
       " 2,\n",
       " 3,\n",
       " 4,\n",
       " 5,\n",
       " 6,\n",
       " 7,\n",
       " 8,\n",
       " 9,\n",
       " 10,\n",
       " 11,\n",
       " 12,\n",
       " 13,\n",
       " 14,\n",
       " 15,\n",
       " 16,\n",
       " 17,\n",
       " 18,\n",
       " 19,\n",
       " 20,\n",
       " 21,\n",
       " 22,\n",
       " 23,\n",
       " 24,\n",
       " 25,\n",
       " 26,\n",
       " 27,\n",
       " 28,\n",
       " 29,\n",
       " 30,\n",
       " 31,\n",
       " 32,\n",
       " 33,\n",
       " 34,\n",
       " 35,\n",
       " 36,\n",
       " 37,\n",
       " 38,\n",
       " 39,\n",
       " 40,\n",
       " 41,\n",
       " 42,\n",
       " 43,\n",
       " 44,\n",
       " 45,\n",
       " 46,\n",
       " 47,\n",
       " 48,\n",
       " 49,\n",
       " 50,\n",
       " 51,\n",
       " 52,\n",
       " 53,\n",
       " 54,\n",
       " 55,\n",
       " 56,\n",
       " 57,\n",
       " 58,\n",
       " 59,\n",
       " 60,\n",
       " 61,\n",
       " 62,\n",
       " 63,\n",
       " 64,\n",
       " 65,\n",
       " 66,\n",
       " 67,\n",
       " 68,\n",
       " 69,\n",
       " 70,\n",
       " 71,\n",
       " 72,\n",
       " 73,\n",
       " 74,\n",
       " 75,\n",
       " 76,\n",
       " 77,\n",
       " 78,\n",
       " 79,\n",
       " 80,\n",
       " 81,\n",
       " 82,\n",
       " 83,\n",
       " 84,\n",
       " 85,\n",
       " 86,\n",
       " 87,\n",
       " 88,\n",
       " 89,\n",
       " 90,\n",
       " 91,\n",
       " 92,\n",
       " 93,\n",
       " 94,\n",
       " 95,\n",
       " 96,\n",
       " 97,\n",
       " 98,\n",
       " 99,\n",
       " 100]"
      ]
     },
     "execution_count": 9,
     "metadata": {},
     "output_type": "execute_result"
    }
   ],
   "source": [
    "l"
   ]
  },
  {
   "cell_type": "code",
   "execution_count": 10,
   "id": "a504021b-fb2a-4f21-b926-2c1e21332aca",
   "metadata": {},
   "outputs": [],
   "source": [
    "l1=[]\n",
    "for i in l:\n",
    "    if i %4==0 or i%5==0:\n",
    "        l1.append(i)"
   ]
  },
  {
   "cell_type": "code",
   "execution_count": 11,
   "id": "947fe2e6-15da-49a5-a97b-ebda915ee079",
   "metadata": {},
   "outputs": [
    {
     "data": {
      "text/plain": [
       "[4,\n",
       " 5,\n",
       " 8,\n",
       " 10,\n",
       " 12,\n",
       " 15,\n",
       " 16,\n",
       " 20,\n",
       " 24,\n",
       " 25,\n",
       " 28,\n",
       " 30,\n",
       " 32,\n",
       " 35,\n",
       " 36,\n",
       " 40,\n",
       " 44,\n",
       " 45,\n",
       " 48,\n",
       " 50,\n",
       " 52,\n",
       " 55,\n",
       " 56,\n",
       " 60,\n",
       " 64,\n",
       " 65,\n",
       " 68,\n",
       " 70,\n",
       " 72,\n",
       " 75,\n",
       " 76,\n",
       " 80,\n",
       " 84,\n",
       " 85,\n",
       " 88,\n",
       " 90,\n",
       " 92,\n",
       " 95,\n",
       " 96,\n",
       " 100]"
      ]
     },
     "execution_count": 11,
     "metadata": {},
     "output_type": "execute_result"
    }
   ],
   "source": [
    "l1"
   ]
  },
  {
   "cell_type": "code",
   "execution_count": 36,
   "id": "202bf4af-31ad-40e1-99de-7a60b1185417",
   "metadata": {},
   "outputs": [],
   "source": [
    "# Q.5 Write a program to filter count vowels in the below- given string .\n",
    "# string= \" I want to become a data scientist\"\n",
    "\n",
    "s=\" I want to become a data scientist\"\n",
    "s=s.lower()\n",
    "l2=[]\n",
    "for n in s:\n",
    "    if n=='a' or n=='e' or n=='i' or n=='o' or n=='u':\n",
    "        l2.append(n)"
   ]
  },
  {
   "cell_type": "code",
   "execution_count": 38,
   "id": "9c11a60e-5852-4075-bedc-a0cf7c94b5ed",
   "metadata": {},
   "outputs": [
    {
     "data": {
      "text/plain": [
       "['i', 'a', 'o', 'e', 'o', 'e', 'a', 'a', 'a', 'i', 'e', 'i']"
      ]
     },
     "execution_count": 38,
     "metadata": {},
     "output_type": "execute_result"
    }
   ],
   "source": [
    "l2"
   ]
  },
  {
   "cell_type": "code",
   "execution_count": null,
   "id": "c7990285-7a24-4a98-bc87-3be02b46ff26",
   "metadata": {},
   "outputs": [],
   "source": []
  }
 ],
 "metadata": {
  "kernelspec": {
   "display_name": "Python 3 (ipykernel)",
   "language": "python",
   "name": "python3"
  },
  "language_info": {
   "codemirror_mode": {
    "name": "ipython",
    "version": 3
   },
   "file_extension": ".py",
   "mimetype": "text/x-python",
   "name": "python",
   "nbconvert_exporter": "python",
   "pygments_lexer": "ipython3",
   "version": "3.10.8"
  }
 },
 "nbformat": 4,
 "nbformat_minor": 5
}
