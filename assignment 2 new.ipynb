{
 "cells": [
  {
   "cell_type": "code",
   "execution_count": 4,
   "id": "d6b0ed51-35f8-436f-8a7d-bfe68a102de3",
   "metadata": {},
   "outputs": [
    {
     "name": "stdin",
     "output_type": "stream",
     "text": [
      "Enter your marks 98\n"
     ]
    },
    {
     "name": "stdout",
     "output_type": "stream",
     "text": [
      "your grade is A\n"
     ]
    }
   ],
   "source": [
    "# Q.1 Write a program to accept percentage from the user and display the grade according to the following \n",
    "\n",
    "marks =int (input(\"Enter your marks\"))\n",
    "if marks>90:\n",
    "    print(\"your grade is A\")\n",
    "elif maks>80 and marks<=90:\n",
    "    print(\"Your grade is B\")\n",
    "elif marks>=60 and marks<=80:\n",
    "    print(\"Your grade is C\")\n",
    "else:\n",
    "    print(\"Your grade is D\")"
   ]
  },
  {
   "cell_type": "code",
   "execution_count": 7,
   "id": "91395bdc-4d74-431c-b278-2165080f357c",
   "metadata": {},
   "outputs": [
    {
     "name": "stdin",
     "output_type": "stream",
     "text": [
      "Enter the cost price of your bike 1000000\n"
     ]
    },
    {
     "name": "stdout",
     "output_type": "stream",
     "text": [
      "You have to pay 15% tax\n"
     ]
    }
   ],
   "source": [
    "# Q.2 Write a program to accept the cost price of a bike and display the road tax to be paid according to the following criteria.\n",
    "\n",
    "cp = int (input(\"Enter the cost price of your bike\"))\n",
    "if cp>100000:\n",
    "           print(\"You have to pay 15% tax\")\n",
    "elif cp>50000 and cp<=100000:\n",
    "           print(\"You have to pay 10% tax\")\n",
    "elif cp<=50000:\n",
    "           print(\"You have to pay 5% tax\")"
   ]
  },
  {
   "cell_type": "code",
   "execution_count": 9,
   "id": "fb7f5e70-d633-40b7-9ebd-7c022f96ce56",
   "metadata": {},
   "outputs": [
    {
     "name": "stdin",
     "output_type": "stream",
     "text": [
      "Enter your city name Delhi\n"
     ]
    },
    {
     "name": "stdout",
     "output_type": "stream",
     "text": [
      "Monument is Red Fort\n"
     ]
    }
   ],
   "source": [
    "# Q.3 Accept any city from the user and display monuments of that city.\n",
    "\n",
    "city=str(input(\"Enter your city name\"))\n",
    "if city==\"Delhi\":\n",
    "         print(\"Monument is Red Fort\")\n",
    "elif city==\"Agra\":\n",
    "         print(\"monument is Taj Mahal\")\n",
    "elif city==\"Jaipur\":\n",
    "         print(\"Monument is Jal mahal\") \n"
   ]
  },
  {
   "cell_type": "code",
   "execution_count": 1,
   "id": "a7280dcc-6053-4668-8da9-275c648225e5",
   "metadata": {},
   "outputs": [
    {
     "name": "stdin",
     "output_type": "stream",
     "text": [
      "Enter no 60\n"
     ]
    },
    {
     "name": "stdout",
     "output_type": "stream",
     "text": [
      "2\n"
     ]
    }
   ],
   "source": [
    "# Q.4 Check how many times a given number can be divisible by 3 before it is less than or equal to 10\n",
    "\n",
    "no= int (input(\"Enter no\"))\n",
    "count=0\n",
    "while no>10:\n",
    "    if no%3==0:\n",
    "        count=count+1\n",
    "        no=no/3\n",
    "    elif no%3!=0:\n",
    "        no=no-1\n",
    "print(count)"
   ]
  },
  {
   "cell_type": "code",
   "execution_count": 2,
   "id": "cfeb7712-5cc4-41d1-b24a-c26f9cde8e2a",
   "metadata": {},
   "outputs": [
    {
     "name": "stdout",
     "output_type": "stream",
     "text": [
      "1\n",
      "2\n",
      "3\n",
      "4\n",
      "5\n",
      "6\n",
      "7\n",
      "8\n",
      "9\n",
      "10\n"
     ]
    }
   ],
   "source": [
    "# Q.5 Why and when to use while loop in python give a detailed description with example.\n",
    "\n",
    "#While loop:\n",
    "  #  While loop is loop through which we can execute a set of statement as long as a condition is true.\n",
    "    \n",
    "#why to use while loop:\n",
    "    #The while loop is useful to run code an unknown number of times ,untill a condition is true.\n",
    "    \n",
    "#When to use:\n",
    "  #  1.It is used to execute a set of statement as long as a condition is true.\n",
    "    \n",
    " #   2.it is useful as it checks condition after each iteration.\n",
    "    \n",
    "#Example:\n",
    "   # Que: To print 1-10 numbers.\n",
    "    \n",
    "    a=1\n",
    "    while a<=10:\n",
    "        print(a)\n",
    "        a=a+1\n",
    "\n"
   ]
  },
  {
   "cell_type": "code",
   "execution_count": 2,
   "id": "35cc14f3-ff93-4f3a-9c8d-6622ea766059",
   "metadata": {},
   "outputs": [
    {
     "name": "stdout",
     "output_type": "stream",
     "text": [
      "\n",
      "* \n",
      "* * \n",
      "* * * \n",
      "* * * * \n",
      "* * * * * \n"
     ]
    }
   ],
   "source": [
    "# Q.6 Use nested while loop to print 3 different patterns.\n",
    "\n",
    "#Pattern 1:\n",
    "    \n",
    "n=5\n",
    "i=0\n",
    "j=0\n",
    "while i<=n:\n",
    "    while j<=i-1:\n",
    "        print(\"*\",end=\" \")\n",
    "        j+=1\n",
    "    print(\"\\r\")\n",
    "    j=0;i+=1\n"
   ]
  },
  {
   "cell_type": "code",
   "execution_count": 6,
   "id": "5cae2951-bb5c-4d0c-a7f5-db6e3aff3d6c",
   "metadata": {},
   "outputs": [
    {
     "name": "stdout",
     "output_type": "stream",
     "text": [
      "* * * * * \n",
      "* * * * * \n",
      "* * * * * \n",
      "* * * * * \n",
      "* * * * * \n"
     ]
    }
   ],
   "source": [
    "# Pattern 2:\n",
    "\n",
    "n=5\n",
    "i=0\n",
    "j=0\n",
    "while i<n:\n",
    "    while j<n:\n",
    "        print(\"*\",end=\" \" )\n",
    "        j+=1\n",
    "    print(\"\\r\")\n",
    "    j=0;i+=1"
   ]
  },
  {
   "cell_type": "code",
   "execution_count": 5,
   "id": "aa2cc6b3-e844-43fe-981b-d62e49b971a9",
   "metadata": {},
   "outputs": [
    {
     "name": "stdout",
     "output_type": "stream",
     "text": [
      "* * * * * \n",
      "* * * * \n",
      "* * * \n",
      "* * \n",
      "* \n"
     ]
    }
   ],
   "source": [
    "# Pattern 3:\n",
    "\n",
    "n=5\n",
    "i=5\n",
    "j=0\n",
    "while i>=1:\n",
    "    while j<i:\n",
    "        print(\"*\",end=\" \")\n",
    "        j+=1\n",
    "    print(\"\\r\")\n",
    "    j=0;i-=1\n",
    "    "
   ]
  },
  {
   "cell_type": "code",
   "execution_count": 7,
   "id": "98cb5048-471e-418f-bd02-457620000828",
   "metadata": {},
   "outputs": [
    {
     "name": "stdout",
     "output_type": "stream",
     "text": [
      "10\n",
      "9\n",
      "8\n",
      "7\n",
      "6\n",
      "5\n",
      "4\n",
      "3\n",
      "2\n",
      "1\n"
     ]
    }
   ],
   "source": [
    "# Q.7 Reverse a while loop to display numbers from 1 to 10.\n",
    "\n",
    "a=10\n",
    "while a>=1:\n",
    "    print(a)\n",
    "    a-=1"
   ]
  },
  {
   "cell_type": "code",
   "execution_count": 2,
   "id": "2fbf22bf-dae9-4f92-874f-b16e58d860c1",
   "metadata": {},
   "outputs": [
    {
     "name": "stdout",
     "output_type": "stream",
     "text": [
      "10\n",
      "9\n",
      "8\n",
      "7\n",
      "6\n",
      "5\n",
      "4\n",
      "3\n",
      "2\n",
      "1\n"
     ]
    }
   ],
   "source": [
    "# Q.8 Reverse a while loop to display numbers from 1 to 10.\n",
    "\n",
    "n=10\n",
    "while n>=1:\n",
    "    print(n)\n",
    "    n-=1\n"
   ]
  },
  {
   "cell_type": "code",
   "execution_count": null,
   "id": "7882461c-7dca-44f5-91f1-fd5441b8d89a",
   "metadata": {},
   "outputs": [],
   "source": []
  }
 ],
 "metadata": {
  "kernelspec": {
   "display_name": "Python 3 (ipykernel)",
   "language": "python",
   "name": "python3"
  },
  "language_info": {
   "codemirror_mode": {
    "name": "ipython",
    "version": 3
   },
   "file_extension": ".py",
   "mimetype": "text/x-python",
   "name": "python",
   "nbconvert_exporter": "python",
   "pygments_lexer": "ipython3",
   "version": "3.10.8"
  }
 },
 "nbformat": 4,
 "nbformat_minor": 5
}
