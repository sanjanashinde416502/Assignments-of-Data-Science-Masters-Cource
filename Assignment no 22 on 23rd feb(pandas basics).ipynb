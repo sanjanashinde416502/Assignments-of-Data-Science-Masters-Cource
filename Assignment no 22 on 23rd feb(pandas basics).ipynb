{
 "cells": [
  {
   "cell_type": "markdown",
   "id": "1cfd531b-88d6-4385-bdc9-f2b3a420d47f",
   "metadata": {},
   "source": [
    "<h4>Q.1 Create a pandas Series that contain the following data: 4,8,15,16,23 and 42 . Then , print the series.</h4>\n",
    "<h4>Ans:</h4>\n"
   ]
  },
  {
   "cell_type": "code",
   "execution_count": 1,
   "id": "bb53cd1d-7dcc-4738-8b89-bf2c32f29d32",
   "metadata": {},
   "outputs": [
    {
     "name": "stdout",
     "output_type": "stream",
     "text": [
      "0     4\n",
      "1     8\n",
      "2    15\n",
      "3    16\n",
      "4    23\n",
      "5    42\n",
      "dtype: int64\n"
     ]
    }
   ],
   "source": [
    "import pandas as pd\n",
    "data=[4,8,15,16,23,42]\n",
    "my_series=pd.Series(data)\n",
    "print(my_series)"
   ]
  },
  {
   "cell_type": "markdown",
   "id": "b4477092-4a1d-4156-a428-860dbcc1b44d",
   "metadata": {},
   "source": [
    "<h4> Q.2 Create a variable of list type containing 10 elements in it , and apply pandas. Series function on the variable print it.</h4>\n",
    "<h4>Ans:</h4>\n"
   ]
  },
  {
   "cell_type": "code",
   "execution_count": 2,
   "id": "0f42b00d-0521-43e7-bffd-965fe95327a0",
   "metadata": {},
   "outputs": [
    {
     "name": "stdout",
     "output_type": "stream",
     "text": [
      "0     1\n",
      "1     2\n",
      "2     3\n",
      "3     4\n",
      "4     5\n",
      "5     6\n",
      "6     7\n",
      "7     8\n",
      "8     9\n",
      "9    10\n",
      "dtype: int64\n"
     ]
    }
   ],
   "source": [
    "data1=[1,2,3,4,5,6,7,8,9,10]\n",
    "my_series1=pd.Series(data1)\n",
    "print(my_series1)"
   ]
  },
  {
   "cell_type": "markdown",
   "id": "efa5a2bc-882a-480b-a45b-ed4dd1e77283",
   "metadata": {},
   "source": [
    " #<h4> Q.3 Create a Pandas DataFrames that contain the following data. </h4>\n",
    "| Name | Age | Gender |\n",
    "| ----| -----| -------|\n",
    "| Alice | 25 | Female |\n",
    "| Bob | 30 | Male |\n",
    "| Claire | 27 | Female |\n",
    "<h4>Then,print the DataFrame. </h4>\n",
    "<h4>Ans:</h4>\n"
   ]
  },
  {
   "cell_type": "code",
   "execution_count": 3,
   "id": "94a0e8a8-68fb-4728-845a-ceafbe6e526c",
   "metadata": {},
   "outputs": [],
   "source": [
    "data={\"Name\":[\"Alice\",\"Bob\",\"Claire\"],\n",
    "     \"Age\":[\"25\",\"30\",\"27\"] ,\n",
    "     \"Gender\":[\"Female\",\"Male\",\"Female\"]}\n",
    "df=pd.DataFrame(data)"
   ]
  },
  {
   "cell_type": "code",
   "execution_count": 4,
   "id": "eb770351-2a78-4805-8628-1aa4091f4575",
   "metadata": {},
   "outputs": [
    {
     "data": {
      "text/html": [
       "<div>\n",
       "<style scoped>\n",
       "    .dataframe tbody tr th:only-of-type {\n",
       "        vertical-align: middle;\n",
       "    }\n",
       "\n",
       "    .dataframe tbody tr th {\n",
       "        vertical-align: top;\n",
       "    }\n",
       "\n",
       "    .dataframe thead th {\n",
       "        text-align: right;\n",
       "    }\n",
       "</style>\n",
       "<table border=\"1\" class=\"dataframe\">\n",
       "  <thead>\n",
       "    <tr style=\"text-align: right;\">\n",
       "      <th></th>\n",
       "      <th>Name</th>\n",
       "      <th>Age</th>\n",
       "      <th>Gender</th>\n",
       "    </tr>\n",
       "  </thead>\n",
       "  <tbody>\n",
       "    <tr>\n",
       "      <th>0</th>\n",
       "      <td>Alice</td>\n",
       "      <td>25</td>\n",
       "      <td>Female</td>\n",
       "    </tr>\n",
       "    <tr>\n",
       "      <th>1</th>\n",
       "      <td>Bob</td>\n",
       "      <td>30</td>\n",
       "      <td>Male</td>\n",
       "    </tr>\n",
       "    <tr>\n",
       "      <th>2</th>\n",
       "      <td>Claire</td>\n",
       "      <td>27</td>\n",
       "      <td>Female</td>\n",
       "    </tr>\n",
       "  </tbody>\n",
       "</table>\n",
       "</div>"
      ],
      "text/plain": [
       "     Name Age  Gender\n",
       "0   Alice  25  Female\n",
       "1     Bob  30    Male\n",
       "2  Claire  27  Female"
      ]
     },
     "execution_count": 4,
     "metadata": {},
     "output_type": "execute_result"
    }
   ],
   "source": [
    "df"
   ]
  },
  {
   "cell_type": "markdown",
   "id": "04f9f6e0-0a53-42d0-ae48-def1d1a97a84",
   "metadata": {},
   "source": [
    "<h4> Q.4 What is 'DataFrame' in pandas and how is it different from pandas.series ? Explain with an example.</h4>\n",
    "<h4> Ans:</h4>"
   ]
  },
  {
   "cell_type": "code",
   "execution_count": 5,
   "id": "7f5b75ff-057f-4042-8198-863837c82c25",
   "metadata": {},
   "outputs": [
    {
     "name": "stdout",
     "output_type": "stream",
     "text": [
      "DataFrame:\n",
      "      Name  Age    Country\n",
      "0     Joti   25        USA\n",
      "1  Manisha   30     Canada\n",
      "2   Sanika   35  Australia\n",
      "3    Anita   40         UK\n",
      "\n",
      "Series:\n",
      "0       Joti\n",
      "1    Manisha\n",
      "2     Sanika\n",
      "3      Anita\n",
      "Name: Name, dtype: object\n"
     ]
    }
   ],
   "source": [
    "# What is DataFrame:\n",
    "#      In pandas, a DataFrame is a two-dimensional labeled data structure, similar to a table or spreadsheet. It consists of rows and columns, where\n",
    "# each column can be of a different data type. It is the most commonly used data structure in pandas and provides a powerful way to manipulate and \n",
    "# analyze data.\n",
    "\n",
    "# What is pandas.series :\n",
    "#     On the other hand, a pandas Series is a one-dimensional labeled array that can contain data of any type (e.g., integers, strings, floats, etc.).\n",
    "# It can be thought of as a single column of data, with an index that labels each element in the Series.\n",
    "\n",
    "# Diffferance between Dataframe and pandas.series:\n",
    "#    The main difference between a DataFrame and a Series is that a DataFrame is a two-dimensional data structure, while a Series is a one-dimensional \n",
    "# data structure. A DataFrame can be thought of as a collection of Series objects, where each Series represents a column in the DataFrame.\n",
    "\n",
    "# Here's an example that shows the difference between a DataFrame and a Series:\n",
    "\n",
    "\n",
    "# Create a dictionary of data\n",
    "data = {'Name': ['Joti', 'Manisha', 'Sanika', 'Anita'],\n",
    "        'Age': [25, 30, 35, 40],\n",
    "        'Country': ['USA', 'Canada', 'Australia', 'UK']}\n",
    "\n",
    "# Create a DataFrame from the dictionary\n",
    "df = pd.DataFrame(data)\n",
    "\n",
    "# Create a Series from a single column of the DataFrame\n",
    "name_series = df['Name']\n",
    "\n",
    "# Print the DataFrame and the Series\n",
    "print('DataFrame:')\n",
    "print(df)\n",
    "print('\\nSeries:')\n",
    "print(name_series)"
   ]
  },
  {
   "cell_type": "markdown",
   "id": "d43b1bae-6e53-46cf-84ff-d68d47039dab",
   "metadata": {},
   "source": [
    "<h4> Q.5 What are some common function you can use to manipulate data in a Pandas DataFrame? Can you give an example of when you might use one of these \n",
    "functions ? </h4>\n",
    "<h4>Ans:</h4>"
   ]
  },
  {
   "cell_type": "code",
   "execution_count": 6,
   "id": "33468621-5552-4adf-9a8b-86f54f73d55f",
   "metadata": {},
   "outputs": [
    {
     "name": "stdout",
     "output_type": "stream",
     "text": [
      "Customer\n",
      "Bob     150\n",
      "John    400\n",
      "Mary    450\n",
      "Name: TotalAmount, dtype: int64\n"
     ]
    }
   ],
   "source": [
    "# Pandas provides a wide range of functions to manipulate data in a DataFrame. Some common functions include:\n",
    "\n",
    "# 1.head(): Returns the first n rows of the DataFrame. This function is useful for quickly inspecting the data in the DataFrame.\n",
    "\n",
    "# 2.tail(): Returns the last n rows of the DataFrame. This function is useful for quickly inspecting the end of the data in the DataFrame.\n",
    "\n",
    "# 3.info(): Prints a concise summary of the DataFrame, including the number of non-null values and data types of each column.\n",
    "\n",
    "# 4.describe(): Generates descriptive statistics for the DataFrame, including count, mean, standard deviation, minimum and maximum values, and quartile\n",
    "#              ranges.\n",
    "\n",
    "# 5.drop(): Removes rows or columns from the DataFrame based on the specified index or column labels.\n",
    "\n",
    "# 6.groupby(): Groups the DataFrame by one or more columns and applies a function (e.g., mean, sum, count) to each group.\n",
    "\n",
    "# 7.sort_values(): Sorts the DataFrame by one or more columns.\n",
    "\n",
    "# 8.fillna(): Fills missing values in the DataFrame with a specified value or using a method such as forward or backward fill.\n",
    "\n",
    "# Here's an example of when you might use one of these functions:\n",
    "\n",
    "#  a DataFrame containing data on customer orders, including the order ID, customer name, order date, and total order amount. You want to group the \n",
    "# orders by customer name and calculate the total amount spent by each customer. To do this, you could use the groupby() function as follows:\n",
    "\n",
    "import pandas as pd\n",
    "\n",
    "# Create the DataFrame\n",
    "data2 = {'OrderID': [1, 2, 3, 4, 5],\n",
    "        'Customer': ['John', 'Mary', 'Bob', 'Mary', 'John'],\n",
    "        'OrderDate': ['2022-01-01', '2022-02-02', '2022-03-03', '2022-04-04', '2022-05-05'],\n",
    "        'TotalAmount': [100, 200, 150, 250, 300]}\n",
    "df = pd.DataFrame(data2)\n",
    "\n",
    "# Group the orders by customer and calculate the total amount spent by each customer\n",
    "customer_totals = df.groupby('Customer')['TotalAmount'].sum()\n",
    "\n",
    "# Print the result\n",
    "print(customer_totals)"
   ]
  },
  {
   "cell_type": "markdown",
   "id": "2f3c1e2e-c325-4d15-976b-3bc7bf868c0b",
   "metadata": {},
   "source": [
    "<h4>Q.6 Which of the following is mutable in nature Series , DataFrame, Panel?</h4>\n",
    "<h4>Ans:</h4>\n"
   ]
  },
  {
   "cell_type": "code",
   "execution_count": 7,
   "id": "1ae6adcc-6dcd-4a06-ac2a-e4409b8de3bb",
   "metadata": {},
   "outputs": [
    {
     "name": "stdout",
     "output_type": "stream",
     "text": [
      "0     1\n",
      "1     2\n",
      "2    10\n",
      "3     4\n",
      "4     5\n",
      "dtype: int64\n"
     ]
    }
   ],
   "source": [
    "#      In Pandas, both Series and DataFrame are mutable in nature, which means that you can modify their data after they have been created.\n",
    "\n",
    "#      A Series is a one-dimensional array-like object that can hold any data type. You can modify the values in a Series by using indexing or boolean \n",
    "# indexing. For example:\n",
    "\n",
    "# Create a Series\n",
    "s = pd.Series([1, 2, 3, 4, 5])\n",
    "\n",
    "# Modify a value in the Series\n",
    "s[2] = 10\n",
    "\n",
    "# Print the modified Series\n",
    "print(s)"
   ]
  },
  {
   "cell_type": "code",
   "execution_count": 8,
   "id": "5fb90d40-8b65-4cb1-a9d4-7c5a6380b9e7",
   "metadata": {},
   "outputs": [],
   "source": [
    "#       A DataFrame is a two-dimensional table-like data structure that can also hold any data type. You can modify the values in a DataFrame by using \n",
    "# indexing or boolean indexing, or by using functions such as loc[] and iloc[]. For example:\n",
    "\n",
    "# Create a DataFrame\n",
    "data2 = {'name': ['Anita', 'Mina', 'Riya', 'Durva'],\n",
    "        'age': [25, 30, 35, 40],\n",
    "        'gender': ['F', 'M', 'M', 'M']}\n",
    "df2 = pd.DataFrame(data2)\n",
    "\n",
    "# Modify a value in the DataFrame\n",
    "df2.loc[2, 'age'] = 36"
   ]
  },
  {
   "cell_type": "code",
   "execution_count": 9,
   "id": "6023c2e8-d40b-42c2-887f-fc13de67e08d",
   "metadata": {},
   "outputs": [
    {
     "data": {
      "text/html": [
       "<div>\n",
       "<style scoped>\n",
       "    .dataframe tbody tr th:only-of-type {\n",
       "        vertical-align: middle;\n",
       "    }\n",
       "\n",
       "    .dataframe tbody tr th {\n",
       "        vertical-align: top;\n",
       "    }\n",
       "\n",
       "    .dataframe thead th {\n",
       "        text-align: right;\n",
       "    }\n",
       "</style>\n",
       "<table border=\"1\" class=\"dataframe\">\n",
       "  <thead>\n",
       "    <tr style=\"text-align: right;\">\n",
       "      <th></th>\n",
       "      <th>name</th>\n",
       "      <th>age</th>\n",
       "      <th>gender</th>\n",
       "    </tr>\n",
       "  </thead>\n",
       "  <tbody>\n",
       "    <tr>\n",
       "      <th>0</th>\n",
       "      <td>Anita</td>\n",
       "      <td>25</td>\n",
       "      <td>F</td>\n",
       "    </tr>\n",
       "    <tr>\n",
       "      <th>1</th>\n",
       "      <td>Mina</td>\n",
       "      <td>30</td>\n",
       "      <td>M</td>\n",
       "    </tr>\n",
       "    <tr>\n",
       "      <th>2</th>\n",
       "      <td>Riya</td>\n",
       "      <td>36</td>\n",
       "      <td>M</td>\n",
       "    </tr>\n",
       "    <tr>\n",
       "      <th>3</th>\n",
       "      <td>Durva</td>\n",
       "      <td>40</td>\n",
       "      <td>M</td>\n",
       "    </tr>\n",
       "  </tbody>\n",
       "</table>\n",
       "</div>"
      ],
      "text/plain": [
       "    name  age gender\n",
       "0  Anita   25      F\n",
       "1   Mina   30      M\n",
       "2   Riya   36      M\n",
       "3  Durva   40      M"
      ]
     },
     "execution_count": 9,
     "metadata": {},
     "output_type": "execute_result"
    }
   ],
   "source": [
    "df2"
   ]
  },
  {
   "cell_type": "markdown",
   "id": "92af4b43-502e-48b0-8254-f67c72c35211",
   "metadata": {},
   "source": [
    "<h4> Q.7 Create a DataFrame using multiple Series. Explain with an example .</h4>\n",
    "<h4> Ans:</h4>"
   ]
  },
  {
   "cell_type": "code",
   "execution_count": 17,
   "id": "3a6d8951-155c-4173-85c5-c006380f9008",
   "metadata": {},
   "outputs": [],
   "source": [
    "#    In Pandas, we can create a DataFrame using multiple Series. Each Series represents a column in the DataFrame, and all Series must have\n",
    "# the same length.\n",
    "\n",
    "# Here's an example of how to create a DataFrame using multiple Series:\n",
    "\n",
    "\n",
    "#  Create the Series\n",
    "names = pd.Series(['Sanjana', 'miya', 'Sanika', 'Dave'])\n",
    "ages = pd.Series([25, 30, 35, 40])\n",
    "genders = pd.Series(['F', 'M', 'M', 'M'])\n",
    "\n",
    "# Create the DataFrame\n",
    "df = pd.DataFrame({'Name': names, 'Age': ages, 'Gender': genders})\n",
    "\n",
    "# Print the DataFrame"
   ]
  },
  {
   "cell_type": "code",
   "execution_count": 76,
   "id": "1b3952c1-6f36-4716-8906-5c080313e650",
   "metadata": {},
   "outputs": [
    {
     "data": {
      "text/html": [
       "<div>\n",
       "<style scoped>\n",
       "    .dataframe tbody tr th:only-of-type {\n",
       "        vertical-align: middle;\n",
       "    }\n",
       "\n",
       "    .dataframe tbody tr th {\n",
       "        vertical-align: top;\n",
       "    }\n",
       "\n",
       "    .dataframe thead th {\n",
       "        text-align: right;\n",
       "    }\n",
       "</style>\n",
       "<table border=\"1\" class=\"dataframe\">\n",
       "  <thead>\n",
       "    <tr style=\"text-align: right;\">\n",
       "      <th></th>\n",
       "      <th>Name</th>\n",
       "      <th>Age</th>\n",
       "      <th>Gender</th>\n",
       "    </tr>\n",
       "  </thead>\n",
       "  <tbody>\n",
       "    <tr>\n",
       "      <th>0</th>\n",
       "      <td>Sanjana</td>\n",
       "      <td>25</td>\n",
       "      <td>F</td>\n",
       "    </tr>\n",
       "    <tr>\n",
       "      <th>1</th>\n",
       "      <td>miya</td>\n",
       "      <td>30</td>\n",
       "      <td>M</td>\n",
       "    </tr>\n",
       "    <tr>\n",
       "      <th>2</th>\n",
       "      <td>Sanika</td>\n",
       "      <td>35</td>\n",
       "      <td>M</td>\n",
       "    </tr>\n",
       "    <tr>\n",
       "      <th>3</th>\n",
       "      <td>Dave</td>\n",
       "      <td>40</td>\n",
       "      <td>M</td>\n",
       "    </tr>\n",
       "  </tbody>\n",
       "</table>\n",
       "</div>"
      ],
      "text/plain": [
       "      Name  Age Gender\n",
       "0  Sanjana   25      F\n",
       "1     miya   30      M\n",
       "2   Sanika   35      M\n",
       "3     Dave   40      M"
      ]
     },
     "execution_count": 76,
     "metadata": {},
     "output_type": "execute_result"
    }
   ],
   "source": [
    "df"
   ]
  },
  {
   "cell_type": "code",
   "execution_count": null,
   "id": "f93ce007-ef7c-4bfd-90ab-e56734dd355c",
   "metadata": {},
   "outputs": [],
   "source": []
  }
 ],
 "metadata": {
  "kernelspec": {
   "display_name": "Python 3 (ipykernel)",
   "language": "python",
   "name": "python3"
  },
  "language_info": {
   "codemirror_mode": {
    "name": "ipython",
    "version": 3
   },
   "file_extension": ".py",
   "mimetype": "text/x-python",
   "name": "python",
   "nbconvert_exporter": "python",
   "pygments_lexer": "ipython3",
   "version": "3.10.8"
  }
 },
 "nbformat": 4,
 "nbformat_minor": 5
}
