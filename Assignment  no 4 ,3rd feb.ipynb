{
 "cells": [
  {
   "cell_type": "code",
   "execution_count": 74,
   "id": "647bfa64-3948-4021-b0a8-0deba28f84c5",
   "metadata": {},
   "outputs": [],
   "source": [
    "# Q.1 Which keyword is used to create a function . Create a function to return a list of odd numbers in the range of 1 to 25.\n",
    "\n",
    "# Ans= \"def\" keyword is used to create a function.\n",
    "\n",
    "# function to return a list of odd numbers in range 1-25 :\n",
    "\n",
    "\n",
    "l=[1,2,3,4,5,6,7,8,9,10,11,12,13,14,15,16,17,18,19,20,21,22,23,24,25]\n",
    "        \n",
    "l1=[]\n",
    "def odd(l):\n",
    "    for i in l:\n",
    "        if i%2!=0:\n",
    "            l1.append(i)\n",
    "    return l1\n",
    "    \n",
    "    \n"
   ]
  },
  {
   "cell_type": "code",
   "execution_count": 75,
   "id": "6c6bc83b-874e-4e81-b004-c739013479b8",
   "metadata": {},
   "outputs": [
    {
     "data": {
      "text/plain": [
       "[1, 3, 5, 7, 9, 11, 13, 15, 17, 19, 21, 23, 25]"
      ]
     },
     "execution_count": 75,
     "metadata": {},
     "output_type": "execute_result"
    }
   ],
   "source": [
    "odd(l)"
   ]
  },
  {
   "cell_type": "code",
   "execution_count": 80,
   "id": "f361ded8-875e-4445-84c1-ca7d8669e245",
   "metadata": {},
   "outputs": [],
   "source": [
    "# Q.2 Why *args and**kwargs is used in some functions . Create a function each for *args and **kwargs to demonstrate their uses.\n",
    "\n",
    "# Why *args is used :\n",
    "     # *args is used  to take n number of arguments.\n",
    "\n",
    "# Why **kwargs is used:\n",
    "    # **kwargs is used to take arguments in dictionay format or to take dictionary as input.\n",
    "    \n",
    "# Example of *args:\n",
    " \n",
    "def test(*args):\n",
    "    return args\n",
    "    \n",
    "    "
   ]
  },
  {
   "cell_type": "code",
   "execution_count": 81,
   "id": "987bdd1c-de35-4e9b-8f49-539be8cdece2",
   "metadata": {},
   "outputs": [
    {
     "data": {
      "text/plain": [
       "(1, 2, 3, 4)"
      ]
     },
     "execution_count": 81,
     "metadata": {},
     "output_type": "execute_result"
    }
   ],
   "source": [
    "test(1,2,3,4)"
   ]
  },
  {
   "cell_type": "code",
   "execution_count": 82,
   "id": "d8c20535-4d94-4446-b09f-c8ccedb161fc",
   "metadata": {},
   "outputs": [],
   "source": [
    "# Example of **kwargs:\n",
    "\n",
    "def test1(**kwargs):\n",
    "    return kwargs"
   ]
  },
  {
   "cell_type": "code",
   "execution_count": 85,
   "id": "a352c8f2-01d7-4de9-8623-2e3f264a2a67",
   "metadata": {},
   "outputs": [
    {
     "data": {
      "text/plain": [
       "{'k': 'pwskills', 'k2': 'raj', 'k3': 'ram'}"
      ]
     },
     "execution_count": 85,
     "metadata": {},
     "output_type": "execute_result"
    }
   ],
   "source": [
    "test1(k=\"pwskills\",k2=\"raj\",k3=\"ram\")"
   ]
  },
  {
   "cell_type": "code",
   "execution_count": 11,
   "id": "9d8e7cce-9eeb-4375-809b-12105bd64dbb",
   "metadata": {},
   "outputs": [],
   "source": [
    "# Q.3 What is an iterator in python .Name the method used to initialize the itertor object and the method used for iteration .Use these \n",
    "#     methods to print the first five elements of the given list [2,4,6,8,10,12,14,16,18,20]\n",
    "\n",
    "# Iterator:\n",
    "#        iterator is an object that contains a countable number of values.\n",
    "\n",
    "# Method used to intialize the iterator object:\n",
    "#            \"iter()\" method is used to intialize iterator object.\n",
    "\n",
    "# Method used for iteration is fixed point iteration method.\n",
    "\n",
    "l=[2,4,6,8,10,12,14,16,18,20]\n",
    "l1=iter(l)\n",
    "\n"
   ]
  },
  {
   "cell_type": "code",
   "execution_count": 12,
   "id": "a472e091-cb7d-46e6-a0e0-d00f8961711f",
   "metadata": {},
   "outputs": [
    {
     "data": {
      "text/plain": [
       "2"
      ]
     },
     "execution_count": 12,
     "metadata": {},
     "output_type": "execute_result"
    }
   ],
   "source": [
    "next(l1)"
   ]
  },
  {
   "cell_type": "code",
   "execution_count": 13,
   "id": "aa2dc2f7-745a-42c8-b102-782170a6052a",
   "metadata": {},
   "outputs": [
    {
     "data": {
      "text/plain": [
       "4"
      ]
     },
     "execution_count": 13,
     "metadata": {},
     "output_type": "execute_result"
    }
   ],
   "source": [
    "next(l1)"
   ]
  },
  {
   "cell_type": "code",
   "execution_count": 15,
   "id": "5516b01a-5734-4761-86b9-cab5f894b8fd",
   "metadata": {},
   "outputs": [
    {
     "data": {
      "text/plain": [
       "6"
      ]
     },
     "execution_count": 15,
     "metadata": {},
     "output_type": "execute_result"
    }
   ],
   "source": [
    "next(l1)"
   ]
  },
  {
   "cell_type": "code",
   "execution_count": 16,
   "id": "b010f49f-985f-4eee-82ac-b9d3f66f8d6c",
   "metadata": {},
   "outputs": [
    {
     "data": {
      "text/plain": [
       "8"
      ]
     },
     "execution_count": 16,
     "metadata": {},
     "output_type": "execute_result"
    }
   ],
   "source": [
    "next(l1)"
   ]
  },
  {
   "cell_type": "code",
   "execution_count": 17,
   "id": "7cdf48ef-d641-47ca-a7b5-40138c3f5b7b",
   "metadata": {},
   "outputs": [
    {
     "data": {
      "text/plain": [
       "10"
      ]
     },
     "execution_count": 17,
     "metadata": {},
     "output_type": "execute_result"
    }
   ],
   "source": [
    "next(l1)"
   ]
  },
  {
   "cell_type": "code",
   "execution_count": 7,
   "id": "87dbbf92-99da-4d72-87fe-459691cbd804",
   "metadata": {},
   "outputs": [],
   "source": [
    "# Q.4 What is generator function in python . Why yield keyword id=s used .Give an example of a generator function.\n",
    "\n",
    "# Generator Function:\n",
    "#           generator function is a function that allows us to define an iterative algorithm by writing a single function whose execution \n",
    "# is not continous.\n",
    "\n",
    "# Why yield keyword is used :\n",
    "#           yield keyword is used to create a generator function.\n",
    "\n",
    "# Example:\n",
    "\n",
    "def add(a,b):\n",
    "    yield a+b\n",
    "\n",
    "    "
   ]
  },
  {
   "cell_type": "code",
   "execution_count": 8,
   "id": "3cab3d2e-edd7-4a8b-9bb6-c261aa9f8755",
   "metadata": {},
   "outputs": [
    {
     "data": {
      "text/plain": [
       "<generator object add at 0x7f60084dfca0>"
      ]
     },
     "execution_count": 8,
     "metadata": {},
     "output_type": "execute_result"
    }
   ],
   "source": [
    "add(2,4)"
   ]
  },
  {
   "cell_type": "code",
   "execution_count": 9,
   "id": "0c5f281d-5e21-4836-81a2-952925344990",
   "metadata": {},
   "outputs": [
    {
     "data": {
      "text/plain": [
       "[6]"
      ]
     },
     "execution_count": 9,
     "metadata": {},
     "output_type": "execute_result"
    }
   ],
   "source": [
    "list(add(2,4))"
   ]
  },
  {
   "cell_type": "code",
   "execution_count": 8,
   "id": "d00f4df5-0cc0-49de-9558-ecb5c5dcc311",
   "metadata": {},
   "outputs": [
    {
     "name": "stdout",
     "output_type": "stream",
     "text": [
      "2 3 5 7 11 13 17 19 23 29 31 37 41 43 47 53 59 61 67 71 73 79 83 89 97 101 103 107 109 113 127 131 137 139 149 151 157 163 167 173 179 181 191 193 197 199 211 223 227 229 233 239 241 251 257 263 269 271 277 281 283 293 307 311 313 317 331 337 347 349 353 359 367 373 379 383 389 397 401 409 419 421 431 433 439 443 449 457 461 463 467 479 487 491 499 503 509 521 523 541 547 557 563 569 571 577 587 593 599 601 607 613 617 619 631 641 643 647 653 659 661 673 677 683 691 701 709 719 727 733 739 743 751 757 761 769 773 787 797 809 811 821 823 827 829 839 853 857 859 863 877 881 883 887 907 911 919 929 937 941 947 953 967 971 977 983 991 997 "
     ]
    }
   ],
   "source": [
    "# Q.5 Create a generator function for prime numbers less than 1000 .Use the next() method to print the first 20 prime numbers.\n",
    "def isprime(num):\n",
    "    for i in range(2,num):\n",
    "        if num%i==0:\n",
    "            return False\n",
    "    return True    \n",
    "def prime(n):\n",
    "    num =2\n",
    "    while n>0:\n",
    "        if isprime(num):\n",
    "            yield num\n",
    "            n=n-1\n",
    "        num+=1 \n",
    "    return\n",
    "it=prime(168)\n",
    "for s in it :\n",
    "     print(s,end=\" \")\n",
    "\n",
    "        \n",
    "            \n",
    "    "
   ]
  },
  {
   "cell_type": "code",
   "execution_count": 20,
   "id": "c7895f68-0128-4710-81c7-9a72c0968a5a",
   "metadata": {},
   "outputs": [],
   "source": [
    "l3=list(prime(168))"
   ]
  },
  {
   "cell_type": "code",
   "execution_count": 30,
   "id": "8acd9e64-0beb-41e0-9326-548941f0c471",
   "metadata": {},
   "outputs": [],
   "source": [
    "l4=iter(l3)"
   ]
  },
  {
   "cell_type": "code",
   "execution_count": 31,
   "id": "6ef27547-5df8-4ec0-abb8-720cf13c018e",
   "metadata": {},
   "outputs": [
    {
     "data": {
      "text/plain": [
       "2"
      ]
     },
     "execution_count": 31,
     "metadata": {},
     "output_type": "execute_result"
    }
   ],
   "source": [
    "next(l4)     #1"
   ]
  },
  {
   "cell_type": "code",
   "execution_count": 32,
   "id": "2c004f7e-e7b0-4897-8968-500bdeb94469",
   "metadata": {},
   "outputs": [
    {
     "data": {
      "text/plain": [
       "3"
      ]
     },
     "execution_count": 32,
     "metadata": {},
     "output_type": "execute_result"
    }
   ],
   "source": [
    "next(l4)  #2"
   ]
  },
  {
   "cell_type": "code",
   "execution_count": 33,
   "id": "03a6d421-2942-4c90-a9dd-6a06ed1d0764",
   "metadata": {},
   "outputs": [
    {
     "data": {
      "text/plain": [
       "5"
      ]
     },
     "execution_count": 33,
     "metadata": {},
     "output_type": "execute_result"
    }
   ],
   "source": [
    "next(l4)  #3"
   ]
  },
  {
   "cell_type": "code",
   "execution_count": 34,
   "id": "8c188ccb-302e-4eda-a183-1fdda1ef8fa1",
   "metadata": {},
   "outputs": [
    {
     "data": {
      "text/plain": [
       "7"
      ]
     },
     "execution_count": 34,
     "metadata": {},
     "output_type": "execute_result"
    }
   ],
   "source": [
    "next(l4)   #4"
   ]
  },
  {
   "cell_type": "code",
   "execution_count": 35,
   "id": "0f51cf2f-6821-4e7e-b231-ac975d124f5b",
   "metadata": {},
   "outputs": [
    {
     "data": {
      "text/plain": [
       "11"
      ]
     },
     "execution_count": 35,
     "metadata": {},
     "output_type": "execute_result"
    }
   ],
   "source": [
    "next(l4)  #5"
   ]
  },
  {
   "cell_type": "code",
   "execution_count": 37,
   "id": "19efb4bb-7e9e-477c-9597-ccae28ec0855",
   "metadata": {},
   "outputs": [
    {
     "data": {
      "text/plain": [
       "13"
      ]
     },
     "execution_count": 37,
     "metadata": {},
     "output_type": "execute_result"
    }
   ],
   "source": [
    "next(l4)   #6"
   ]
  },
  {
   "cell_type": "code",
   "execution_count": 38,
   "id": "42d0990b-64c7-40d6-9cc5-51798b9ab929",
   "metadata": {},
   "outputs": [
    {
     "data": {
      "text/plain": [
       "17"
      ]
     },
     "execution_count": 38,
     "metadata": {},
     "output_type": "execute_result"
    }
   ],
   "source": [
    "next(l4)   #7"
   ]
  },
  {
   "cell_type": "code",
   "execution_count": 39,
   "id": "806bb979-cfda-4465-b571-f7910cd18cb2",
   "metadata": {},
   "outputs": [
    {
     "data": {
      "text/plain": [
       "19"
      ]
     },
     "execution_count": 39,
     "metadata": {},
     "output_type": "execute_result"
    }
   ],
   "source": [
    "next(l4)   #8"
   ]
  },
  {
   "cell_type": "code",
   "execution_count": 40,
   "id": "5262edb3-f6d1-4ed4-b0cc-5c3a29828f72",
   "metadata": {},
   "outputs": [
    {
     "data": {
      "text/plain": [
       "23"
      ]
     },
     "execution_count": 40,
     "metadata": {},
     "output_type": "execute_result"
    }
   ],
   "source": [
    "next(l4)  #9"
   ]
  },
  {
   "cell_type": "code",
   "execution_count": 41,
   "id": "4c67c632-ca8b-4245-b263-13cc5c5447c9",
   "metadata": {},
   "outputs": [
    {
     "data": {
      "text/plain": [
       "29"
      ]
     },
     "execution_count": 41,
     "metadata": {},
     "output_type": "execute_result"
    }
   ],
   "source": [
    "next(l4)  #10"
   ]
  },
  {
   "cell_type": "code",
   "execution_count": 42,
   "id": "a717484c-520c-4c3e-a69a-d070363206a7",
   "metadata": {},
   "outputs": [
    {
     "data": {
      "text/plain": [
       "31"
      ]
     },
     "execution_count": 42,
     "metadata": {},
     "output_type": "execute_result"
    }
   ],
   "source": [
    "next(l4)   #11"
   ]
  },
  {
   "cell_type": "code",
   "execution_count": 43,
   "id": "ef49a6c4-9faf-4499-8adf-67389b6adb76",
   "metadata": {},
   "outputs": [
    {
     "data": {
      "text/plain": [
       "37"
      ]
     },
     "execution_count": 43,
     "metadata": {},
     "output_type": "execute_result"
    }
   ],
   "source": [
    "next(l4)   #12"
   ]
  },
  {
   "cell_type": "code",
   "execution_count": 44,
   "id": "9d297943-acf7-4564-93d0-3809662fb696",
   "metadata": {},
   "outputs": [
    {
     "data": {
      "text/plain": [
       "41"
      ]
     },
     "execution_count": 44,
     "metadata": {},
     "output_type": "execute_result"
    }
   ],
   "source": [
    "next(l4) #13"
   ]
  },
  {
   "cell_type": "code",
   "execution_count": 45,
   "id": "04255c30-ce8f-4d97-b17f-ea4ab2ab87ef",
   "metadata": {},
   "outputs": [
    {
     "data": {
      "text/plain": [
       "43"
      ]
     },
     "execution_count": 45,
     "metadata": {},
     "output_type": "execute_result"
    }
   ],
   "source": [
    "next(l4)  #14"
   ]
  },
  {
   "cell_type": "code",
   "execution_count": 46,
   "id": "4abfb3c8-9d48-44e5-b513-15d17ba1e6a1",
   "metadata": {},
   "outputs": [
    {
     "data": {
      "text/plain": [
       "47"
      ]
     },
     "execution_count": 46,
     "metadata": {},
     "output_type": "execute_result"
    }
   ],
   "source": [
    "next(l4)  #15"
   ]
  },
  {
   "cell_type": "code",
   "execution_count": 47,
   "id": "e6284fb7-ae7a-4c20-b250-24ccb20d7617",
   "metadata": {},
   "outputs": [
    {
     "data": {
      "text/plain": [
       "53"
      ]
     },
     "execution_count": 47,
     "metadata": {},
     "output_type": "execute_result"
    }
   ],
   "source": [
    "next(l4)  #16"
   ]
  },
  {
   "cell_type": "code",
   "execution_count": 48,
   "id": "45190232-6578-428a-a9f2-1cd9ee7ea1d2",
   "metadata": {},
   "outputs": [
    {
     "data": {
      "text/plain": [
       "59"
      ]
     },
     "execution_count": 48,
     "metadata": {},
     "output_type": "execute_result"
    }
   ],
   "source": [
    "next(l4)   #16"
   ]
  },
  {
   "cell_type": "code",
   "execution_count": 49,
   "id": "f5949f32-cc17-4fa3-b743-5b939f896d56",
   "metadata": {},
   "outputs": [
    {
     "data": {
      "text/plain": [
       "61"
      ]
     },
     "execution_count": 49,
     "metadata": {},
     "output_type": "execute_result"
    }
   ],
   "source": [
    "next(l4)  #17"
   ]
  },
  {
   "cell_type": "code",
   "execution_count": 50,
   "id": "26dbbfa8-9e5a-4c83-9b83-910f27c249c2",
   "metadata": {},
   "outputs": [
    {
     "data": {
      "text/plain": [
       "67"
      ]
     },
     "execution_count": 50,
     "metadata": {},
     "output_type": "execute_result"
    }
   ],
   "source": [
    "next(l4) #18"
   ]
  },
  {
   "cell_type": "code",
   "execution_count": 51,
   "id": "a52a54ad-d341-41c3-8d8c-fa21c2b8a522",
   "metadata": {},
   "outputs": [
    {
     "data": {
      "text/plain": [
       "71"
      ]
     },
     "execution_count": 51,
     "metadata": {},
     "output_type": "execute_result"
    }
   ],
   "source": [
    "next(l4)  #19"
   ]
  },
  {
   "cell_type": "code",
   "execution_count": 52,
   "id": "cfa2ad7c-18db-4cae-a07c-d964abc0781b",
   "metadata": {},
   "outputs": [
    {
     "data": {
      "text/plain": [
       "73"
      ]
     },
     "execution_count": 52,
     "metadata": {},
     "output_type": "execute_result"
    }
   ],
   "source": [
    "next(l4)  #20"
   ]
  },
  {
   "cell_type": "code",
   "execution_count": 6,
   "id": "a3ee65bf-3b34-492e-bca6-ce43af81f3db",
   "metadata": {},
   "outputs": [],
   "source": [
    "# Q.6 Write a python program to print the first 10 fibinacci numbers using a while loop.\n",
    "\n",
    "def test_fib():\n",
    "    a,b=0,1\n",
    "    while True:\n",
    "        yield a\n",
    "        a,b=b,a+b\n",
    "    \n",
    "    "
   ]
  },
  {
   "cell_type": "code",
   "execution_count": 7,
   "id": "d2eeb837-21c0-4ac7-acb7-9135356e6ef6",
   "metadata": {},
   "outputs": [],
   "source": [
    "fib=test_fib()"
   ]
  },
  {
   "cell_type": "code",
   "execution_count": 8,
   "id": "f9607fa5-4ebc-4d31-ac17-41190bcdc1a9",
   "metadata": {},
   "outputs": [
    {
     "name": "stdout",
     "output_type": "stream",
     "text": [
      "0\n",
      "1\n",
      "1\n",
      "2\n",
      "3\n",
      "5\n",
      "8\n",
      "13\n",
      "21\n",
      "34\n"
     ]
    }
   ],
   "source": [
    "for i in range(10):\n",
    "    print(next(fib))"
   ]
  },
  {
   "cell_type": "code",
   "execution_count": 10,
   "id": "0850b829-efe9-48ab-ac88-9829ff95f8de",
   "metadata": {},
   "outputs": [
    {
     "data": {
      "text/plain": [
       "['p', 'w', 's', 'k', 'i', 'l', 'l', 's']"
      ]
     },
     "execution_count": 10,
     "metadata": {},
     "output_type": "execute_result"
    }
   ],
   "source": [
    "# Q.7 Write a list comprehention to iterate through the given string:\"pwskills\".\n",
    "#    Expected output:['p','w','s','k','i','l,'l','s']\n",
    "\n",
    "s=\"pwskills\"\n",
    "list(i for i in s)"
   ]
  },
  {
   "cell_type": "code",
   "execution_count": 31,
   "id": "6e491bb8-2004-47d2-885a-8af160dce166",
   "metadata": {},
   "outputs": [
    {
     "name": "stdout",
     "output_type": "stream",
     "text": [
      "No is palindrome\n"
     ]
    }
   ],
   "source": [
    "# Q.8 Write a python program to check whether a given number is Palindrome or not using a while loop.\n",
    "\n",
    "no= 121                                      #int(input(\"Enter the no\"))\n",
    "temp=no\n",
    "rev=0\n",
    "\n",
    "while no>0:\n",
    "    dig=no%10\n",
    "    rev=rev*10+dig\n",
    "    no=no//10\n",
    "\n",
    "if temp==rev:\n",
    "    print(\"No is palindrome\")\n",
    "else:\n",
    "    print(\"No is not palindrom  \")\n",
    "        "
   ]
  },
  {
   "cell_type": "code",
   "execution_count": 7,
   "id": "e07a65ca-a907-456f-a78c-417f6567fa8d",
   "metadata": {},
   "outputs": [],
   "source": [
    "# Q.9 Write a code to print odd numbers from 1 to 100 using list comprehension.\n",
    "\n",
    "l=[[i for i in range(1,101)]]"
   ]
  },
  {
   "cell_type": "code",
   "execution_count": 8,
   "id": "de2a495d-0bd1-4770-b90d-7e0397375650",
   "metadata": {},
   "outputs": [
    {
     "data": {
      "text/plain": [
       "[[1,\n",
       "  2,\n",
       "  3,\n",
       "  4,\n",
       "  5,\n",
       "  6,\n",
       "  7,\n",
       "  8,\n",
       "  9,\n",
       "  10,\n",
       "  11,\n",
       "  12,\n",
       "  13,\n",
       "  14,\n",
       "  15,\n",
       "  16,\n",
       "  17,\n",
       "  18,\n",
       "  19,\n",
       "  20,\n",
       "  21,\n",
       "  22,\n",
       "  23,\n",
       "  24,\n",
       "  25,\n",
       "  26,\n",
       "  27,\n",
       "  28,\n",
       "  29,\n",
       "  30,\n",
       "  31,\n",
       "  32,\n",
       "  33,\n",
       "  34,\n",
       "  35,\n",
       "  36,\n",
       "  37,\n",
       "  38,\n",
       "  39,\n",
       "  40,\n",
       "  41,\n",
       "  42,\n",
       "  43,\n",
       "  44,\n",
       "  45,\n",
       "  46,\n",
       "  47,\n",
       "  48,\n",
       "  49,\n",
       "  50,\n",
       "  51,\n",
       "  52,\n",
       "  53,\n",
       "  54,\n",
       "  55,\n",
       "  56,\n",
       "  57,\n",
       "  58,\n",
       "  59,\n",
       "  60,\n",
       "  61,\n",
       "  62,\n",
       "  63,\n",
       "  64,\n",
       "  65,\n",
       "  66,\n",
       "  67,\n",
       "  68,\n",
       "  69,\n",
       "  70,\n",
       "  71,\n",
       "  72,\n",
       "  73,\n",
       "  74,\n",
       "  75,\n",
       "  76,\n",
       "  77,\n",
       "  78,\n",
       "  79,\n",
       "  80,\n",
       "  81,\n",
       "  82,\n",
       "  83,\n",
       "  84,\n",
       "  85,\n",
       "  86,\n",
       "  87,\n",
       "  88,\n",
       "  89,\n",
       "  90,\n",
       "  91,\n",
       "  92,\n",
       "  93,\n",
       "  94,\n",
       "  95,\n",
       "  96,\n",
       "  97,\n",
       "  98,\n",
       "  99,\n",
       "  100]]"
      ]
     },
     "execution_count": 8,
     "metadata": {},
     "output_type": "execute_result"
    }
   ],
   "source": [
    "l"
   ]
  },
  {
   "cell_type": "code",
   "execution_count": 53,
   "id": "77caf979-1dca-42a6-8ea0-53e59f7aae2c",
   "metadata": {},
   "outputs": [],
   "source": [
    "oddlist=[i for i in range(0,101) if i%2==1]"
   ]
  },
  {
   "cell_type": "code",
   "execution_count": 55,
   "id": "2bad9af5-3844-4768-85d6-0e96b21beaee",
   "metadata": {},
   "outputs": [
    {
     "data": {
      "text/plain": [
       "[1,\n",
       " 3,\n",
       " 5,\n",
       " 7,\n",
       " 9,\n",
       " 11,\n",
       " 13,\n",
       " 15,\n",
       " 17,\n",
       " 19,\n",
       " 21,\n",
       " 23,\n",
       " 25,\n",
       " 27,\n",
       " 29,\n",
       " 31,\n",
       " 33,\n",
       " 35,\n",
       " 37,\n",
       " 39,\n",
       " 41,\n",
       " 43,\n",
       " 45,\n",
       " 47,\n",
       " 49,\n",
       " 51,\n",
       " 53,\n",
       " 55,\n",
       " 57,\n",
       " 59,\n",
       " 61,\n",
       " 63,\n",
       " 65,\n",
       " 67,\n",
       " 69,\n",
       " 71,\n",
       " 73,\n",
       " 75,\n",
       " 77,\n",
       " 79,\n",
       " 81,\n",
       " 83,\n",
       " 85,\n",
       " 87,\n",
       " 89,\n",
       " 91,\n",
       " 93,\n",
       " 95,\n",
       " 97,\n",
       " 99]"
      ]
     },
     "execution_count": 55,
     "metadata": {},
     "output_type": "execute_result"
    }
   ],
   "source": [
    "oddlist"
   ]
  },
  {
   "cell_type": "code",
   "execution_count": null,
   "id": "1ef17ba6-7aa8-49d1-b0e0-9268922e326a",
   "metadata": {},
   "outputs": [],
   "source": []
  }
 ],
 "metadata": {
  "kernelspec": {
   "display_name": "Python 3 (ipykernel)",
   "language": "python",
   "name": "python3"
  },
  "language_info": {
   "codemirror_mode": {
    "name": "ipython",
    "version": 3
   },
   "file_extension": ".py",
   "mimetype": "text/x-python",
   "name": "python",
   "nbconvert_exporter": "python",
   "pygments_lexer": "ipython3",
   "version": "3.10.8"
  }
 },
 "nbformat": 4,
 "nbformat_minor": 5
}
