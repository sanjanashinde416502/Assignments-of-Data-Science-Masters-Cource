{
 "cells": [
  {
   "cell_type": "code",
   "execution_count": 34,
   "id": "e740ef98-03e4-492d-a40d-c84fd372f1e1",
   "metadata": {},
   "outputs": [],
   "source": [
    "# Q.1 Which function is used to open a file ? What are the different modes of opening a file? Explain each mode of file opening.\n",
    "# Ans:\n",
    "# 1.open() function is used to open a file.\n",
    "\n",
    "# 2.The different modes of opening a file are:\n",
    "#     'r','w','x','a','b','t','+','u'\n",
    "\n",
    "# 3. Explaination of each ode of file opening are :\n",
    "\n",
    "# 'r' : open for reading (default)\n",
    "# 'w' : open for writing, truncating the file first\n",
    "# 'x' : create a new file and open it for writing\n",
    "# 'a' : open for writing, appending to the end of the file if it exists\n",
    "# 'b' : binary mode\n",
    "# 't' : text mode (default)\n",
    "# '+' : open a disk file for updating (reading and writing)\n",
    "# 'U' : universal newline mode (deprecated)\n",
    "\n",
    "\n"
   ]
  },
  {
   "cell_type": "code",
   "execution_count": 35,
   "id": "ac4fbf34-d423-4ffb-83ab-17a987a1da12",
   "metadata": {},
   "outputs": [],
   "source": [
    "# Q.2 Why close() function is used ? Why is it important to close a file?\n",
    "# Ans:\n",
    "# close() function is used to close the created file.\n",
    "\n",
    "# Why is it important to close a file :\n",
    "         # It is important to close file ,because file may not modified right away due to buffering .That immplies that the memory buffer\n",
    "# of the file is modified but the change is not immediately reflected into the file on disk."
   ]
  },
  {
   "cell_type": "code",
   "execution_count": 36,
   "id": "b35b77a8-81d3-4804-a57e-af93bbc9bd3e",
   "metadata": {},
   "outputs": [
    {
     "data": {
      "text/plain": [
       "33"
      ]
     },
     "execution_count": 36,
     "metadata": {},
     "output_type": "execute_result"
    }
   ],
   "source": [
    "# Q.3 Write a python program to create a text file. Write \"I want to become a Data Scientist\" in that file.Then close the file.Open this \n",
    "#     file and read the content of the file.\n",
    "# Ans:\n",
    "# Program to createa text file:\n",
    "\n",
    "f=open(\"Text.txt\",\"w\")\n",
    "f.write(\"I want to become a Data Scientist\")"
   ]
  },
  {
   "cell_type": "code",
   "execution_count": 37,
   "id": "957895bb-da8e-4e41-9379-72d8a48d5078",
   "metadata": {},
   "outputs": [],
   "source": [
    "f.close()"
   ]
  },
  {
   "cell_type": "code",
   "execution_count": 38,
   "id": "ee65fdc2-2af3-4847-ba8f-1275fcb5af73",
   "metadata": {},
   "outputs": [],
   "source": [
    "f=open(\"Text.txt\",\"r\")"
   ]
  },
  {
   "cell_type": "code",
   "execution_count": 39,
   "id": "c1c90dee-af8b-4022-a3c6-1a98aee08bf1",
   "metadata": {},
   "outputs": [
    {
     "data": {
      "text/plain": [
       "'I want to become a Data Scientist'"
      ]
     },
     "execution_count": 39,
     "metadata": {},
     "output_type": "execute_result"
    }
   ],
   "source": [
    "f.read()"
   ]
  },
  {
   "cell_type": "code",
   "execution_count": 56,
   "id": "fd9d80f9-dd5f-4526-85e9-7bc9f7fc3050",
   "metadata": {},
   "outputs": [
    {
     "data": {
      "text/plain": [
       "116"
      ]
     },
     "execution_count": 56,
     "metadata": {},
     "output_type": "execute_result"
    }
   ],
   "source": [
    "# Q.4 Explain the following with python code: read(),readline(),readlines().\n",
    "# Ans :\n",
    "# In python read() used to read wole data in file.\n",
    "# readline() used to read single line from file data.\n",
    "# readlines() is used to read data line wise from file.\n",
    "\n",
    "# code:\n",
    "f=open(\"text2.txt\",\"w\")\n",
    "f.write(\"I want to become Data Scientist.PW Skills Lab is a magic land where you charge your wand full of the craziest ideas \")\n",
    "\n"
   ]
  },
  {
   "cell_type": "code",
   "execution_count": 57,
   "id": "64426f95-0f5e-4926-8204-24f6681b01b4",
   "metadata": {},
   "outputs": [],
   "source": [
    "f.close()"
   ]
  },
  {
   "cell_type": "code",
   "execution_count": 58,
   "id": "a658e27d-9a76-409a-94c0-dd753fc0245e",
   "metadata": {},
   "outputs": [],
   "source": [
    "f=open(\"text2.txt\",\"r\")"
   ]
  },
  {
   "cell_type": "code",
   "execution_count": 59,
   "id": "903de182-4edb-406d-99f7-a0e8c9457836",
   "metadata": {},
   "outputs": [
    {
     "data": {
      "text/plain": [
       "'I want to become Data Scientist.PW Skills Lab is a magic land where you charge your wand full of the craziest ideas '"
      ]
     },
     "execution_count": 59,
     "metadata": {},
     "output_type": "execute_result"
    }
   ],
   "source": [
    "f.read()"
   ]
  },
  {
   "cell_type": "code",
   "execution_count": 60,
   "id": "3125aaf3-5167-4f6e-9fd5-db23a7a8383a",
   "metadata": {},
   "outputs": [
    {
     "data": {
      "text/plain": [
       "0"
      ]
     },
     "execution_count": 60,
     "metadata": {},
     "output_type": "execute_result"
    }
   ],
   "source": [
    "f.seek(0)"
   ]
  },
  {
   "cell_type": "code",
   "execution_count": 61,
   "id": "5d089fa1-0175-4b01-8ac2-1a05e3495deb",
   "metadata": {},
   "outputs": [
    {
     "data": {
      "text/plain": [
       "'I want to become Data Scientist.PW Skills Lab is a magic land where you charge your wand full of the craziest ideas '"
      ]
     },
     "execution_count": 61,
     "metadata": {},
     "output_type": "execute_result"
    }
   ],
   "source": [
    "f.readline()"
   ]
  },
  {
   "cell_type": "code",
   "execution_count": 46,
   "id": "a26cdcbe-b9b8-4387-a8df-46208dfd851c",
   "metadata": {},
   "outputs": [
    {
     "name": "stdout",
     "output_type": "stream",
     "text": [
      "['I want to become Data Scientist.PW Skills Lab is a magic land where you charge your wand full of the craziest ideas and witness successful projects coming to life.']\n"
     ]
    }
   ],
   "source": [
    "f=open(\"text2.txt\",\"r\")\n",
    "f1=f.readlines()\n",
    "print(f1)\n",
    "f.close()\n",
    "\n"
   ]
  },
  {
   "cell_type": "code",
   "execution_count": 47,
   "id": "ad1ac52a-e608-493d-beb0-00c1f4688b24",
   "metadata": {},
   "outputs": [],
   "source": [
    "# Q.5 Explain why with statement is used with open() .What is the advantage of using with statement and open() together.\n",
    "# Ans:\n",
    "#         The with statement works with the open() function to open file. Unlike open() where you have to close the file with the close ()\n",
    "# method ,the with statement closes the file for you without you telling it to do.\n",
    "\n",
    "# Advantage of using with statement and open() together.\n",
    "#          The advantage of using with statement and open() together is that unlike open() where we have to close the file with the close() method ,\n",
    "# the with statement closes the file for us without we tell it to close. \n",
    "\n",
    "\n"
   ]
  },
  {
   "cell_type": "code",
   "execution_count": 48,
   "id": "f8c91373-7be4-48a1-9850-2a84f6c0b747",
   "metadata": {},
   "outputs": [
    {
     "data": {
      "text/plain": [
       "39"
      ]
     },
     "execution_count": 48,
     "metadata": {},
     "output_type": "execute_result"
    }
   ],
   "source": [
    "# Q.6 Explain the write () and writelines() functions . Give a suitable example.\n",
    "# Ans:\n",
    "# Explaination :\n",
    "# 1.write() :\n",
    "#       The write() function is used to write a string to an already opened file .\n",
    "\n",
    "# 2.writelines():\n",
    "#       The writelines() method is used to write a list of strings in an opened file.\n",
    "\n",
    "f=open(\"test2.txt\",\"w\")\n",
    "f.write(\"I want to become a great Data Scientist\")\n"
   ]
  },
  {
   "cell_type": "code",
   "execution_count": 49,
   "id": "a7b54e5d-e825-4141-8bc9-12c04f231fe6",
   "metadata": {},
   "outputs": [],
   "source": [
    "f.close()"
   ]
  },
  {
   "cell_type": "code",
   "execution_count": 50,
   "id": "7b667eb4-f9d4-4007-822f-d3901a7f6ed7",
   "metadata": {},
   "outputs": [],
   "source": [
    "f=open(\"test2.txt\",\"r\")"
   ]
  },
  {
   "cell_type": "code",
   "execution_count": 51,
   "id": "7d018e5b-a2dd-4599-879f-94ddf17ad922",
   "metadata": {},
   "outputs": [
    {
     "data": {
      "text/plain": [
       "'I want to become a great Data Scientist'"
      ]
     },
     "execution_count": 51,
     "metadata": {},
     "output_type": "execute_result"
    }
   ],
   "source": [
    "f.read()"
   ]
  },
  {
   "cell_type": "code",
   "execution_count": 62,
   "id": "1aae033b-b590-4fc5-a123-a6d079d4c7b6",
   "metadata": {},
   "outputs": [],
   "source": [
    "# by using writelines():\n",
    "with open(\"text2.txt\",\"w\") as f:\n",
    "    f1= f.writelines(\"This is a great day . PW Skills Lab is a magic land where you charge your wand full of the craziest ideas \")\n",
    "    "
   ]
  },
  {
   "cell_type": "code",
   "execution_count": 63,
   "id": "478fb86c-4976-496d-aff5-bd0347b03c22",
   "metadata": {},
   "outputs": [],
   "source": [
    "f.close()"
   ]
  },
  {
   "cell_type": "code",
   "execution_count": 64,
   "id": "9b091e7f-8ad1-4760-9967-7f117d7a3a9c",
   "metadata": {},
   "outputs": [],
   "source": [
    "f=open(\"text2.txt\",\"r\")"
   ]
  },
  {
   "cell_type": "code",
   "execution_count": 65,
   "id": "7a3ab11a-cdbf-47fc-aa97-eb86c08711a4",
   "metadata": {},
   "outputs": [
    {
     "data": {
      "text/plain": [
       "'This is a great day . PW Skills Lab is a magic land where you charge your wand full of the craziest ideas '"
      ]
     },
     "execution_count": 65,
     "metadata": {},
     "output_type": "execute_result"
    }
   ],
   "source": [
    "f.read()"
   ]
  },
  {
   "cell_type": "code",
   "execution_count": null,
   "id": "2d2d41ea-d505-4c68-9a08-77249f62f2bc",
   "metadata": {},
   "outputs": [],
   "source": []
  }
 ],
 "metadata": {
  "kernelspec": {
   "display_name": "Python 3 (ipykernel)",
   "language": "python",
   "name": "python3"
  },
  "language_info": {
   "codemirror_mode": {
    "name": "ipython",
    "version": 3
   },
   "file_extension": ".py",
   "mimetype": "text/x-python",
   "name": "python",
   "nbconvert_exporter": "python",
   "pygments_lexer": "ipython3",
   "version": "3.10.8"
  }
 },
 "nbformat": 4,
 "nbformat_minor": 5
}
